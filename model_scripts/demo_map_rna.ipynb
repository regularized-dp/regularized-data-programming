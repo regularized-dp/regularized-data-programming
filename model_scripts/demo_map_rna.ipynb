{
 "cells": [
  {
   "cell_type": "markdown",
   "id": "b1c09080-07b6-436b-aa82-60167893d946",
   "metadata": {},
   "source": [
    "# Regularized data programming with maximum a posteriori estimation\n",
    "\n",
    "**Demo of code base on RNA.**"
   ]
  },
  {
   "cell_type": "markdown",
   "id": "32f7cfc6-1ba7-47a7-ae05-3a09d81e0a9d",
   "metadata": {},
   "source": [
    "## Preamble"
   ]
  },
  {
   "cell_type": "code",
   "execution_count": 1,
   "id": "a2d9ae28-b0f5-421d-9060-cfbfc3a2f764",
   "metadata": {},
   "outputs": [],
   "source": [
    "# Importations.\n",
    "import pandas as pd\n",
    "import numpy as np\n",
    "import torch\n",
    "from bayesian_dp import BayesianDP\n",
    "from utils import Utils\n",
    "from train_test import Trainer"
   ]
  },
  {
   "cell_type": "markdown",
   "id": "fc41c83c-6f2c-417f-960d-26b0c50f5e2a",
   "metadata": {},
   "source": [
    "## Read data"
   ]
  },
  {
   "cell_type": "code",
   "execution_count": 2,
   "id": "8e05dbc3-7afe-4920-b130-141648b39742",
   "metadata": {},
   "outputs": [
    {
     "name": "stdout",
     "output_type": "stream",
     "text": [
      "\n",
      "---------------------------\n",
      "TRAINING DATA:\n",
      "---------------------------\n",
      "\n",
      "<class 'pandas.core.frame.DataFrame'>\n",
      "RangeIndex: 1656 entries, 0 to 1655\n",
      "Data columns (total 5 columns):\n",
      " #   Column   Non-Null Count  Dtype\n",
      "---  ------   --------------  -----\n",
      " 0   0        1656 non-null   int64\n",
      " 1   1        1656 non-null   int64\n",
      " 2   2        1656 non-null   int64\n",
      " 3   Label    1656 non-null   int64\n",
      " 4   Snorkel  1656 non-null   int64\n",
      "dtypes: int64(5)\n",
      "memory usage: 64.8 KB\n",
      "None\n"
     ]
    },
    {
     "data": {
      "text/html": [
       "<div>\n",
       "<style scoped>\n",
       "    .dataframe tbody tr th:only-of-type {\n",
       "        vertical-align: middle;\n",
       "    }\n",
       "\n",
       "    .dataframe tbody tr th {\n",
       "        vertical-align: top;\n",
       "    }\n",
       "\n",
       "    .dataframe thead th {\n",
       "        text-align: right;\n",
       "    }\n",
       "</style>\n",
       "<table border=\"1\" class=\"dataframe\">\n",
       "  <thead>\n",
       "    <tr style=\"text-align: right;\">\n",
       "      <th></th>\n",
       "      <th>0</th>\n",
       "      <th>1</th>\n",
       "      <th>2</th>\n",
       "      <th>Label</th>\n",
       "      <th>Snorkel</th>\n",
       "    </tr>\n",
       "  </thead>\n",
       "  <tbody>\n",
       "    <tr>\n",
       "      <th>0</th>\n",
       "      <td>0</td>\n",
       "      <td>0</td>\n",
       "      <td>1</td>\n",
       "      <td>1</td>\n",
       "      <td>1</td>\n",
       "    </tr>\n",
       "    <tr>\n",
       "      <th>1</th>\n",
       "      <td>0</td>\n",
       "      <td>0</td>\n",
       "      <td>1</td>\n",
       "      <td>-1</td>\n",
       "      <td>1</td>\n",
       "    </tr>\n",
       "    <tr>\n",
       "      <th>2</th>\n",
       "      <td>0</td>\n",
       "      <td>-1</td>\n",
       "      <td>1</td>\n",
       "      <td>-1</td>\n",
       "      <td>-1</td>\n",
       "    </tr>\n",
       "    <tr>\n",
       "      <th>3</th>\n",
       "      <td>0</td>\n",
       "      <td>0</td>\n",
       "      <td>1</td>\n",
       "      <td>1</td>\n",
       "      <td>1</td>\n",
       "    </tr>\n",
       "    <tr>\n",
       "      <th>4</th>\n",
       "      <td>0</td>\n",
       "      <td>0</td>\n",
       "      <td>-1</td>\n",
       "      <td>-1</td>\n",
       "      <td>-1</td>\n",
       "    </tr>\n",
       "    <tr>\n",
       "      <th>...</th>\n",
       "      <td>...</td>\n",
       "      <td>...</td>\n",
       "      <td>...</td>\n",
       "      <td>...</td>\n",
       "      <td>...</td>\n",
       "    </tr>\n",
       "    <tr>\n",
       "      <th>1651</th>\n",
       "      <td>0</td>\n",
       "      <td>0</td>\n",
       "      <td>1</td>\n",
       "      <td>1</td>\n",
       "      <td>1</td>\n",
       "    </tr>\n",
       "    <tr>\n",
       "      <th>1652</th>\n",
       "      <td>0</td>\n",
       "      <td>-1</td>\n",
       "      <td>1</td>\n",
       "      <td>-1</td>\n",
       "      <td>-1</td>\n",
       "    </tr>\n",
       "    <tr>\n",
       "      <th>1653</th>\n",
       "      <td>0</td>\n",
       "      <td>-1</td>\n",
       "      <td>-1</td>\n",
       "      <td>-1</td>\n",
       "      <td>-1</td>\n",
       "    </tr>\n",
       "    <tr>\n",
       "      <th>1654</th>\n",
       "      <td>0</td>\n",
       "      <td>-1</td>\n",
       "      <td>-1</td>\n",
       "      <td>-1</td>\n",
       "      <td>-1</td>\n",
       "    </tr>\n",
       "    <tr>\n",
       "      <th>1655</th>\n",
       "      <td>0</td>\n",
       "      <td>0</td>\n",
       "      <td>1</td>\n",
       "      <td>-1</td>\n",
       "      <td>1</td>\n",
       "    </tr>\n",
       "  </tbody>\n",
       "</table>\n",
       "<p>1656 rows × 5 columns</p>\n",
       "</div>"
      ],
      "text/plain": [
       "      0  1  2  Label  Snorkel\n",
       "0     0  0  1      1        1\n",
       "1     0  0  1     -1        1\n",
       "2     0 -1  1     -1       -1\n",
       "3     0  0  1      1        1\n",
       "4     0  0 -1     -1       -1\n",
       "...  .. .. ..    ...      ...\n",
       "1651  0  0  1      1        1\n",
       "1652  0 -1  1     -1       -1\n",
       "1653  0 -1 -1     -1       -1\n",
       "1654  0 -1 -1     -1       -1\n",
       "1655  0  0  1     -1        1\n",
       "\n",
       "[1656 rows x 5 columns]"
      ]
     },
     "metadata": {},
     "output_type": "display_data"
    },
    {
     "name": "stdout",
     "output_type": "stream",
     "text": [
      "---------------------------\n",
      "VALIDATION DATA:\n",
      "---------------------------\n",
      "\n",
      "<class 'pandas.core.frame.DataFrame'>\n",
      "RangeIndex: 184 entries, 0 to 183\n",
      "Data columns (total 5 columns):\n",
      " #   Column   Non-Null Count  Dtype\n",
      "---  ------   --------------  -----\n",
      " 0   0        184 non-null    int64\n",
      " 1   1        184 non-null    int64\n",
      " 2   2        184 non-null    int64\n",
      " 3   Label    184 non-null    int64\n",
      " 4   Snorkel  184 non-null    int64\n",
      "dtypes: int64(5)\n",
      "memory usage: 7.3 KB\n",
      "None\n"
     ]
    },
    {
     "data": {
      "text/html": [
       "<div>\n",
       "<style scoped>\n",
       "    .dataframe tbody tr th:only-of-type {\n",
       "        vertical-align: middle;\n",
       "    }\n",
       "\n",
       "    .dataframe tbody tr th {\n",
       "        vertical-align: top;\n",
       "    }\n",
       "\n",
       "    .dataframe thead th {\n",
       "        text-align: right;\n",
       "    }\n",
       "</style>\n",
       "<table border=\"1\" class=\"dataframe\">\n",
       "  <thead>\n",
       "    <tr style=\"text-align: right;\">\n",
       "      <th></th>\n",
       "      <th>0</th>\n",
       "      <th>1</th>\n",
       "      <th>2</th>\n",
       "      <th>Label</th>\n",
       "      <th>Snorkel</th>\n",
       "    </tr>\n",
       "  </thead>\n",
       "  <tbody>\n",
       "    <tr>\n",
       "      <th>0</th>\n",
       "      <td>0</td>\n",
       "      <td>0</td>\n",
       "      <td>-1</td>\n",
       "      <td>-1</td>\n",
       "      <td>-1</td>\n",
       "    </tr>\n",
       "    <tr>\n",
       "      <th>1</th>\n",
       "      <td>0</td>\n",
       "      <td>-1</td>\n",
       "      <td>1</td>\n",
       "      <td>-1</td>\n",
       "      <td>-1</td>\n",
       "    </tr>\n",
       "    <tr>\n",
       "      <th>2</th>\n",
       "      <td>0</td>\n",
       "      <td>0</td>\n",
       "      <td>1</td>\n",
       "      <td>1</td>\n",
       "      <td>1</td>\n",
       "    </tr>\n",
       "    <tr>\n",
       "      <th>3</th>\n",
       "      <td>0</td>\n",
       "      <td>0</td>\n",
       "      <td>1</td>\n",
       "      <td>1</td>\n",
       "      <td>1</td>\n",
       "    </tr>\n",
       "    <tr>\n",
       "      <th>4</th>\n",
       "      <td>0</td>\n",
       "      <td>-1</td>\n",
       "      <td>-1</td>\n",
       "      <td>-1</td>\n",
       "      <td>-1</td>\n",
       "    </tr>\n",
       "    <tr>\n",
       "      <th>...</th>\n",
       "      <td>...</td>\n",
       "      <td>...</td>\n",
       "      <td>...</td>\n",
       "      <td>...</td>\n",
       "      <td>...</td>\n",
       "    </tr>\n",
       "    <tr>\n",
       "      <th>179</th>\n",
       "      <td>0</td>\n",
       "      <td>0</td>\n",
       "      <td>1</td>\n",
       "      <td>1</td>\n",
       "      <td>1</td>\n",
       "    </tr>\n",
       "    <tr>\n",
       "      <th>180</th>\n",
       "      <td>0</td>\n",
       "      <td>0</td>\n",
       "      <td>-1</td>\n",
       "      <td>-1</td>\n",
       "      <td>-1</td>\n",
       "    </tr>\n",
       "    <tr>\n",
       "      <th>181</th>\n",
       "      <td>0</td>\n",
       "      <td>-1</td>\n",
       "      <td>-1</td>\n",
       "      <td>-1</td>\n",
       "      <td>-1</td>\n",
       "    </tr>\n",
       "    <tr>\n",
       "      <th>182</th>\n",
       "      <td>0</td>\n",
       "      <td>-1</td>\n",
       "      <td>1</td>\n",
       "      <td>-1</td>\n",
       "      <td>-1</td>\n",
       "    </tr>\n",
       "    <tr>\n",
       "      <th>183</th>\n",
       "      <td>0</td>\n",
       "      <td>-1</td>\n",
       "      <td>-1</td>\n",
       "      <td>-1</td>\n",
       "      <td>-1</td>\n",
       "    </tr>\n",
       "  </tbody>\n",
       "</table>\n",
       "<p>184 rows × 5 columns</p>\n",
       "</div>"
      ],
      "text/plain": [
       "     0  1  2  Label  Snorkel\n",
       "0    0  0 -1     -1       -1\n",
       "1    0 -1  1     -1       -1\n",
       "2    0  0  1      1        1\n",
       "3    0  0  1      1        1\n",
       "4    0 -1 -1     -1       -1\n",
       "..  .. .. ..    ...      ...\n",
       "179  0  0  1      1        1\n",
       "180  0  0 -1     -1       -1\n",
       "181  0 -1 -1     -1       -1\n",
       "182  0 -1  1     -1       -1\n",
       "183  0 -1 -1     -1       -1\n",
       "\n",
       "[184 rows x 5 columns]"
      ]
     },
     "metadata": {},
     "output_type": "display_data"
    },
    {
     "name": "stdout",
     "output_type": "stream",
     "text": [
      "---------------------------\n",
      "TEST DATA:\n",
      "---------------------------\n",
      "\n",
      "<class 'pandas.core.frame.DataFrame'>\n",
      "RangeIndex: 460 entries, 0 to 459\n",
      "Data columns (total 5 columns):\n",
      " #   Column   Non-Null Count  Dtype\n",
      "---  ------   --------------  -----\n",
      " 0   0        460 non-null    int64\n",
      " 1   1        460 non-null    int64\n",
      " 2   2        460 non-null    int64\n",
      " 3   Label    460 non-null    int64\n",
      " 4   Snorkel  460 non-null    int64\n",
      "dtypes: int64(5)\n",
      "memory usage: 18.1 KB\n",
      "None\n"
     ]
    },
    {
     "data": {
      "text/html": [
       "<div>\n",
       "<style scoped>\n",
       "    .dataframe tbody tr th:only-of-type {\n",
       "        vertical-align: middle;\n",
       "    }\n",
       "\n",
       "    .dataframe tbody tr th {\n",
       "        vertical-align: top;\n",
       "    }\n",
       "\n",
       "    .dataframe thead th {\n",
       "        text-align: right;\n",
       "    }\n",
       "</style>\n",
       "<table border=\"1\" class=\"dataframe\">\n",
       "  <thead>\n",
       "    <tr style=\"text-align: right;\">\n",
       "      <th></th>\n",
       "      <th>0</th>\n",
       "      <th>1</th>\n",
       "      <th>2</th>\n",
       "      <th>Label</th>\n",
       "      <th>Snorkel</th>\n",
       "    </tr>\n",
       "  </thead>\n",
       "  <tbody>\n",
       "    <tr>\n",
       "      <th>0</th>\n",
       "      <td>0</td>\n",
       "      <td>0</td>\n",
       "      <td>1</td>\n",
       "      <td>1</td>\n",
       "      <td>1</td>\n",
       "    </tr>\n",
       "    <tr>\n",
       "      <th>1</th>\n",
       "      <td>0</td>\n",
       "      <td>0</td>\n",
       "      <td>-1</td>\n",
       "      <td>-1</td>\n",
       "      <td>-1</td>\n",
       "    </tr>\n",
       "    <tr>\n",
       "      <th>2</th>\n",
       "      <td>0</td>\n",
       "      <td>0</td>\n",
       "      <td>1</td>\n",
       "      <td>-1</td>\n",
       "      <td>1</td>\n",
       "    </tr>\n",
       "    <tr>\n",
       "      <th>3</th>\n",
       "      <td>0</td>\n",
       "      <td>0</td>\n",
       "      <td>1</td>\n",
       "      <td>1</td>\n",
       "      <td>1</td>\n",
       "    </tr>\n",
       "    <tr>\n",
       "      <th>4</th>\n",
       "      <td>0</td>\n",
       "      <td>0</td>\n",
       "      <td>1</td>\n",
       "      <td>1</td>\n",
       "      <td>1</td>\n",
       "    </tr>\n",
       "    <tr>\n",
       "      <th>...</th>\n",
       "      <td>...</td>\n",
       "      <td>...</td>\n",
       "      <td>...</td>\n",
       "      <td>...</td>\n",
       "      <td>...</td>\n",
       "    </tr>\n",
       "    <tr>\n",
       "      <th>455</th>\n",
       "      <td>0</td>\n",
       "      <td>0</td>\n",
       "      <td>1</td>\n",
       "      <td>1</td>\n",
       "      <td>1</td>\n",
       "    </tr>\n",
       "    <tr>\n",
       "      <th>456</th>\n",
       "      <td>0</td>\n",
       "      <td>0</td>\n",
       "      <td>-1</td>\n",
       "      <td>-1</td>\n",
       "      <td>-1</td>\n",
       "    </tr>\n",
       "    <tr>\n",
       "      <th>457</th>\n",
       "      <td>0</td>\n",
       "      <td>-1</td>\n",
       "      <td>-1</td>\n",
       "      <td>-1</td>\n",
       "      <td>-1</td>\n",
       "    </tr>\n",
       "    <tr>\n",
       "      <th>458</th>\n",
       "      <td>0</td>\n",
       "      <td>0</td>\n",
       "      <td>1</td>\n",
       "      <td>1</td>\n",
       "      <td>1</td>\n",
       "    </tr>\n",
       "    <tr>\n",
       "      <th>459</th>\n",
       "      <td>0</td>\n",
       "      <td>0</td>\n",
       "      <td>1</td>\n",
       "      <td>-1</td>\n",
       "      <td>1</td>\n",
       "    </tr>\n",
       "  </tbody>\n",
       "</table>\n",
       "<p>460 rows × 5 columns</p>\n",
       "</div>"
      ],
      "text/plain": [
       "     0  1  2  Label  Snorkel\n",
       "0    0  0  1      1        1\n",
       "1    0  0 -1     -1       -1\n",
       "2    0  0  1     -1        1\n",
       "3    0  0  1      1        1\n",
       "4    0  0  1      1        1\n",
       "..  .. .. ..    ...      ...\n",
       "455  0  0  1      1        1\n",
       "456  0  0 -1     -1       -1\n",
       "457  0 -1 -1     -1       -1\n",
       "458  0  0  1      1        1\n",
       "459  0  0  1     -1        1\n",
       "\n",
       "[460 rows x 5 columns]"
      ]
     },
     "metadata": {},
     "output_type": "display_data"
    }
   ],
   "source": [
    "# Read in labeling function matrix files.\n",
    "df_train = pd.read_csv(\"../data/rna/rna_lf_matrix_train.csv\")\n",
    "df_val = pd.read_csv(\"../data/rna/rna_lf_matrix_val.csv\")\n",
    "df_test = pd.read_csv(\"../data/rna/rna_lf_matrix_test.csv\")\n",
    "\n",
    "# Explore.\n",
    "print(\"\\n---------------------------\")\n",
    "print(\"TRAINING DATA:\")\n",
    "print(\"---------------------------\\n\")\n",
    "print(df_train.info())\n",
    "display(df_train)\n",
    "\n",
    "print(\"---------------------------\")\n",
    "print(\"VALIDATION DATA:\")\n",
    "print(\"---------------------------\\n\")\n",
    "print(df_val.info())\n",
    "display(df_val)\n",
    "\n",
    "print(\"---------------------------\")\n",
    "print(\"TEST DATA:\")\n",
    "print(\"---------------------------\\n\")\n",
    "print(df_test.info())\n",
    "display(df_test)"
   ]
  },
  {
   "cell_type": "markdown",
   "id": "b15a2734-79e5-41c3-840e-3beecc11d49b",
   "metadata": {},
   "source": [
    "## Process data"
   ]
  },
  {
   "cell_type": "code",
   "execution_count": 3,
   "id": "fa28ada2-8cae-4625-a536-ed7341f5e701",
   "metadata": {},
   "outputs": [
    {
     "name": "stdout",
     "output_type": "stream",
     "text": [
      "\n",
      "***L_train.shape = (1656, 3)\n"
     ]
    },
    {
     "data": {
      "text/plain": [
       "array([[ 0,  0,  1],\n",
       "       [ 0,  0,  1],\n",
       "       [ 0, -1,  1],\n",
       "       [ 0,  0,  1],\n",
       "       [ 0,  0, -1],\n",
       "       [ 0,  0,  1],\n",
       "       [ 0,  0,  1],\n",
       "       [ 0, -1, -1],\n",
       "       [ 0,  0,  1],\n",
       "       [ 0, -1,  1]])"
      ]
     },
     "metadata": {},
     "output_type": "display_data"
    },
    {
     "name": "stdout",
     "output_type": "stream",
     "text": [
      "\n",
      "***L_val.shape = (184, 3)\n"
     ]
    },
    {
     "data": {
      "text/plain": [
       "array([[ 0,  0, -1],\n",
       "       [ 0, -1,  1],\n",
       "       [ 0,  0,  1],\n",
       "       [ 0,  0,  1],\n",
       "       [ 0, -1, -1],\n",
       "       [ 0,  0,  1],\n",
       "       [ 0, -1, -1],\n",
       "       [ 0,  0,  1],\n",
       "       [-1, -1,  1],\n",
       "       [ 0, -1,  1]])"
      ]
     },
     "metadata": {},
     "output_type": "display_data"
    },
    {
     "name": "stdout",
     "output_type": "stream",
     "text": [
      "\n",
      "***L_test.shape = (460, 3)\n"
     ]
    },
    {
     "data": {
      "text/plain": [
       "array([[ 0,  0,  1],\n",
       "       [ 0,  0, -1],\n",
       "       [ 0,  0,  1],\n",
       "       [ 0,  0,  1],\n",
       "       [ 0,  0,  1],\n",
       "       [ 0,  0,  1],\n",
       "       [ 0,  0, -1],\n",
       "       [ 0,  0, -1],\n",
       "       [ 0,  0,  1],\n",
       "       [ 0, -1,  1]])"
      ]
     },
     "metadata": {},
     "output_type": "display_data"
    },
    {
     "data": {
      "text/plain": [
       "array([ 1, -1, -1,  1, -1,  1,  1, -1,  1, -1])"
      ]
     },
     "metadata": {},
     "output_type": "display_data"
    },
    {
     "data": {
      "text/plain": [
       "array([-1, -1,  1,  1, -1, -1, -1,  1, -1, -1])"
      ]
     },
     "metadata": {},
     "output_type": "display_data"
    },
    {
     "data": {
      "text/plain": [
       "array([ 1, -1, -1,  1,  1,  1, -1, -1,  1, -1])"
      ]
     },
     "metadata": {},
     "output_type": "display_data"
    }
   ],
   "source": [
    "# Spam dataset: Disaggregate labeling function outputs and gold labels.\n",
    "# Drop third and final LF.\n",
    "L_train = np.array(df_train.drop(columns = [\"Label\", \"Snorkel\"]))\n",
    "y_train = np.array(df_train[\"Label\"])\n",
    "\n",
    "L_val = np.array(df_val.drop(columns = [\"Label\", \"Snorkel\"]))\n",
    "y_val = np.array(df_val[\"Label\"])\n",
    "\n",
    "L_test = np.array(df_test.drop(columns = [\"Label\", \"Snorkel\"]))\n",
    "y_test = np.array(df_test[\"Label\"])\n",
    "\n",
    "print(\"\\n***L_train.shape =\", L_train.shape)\n",
    "display(L_train[:10])\n",
    "print(\"\\n***L_val.shape =\", L_val.shape)\n",
    "display(L_val[:10])\n",
    "print(\"\\n***L_test.shape =\", L_test.shape)\n",
    "display(L_test[:10])\n",
    "\n",
    "display(y_train[:10])\n",
    "display(y_val[:10])\n",
    "display(y_test[:10])"
   ]
  },
  {
   "cell_type": "markdown",
   "id": "65bea3e6-9cb8-4c91-9ed5-cb6fd764dee0",
   "metadata": {},
   "source": [
    "## Training config"
   ]
  },
  {
   "cell_type": "code",
   "execution_count": 4,
   "id": "e5309260-1415-4760-ab4a-c612e96ad74a",
   "metadata": {},
   "outputs": [
    {
     "name": "stdout",
     "output_type": "stream",
     "text": [
      "Empirical coverages =\n",
      " [0.05253623188405797, 0.3743961352657005, 1.0]\n"
     ]
    }
   ],
   "source": [
    "# Total labeling functions.\n",
    "M = L_train.shape[1]\n",
    "\n",
    "# Compute empirical betas for training data.\n",
    "empirical_coverage = []\n",
    "for i in range(L_train.shape[1]):\n",
    "    coverage = np.count_nonzero(L_train[:, i]) / L_train.shape[0]\n",
    "    empirical_coverage.append(coverage)\n",
    "print(\"Empirical coverages =\\n\", empirical_coverage)\n",
    "\n",
    "# Macros for present experiments.\n",
    "EPOCHS = 175\n",
    "LEARNING_RATE = 0.01\n",
    "TIE_POLICY = \"abstain\"\n",
    "INIT_ALPHA = [1.0] * M\n",
    "INIT_BETA = empirical_coverage\n",
    "STRENGTH = 10\n",
    "CLIP_GRADS = 10\n",
    "OPTIMIZER = torch.optim.SGD\n",
    "FORCE_ABSTAIN = False"
   ]
  },
  {
   "cell_type": "code",
   "execution_count": 5,
   "id": "7373c400-3f2d-4e5b-976d-d65ff40f9536",
   "metadata": {},
   "outputs": [],
   "source": [
    "# Instantiate Utils object for utility functions.\n",
    "utils = Utils()\n",
    "\n",
    "# Instantiate trainer.\n",
    "trainer = Trainer()"
   ]
  },
  {
   "cell_type": "code",
   "execution_count": 6,
   "id": "1b46c7aa-bfc4-4050-b5dc-d33c626fb11f",
   "metadata": {},
   "outputs": [
    {
     "name": "stdout",
     "output_type": "stream",
     "text": [
      "\n",
      "Total LFs = 3\n"
     ]
    }
   ],
   "source": [
    "print(\"\\nTotal LFs =\", M)"
   ]
  },
  {
   "cell_type": "markdown",
   "id": "79573dde-740c-47a1-b332-1b538da1310d",
   "metadata": {},
   "source": [
    "## Majority vote scores"
   ]
  },
  {
   "cell_type": "code",
   "execution_count": 7,
   "id": "9b9bcd11-afb2-4458-bf37-2df7783dd469",
   "metadata": {},
   "outputs": [
    {
     "name": "stdout",
     "output_type": "stream",
     "text": [
      "\n",
      "---------------------------------------------\n",
      "tn, fp, fn, tp = [142  39   9 165]\n",
      "F1             = 0.873015873015873\n",
      "Accuracy       = 0.8647887323943662\n",
      "Precision      = 0.8088235294117647\n",
      "Recall         = 0.9482758620689655\n",
      "ROC AUC        = 0.8664031244046485\n",
      "Coverage       = 0.7717391304347826\n",
      "---------------------------------------------\n",
      "\n"
     ]
    },
    {
     "data": {
      "image/png": "[encoded data removed]",
      "text/plain": [
       "<Figure size 360x288 with 2 Axes>"
      ]
     },
     "metadata": {
      "needs_background": "light"
     },
     "output_type": "display_data"
    }
   ],
   "source": [
    "majority_vote = utils.vote_majority(L_test, \n",
    "                                    tie_policy = TIE_POLICY)\n",
    "mv_scores = utils.score(y_test, \n",
    "                        majority_vote, \n",
    "                        verbose = True, \n",
    "                        plot_confusion = True)"
   ]
  },
  {
   "cell_type": "markdown",
   "id": "502c8720-bfe9-4500-a073-80226b05b49c",
   "metadata": {},
   "source": [
    "## Dummy classifier"
   ]
  },
  {
   "cell_type": "code",
   "execution_count": 8,
   "id": "e0a5fa51-1096-4887-9910-f3d4d1bc6186",
   "metadata": {},
   "outputs": [
    {
     "data": {
      "text/plain": [
       "-1    1028\n",
       " 1     628\n",
       "Name: Label, dtype: int64"
      ]
     },
     "execution_count": 8,
     "metadata": {},
     "output_type": "execute_result"
    }
   ],
   "source": [
    "# Identify most abundant class.\n",
    "df_train.Label.value_counts()"
   ]
  },
  {
   "cell_type": "code",
   "execution_count": 9,
   "id": "d65b7696-d073-42f6-8354-9fbeaedc5cdf",
   "metadata": {},
   "outputs": [
    {
     "name": "stdout",
     "output_type": "stream",
     "text": [
      "\n",
      "---------------------------------------------\n",
      "tn, fp, fn, tp = [286   0 174   0]\n",
      "F1             = 0.0\n",
      "Accuracy       = 0.6217391304347826\n",
      "Precision      = 0.0\n",
      "Recall         = 0.0\n",
      "ROC AUC        = 0.5\n",
      "Coverage       = 1.0\n",
      "---------------------------------------------\n",
      "\n"
     ]
    },
    {
     "data": {
      "image/png": "[encoded data removed]",
      "text/plain": [
       "<Figure size 360x288 with 2 Axes>"
      ]
     },
     "metadata": {
      "needs_background": "light"
     },
     "output_type": "display_data"
    }
   ],
   "source": [
    "# Dummy classifier: label everything most abundant class.\n",
    "dummy_scores = utils.score(y_test,\n",
    "                           np.array([-1] * len(y_test)), \n",
    "                           verbose = True, \n",
    "                           plot_confusion = True)"
   ]
  },
  {
   "cell_type": "markdown",
   "id": "229e8f25-0830-4c0c-aea3-339c6667161a",
   "metadata": {},
   "source": [
    "## Define priors\n",
    "\n",
    "### Priors based on empirical accuracy of `L_train`\n",
    "\n",
    "These are our simulated optimal priors, unrealistically obtained."
   ]
  },
  {
   "cell_type": "code",
   "execution_count": 10,
   "id": "b04d7f13-0df4-4794-bdc7-dedda9d961e4",
   "metadata": {},
   "outputs": [],
   "source": [
    "# Parameters of best performing model yet.\n",
    "# Target mean of Beta distribution.\n",
    "\n",
    "# Known accuracies of each synthetic LF on the training set.\n",
    "# NOTE: Demote 100% accuracies to 99.9999%, otherwise model cannot learn.\n",
    "empirical_accuracies = [0.999999, 0.999999, 0.680556]"
   ]
  },
  {
   "cell_type": "markdown",
   "id": "f2b0e20e-676e-445d-976f-22756b7901d0",
   "metadata": {},
   "source": [
    "### Priors based on majority vote over `L_train`\n",
    "\n",
    "These are our heuristic priors, realistically obtained."
   ]
  },
  {
   "cell_type": "code",
   "execution_count": 11,
   "id": "4b0c729a-e9a4-41d4-87cf-20ab4f4a24ae",
   "metadata": {},
   "outputs": [
    {
     "name": "stdout",
     "output_type": "stream",
     "text": [
      "\n",
      "# Estimated accuracies via majority vote = [0.999999, 0.999999, 0.9879608728367193]\n",
      "\n",
      "priors_mv =\n",
      " [0.999999, 0.999999, 0.9879608728367193]\n",
      "\n",
      "empirical accuracies =\n",
      " [0.999999, 0.999999, 0.680556]\n",
      "\n",
      "L2 (priors_mv - empirical_accuracies) = 0.30740487283671925\n"
     ]
    }
   ],
   "source": [
    "# Get priors from majority vote.\n",
    "priors_mv = utils.get_priors_majority_vote(L_train, remove_zeros = True)\n",
    "print(\"\\npriors_mv =\\n\", priors_mv)\n",
    "print(\"\\nempirical accuracies =\\n\", empirical_accuracies)\n",
    "\n",
    "l2_mv = np.linalg.norm(np.array(priors_mv) - np.array(empirical_accuracies))\n",
    "print(\"\\nL2 (priors_mv - empirical_accuracies) =\", l2_mv)"
   ]
  },
  {
   "cell_type": "markdown",
   "id": "e4579520-a4d2-4ab0-8353-9efb2ccca707",
   "metadata": {},
   "source": [
    "## Untrained MAP model"
   ]
  },
  {
   "cell_type": "code",
   "execution_count": 12,
   "id": "202271d1-4233-49f5-931d-2ef2ceca4510",
   "metadata": {},
   "outputs": [
    {
     "name": "stdout",
     "output_type": "stream",
     "text": [
      "\n",
      "---------------------------------------------\n",
      "tn, fp, fn, tp = [142  39   9 165]\n",
      "F1             = 0.873015873015873\n",
      "Accuracy       = 0.8647887323943662\n",
      "Precision      = 0.8088235294117647\n",
      "Recall         = 0.9482758620689655\n",
      "ROC AUC        = 0.8664031244046485\n",
      "Coverage       = 0.7717391304347826\n",
      "---------------------------------------------\n",
      "\n"
     ]
    },
    {
     "data": {
      "image/png": "[encoded data removed]",
      "text/plain": [
       "<Figure size 360x288 with 2 Axes>"
      ]
     },
     "metadata": {
      "needs_background": "light"
     },
     "output_type": "display_data"
    }
   ],
   "source": [
    "untrained = BayesianDP(INIT_ALPHA,\n",
    "                       INIT_BETA,\n",
    "                       priors_alpha = priors_mv)\n",
    "untrained_pred = untrained.predict(L_test, tie_policy = \"abstain\")\n",
    "untrained_scores = utils.score(y_test, \n",
    "                               untrained_pred, \n",
    "                               verbose = True, \n",
    "                               plot_confusion = True)"
   ]
  },
  {
   "cell_type": "markdown",
   "id": "19c93227-037c-4118-a37f-d7637f4016ae",
   "metadata": {},
   "source": [
    "## Train MAP model"
   ]
  },
  {
   "cell_type": "code",
   "execution_count": 13,
   "id": "4675d0eb-4995-4465-8d5c-48d9ae1fe31f",
   "metadata": {},
   "outputs": [
    {
     "name": "stdout",
     "output_type": "stream",
     "text": [
      "\n",
      "----------------- INITIAL PARAMETERS -----------------\n",
      " \n",
      "• INIT ALPHA   = tensor([1., 1., 1.]) \n",
      "• INIT BETA    = tensor([0.0525, 0.3744, 1.0000]) \n",
      "• PRIORS ALPHA = [(1000.0, 0.001000000978820026), (1000.0, 0.001000000978820026), (1000.0, 12.185833930969238)]\n",
      "\n",
      "----------------- EPOCH 0 -----------------\n",
      " \n",
      "• TRAIN LOSS = 2838.865234375\n",
      "• VAL   LOSS = 1078.777099609375\n",
      "• ALPHA      = tensor([0.7427, 0.7426, 0.7414]) \n",
      "• BETA       = tensor([0.0525, 0.3744, 1.0000])\n",
      "• ALPHA GRAD = tensor([-6.0123, -5.9647, -5.3174])\n",
      "\n",
      "----------------- EPOCH 35 -----------------\n",
      " \n",
      "• TRAIN LOSS = 2293.100830078125\n",
      "• VAL   LOSS = 465.577880859375\n",
      "• ALPHA      = tensor([0.9743, 0.9562, 0.8244]) \n",
      "• BETA       = tensor([0.0525, 0.3744, 1.0000])\n",
      "• ALPHA GRAD = tensor([-7.2982, -6.5444,  1.9766])\n",
      "\n",
      "----------------- EPOCH 70 -----------------\n",
      " \n",
      "• TRAIN LOSS = 2247.415771484375\n",
      "• VAL   LOSS = 440.8526611328125\n",
      "• ALPHA      = tensor([0.9969, 0.9945, 0.7872]) \n",
      "• BETA       = tensor([0.0525, 0.3744, 1.0000])\n",
      "• ALPHA GRAD = tensor([-2.7527, -2.6197,  9.2498])\n",
      "\n",
      "----------------- EPOCH 105 -----------------\n",
      " \n",
      "• TRAIN LOSS = 2242.942138671875\n",
      "• VAL   LOSS = 420.9774169921875\n",
      "• ALPHA      = tensor([0.9985, 0.9974, 0.8007]) \n",
      "• BETA       = tensor([0.0525, 0.3744, 1.0000])\n",
      "• ALPHA GRAD = tensor([-1.6983, -1.7850, -9.6917])\n",
      "\n",
      "----------------- EPOCH 140 -----------------\n",
      " \n",
      "• TRAIN LOSS = 2240.850341796875\n",
      "• VAL   LOSS = 435.90399169921875\n",
      "• ALPHA      = tensor([0.9991, 0.9984, 0.7840]) \n",
      "• BETA       = tensor([0.0525, 0.3744, 1.0000])\n",
      "• ALPHA GRAD = tensor([-1.2859, -1.2447,  9.8385])\n",
      "\n",
      "----------------- RESULTS -----------------\n",
      " \n",
      "• FINAL TRAIN LOSS  = 2239.52783203125 \n",
      "• FINAL ALPHA = tensor([0.9994, 0.9990, 0.7836]) \n",
      "• FINAL BETA  = tensor([0.0525, 0.3744, 1.0000])\n"
     ]
    }
   ],
   "source": [
    "# Instantiate model.\n",
    "MAP = BayesianDP(alpha = INIT_ALPHA, \n",
    "                 beta = INIT_BETA,\n",
    "                 priors_alpha = priors_mv,\n",
    "                 prior_strength = STRENGTH)\n",
    "\n",
    "# Fit model.\n",
    "scores, losses = MAP.fit(L_train, \n",
    "                         L_val = L_val,\n",
    "                         y_val = y_val,\n",
    "                         optimizer = OPTIMIZER,\n",
    "                         learning_rate = LEARNING_RATE,\n",
    "                         tie_policy = TIE_POLICY,\n",
    "                         epochs = EPOCHS, \n",
    "                         early_stopping = True,\n",
    "                         patience = 2,\n",
    "                         clip_grads = CLIP_GRADS,\n",
    "                         verbose = True)"
   ]
  },
  {
   "cell_type": "markdown",
   "id": "08d9acc4-df09-4901-9e1c-f175da7e6fe3",
   "metadata": {},
   "source": [
    "## Predict"
   ]
  },
  {
   "cell_type": "code",
   "execution_count": 16,
   "id": "2fc70435-cece-4765-8839-1844a4b695f7",
   "metadata": {},
   "outputs": [
    {
     "name": "stdout",
     "output_type": "stream",
     "text": [
      "\n",
      "---------------------------------------------\n",
      "tn, fp, fn, tp = [247  39   9 165]\n",
      "F1             = 0.873015873015873\n",
      "Accuracy       = 0.8956521739130435\n",
      "Precision      = 0.8088235294117647\n",
      "Recall         = 0.9482758620689655\n",
      "ROC AUC        = 0.9059561128526645\n",
      "Coverage       = 1.0\n",
      "---------------------------------------------\n",
      "\n"
     ]
    },
    {
     "data": {
      "image/png": "[encoded data removed]",
      "text/plain": [
       "<Figure size 360x288 with 2 Axes>"
      ]
     },
     "metadata": {
      "needs_background": "light"
     },
     "output_type": "display_data"
    }
   ],
   "source": [
    "# Predict on test matrix.\n",
    "y_pred = MAP.predict(L_test, \n",
    "                     p_y = 0.5,\n",
    "                     p_abstain = 0.5,\n",
    "                     force_abstain = FORCE_ABSTAIN,\n",
    "                     tie_policy = \"abstain\", \n",
    "                     return_proba = False)\n",
    "\n",
    "# Score test set predictions.\n",
    "test_scores = utils.score(y_test,\n",
    "                          y_pred,\n",
    "                          verbose = True, \n",
    "                          plot_confusion = True)"
   ]
  },
  {
   "cell_type": "markdown",
   "id": "3cf0be73-f835-4aff-8c79-79dcef1f4a82",
   "metadata": {},
   "source": [
    "## Train-test pipeline"
   ]
  },
  {
   "cell_type": "code",
   "execution_count": 15,
   "id": "586cf164-9180-464e-972b-342bd93f4322",
   "metadata": {},
   "outputs": [
    {
     "name": "stdout",
     "output_type": "stream",
     "text": [
      "\n",
      "----------------- INITIAL PARAMETERS -----------------\n",
      " \n",
      "• INIT ALPHA   = tensor([1., 1., 1.]) \n",
      "• INIT BETA    = tensor([0.0525, 0.3744, 1.0000]) \n",
      "• PRIORS ALPHA = [(1000.0, 0.001000000978820026), (1000.0, 0.001000000978820026), (1000.0, 12.185833930969238)]\n",
      "\n",
      "----------------- EPOCH 0 -----------------\n",
      " \n",
      "• TRAIN LOSS = 2838.865234375\n",
      "• VAL   LOSS = 1078.777099609375\n",
      "• ALPHA      = tensor([0.7427, 0.7426, 0.7414]) \n",
      "• BETA       = tensor([0.0525, 0.3744, 1.0000])\n",
      "• ALPHA GRAD = tensor([-6.0123, -5.9647, -5.3174])\n",
      "\n",
      "----------------- EPOCH 35 -----------------\n",
      " \n",
      "• TRAIN LOSS = 2293.100830078125\n",
      "• VAL   LOSS = 465.577880859375\n",
      "• ALPHA      = tensor([0.9743, 0.9562, 0.8244]) \n",
      "• BETA       = tensor([0.0525, 0.3744, 1.0000])\n",
      "• ALPHA GRAD = tensor([-7.2982, -6.5444,  1.9766])\n",
      "\n",
      "----------------- EPOCH 70 -----------------\n",
      " \n",
      "• TRAIN LOSS = 2247.415771484375\n",
      "• VAL   LOSS = 440.8526611328125\n",
      "• ALPHA      = tensor([0.9969, 0.9945, 0.7872]) \n",
      "• BETA       = tensor([0.0525, 0.3744, 1.0000])\n",
      "• ALPHA GRAD = tensor([-2.7527, -2.6197,  9.2498])\n",
      "\n",
      "----------------- EPOCH 105 -----------------\n",
      " \n",
      "• TRAIN LOSS = 2242.942138671875\n",
      "• VAL   LOSS = 420.9774169921875\n",
      "• ALPHA      = tensor([0.9985, 0.9974, 0.8007]) \n",
      "• BETA       = tensor([0.0525, 0.3744, 1.0000])\n",
      "• ALPHA GRAD = tensor([-1.6983, -1.7850, -9.6917])\n",
      "\n",
      "----------------- EPOCH 140 -----------------\n",
      " \n",
      "• TRAIN LOSS = 2240.850341796875\n",
      "• VAL   LOSS = 435.90399169921875\n",
      "• ALPHA      = tensor([0.9991, 0.9984, 0.7840]) \n",
      "• BETA       = tensor([0.0525, 0.3744, 1.0000])\n",
      "• ALPHA GRAD = tensor([-1.2859, -1.2447,  9.8385])\n",
      "\n",
      "----------------- RESULTS -----------------\n",
      " \n",
      "• FINAL TRAIN LOSS  = 2239.52783203125 \n",
      "• FINAL ALPHA = tensor([0.9994, 0.9990, 0.7836]) \n",
      "• FINAL BETA  = tensor([0.0525, 0.3744, 1.0000])\n"
     ]
    },
    {
     "data": {
      "image/png": "[encoded data removed]",
      "text/plain": [
       "<Figure size 864x576 with 1 Axes>"
      ]
     },
     "metadata": {
      "needs_background": "light"
     },
     "output_type": "display_data"
    },
    {
     "name": "stdout",
     "output_type": "stream",
     "text": [
      "\n",
      "• MAP ALPHA  = tensor([0.9994, 0.9990, 0.7836]) \n",
      "• MAP BETA   = tensor([0.0525, 0.3744, 1.0000])\n",
      "\n",
      "--- L2 norms: ---\n",
      "\n",
      "L2 norm of (priors_alpha - final_alpha): 0.204\n"
     ]
    },
    {
     "data": {
      "image/png": "[encoded data removed]",
      "text/plain": [
       "<Figure size 864x576 with 1 Axes>"
      ]
     },
     "metadata": {
      "needs_background": "light"
     },
     "output_type": "display_data"
    },
    {
     "name": "stdout",
     "output_type": "stream",
     "text": [
      "\n",
      "--- FINAL TEST SCORES ---\n",
      "\n",
      "\n",
      "---------------------------------------------\n",
      "tn, fp, fn, tp = [247  39   9 165]\n",
      "F1             = 0.873015873015873\n",
      "Accuracy       = 0.8956521739130435\n",
      "Precision      = 0.8088235294117647\n",
      "Recall         = 0.9482758620689655\n",
      "ROC AUC        = 0.9059561128526645\n",
      "Coverage       = 1.0\n",
      "---------------------------------------------\n",
      "\n"
     ]
    },
    {
     "data": {
      "image/png": "[encoded data removed]",
      "text/plain": [
       "<Figure size 360x288 with 2 Axes>"
      ]
     },
     "metadata": {
      "needs_background": "light"
     },
     "output_type": "display_data"
    },
    {
     "data": {
      "text/plain": [
       "[0.8956521739130435,\n",
       " 0.873015873015873,\n",
       " 0.8088235294117647,\n",
       " 0.9482758620689655,\n",
       " 0.9059561128526645,\n",
       " 1.0]"
      ]
     },
     "execution_count": 15,
     "metadata": {},
     "output_type": "execute_result"
    }
   ],
   "source": [
    "trainer.train_test_score(L_train,\n",
    "                         L_val,\n",
    "                         L_test, \n",
    "                         y_val,\n",
    "                         y_test,\n",
    "                         INIT_ALPHA,\n",
    "                         INIT_BETA,\n",
    "                         OPTIMIZER,\n",
    "                         priors_mv,\n",
    "                         tie_policy = \"abstain\",\n",
    "                         prior_strength = STRENGTH,\n",
    "                         force_abstain = FORCE_ABSTAIN,\n",
    "                         epochs = EPOCHS,\n",
    "                         learning_rate = LEARNING_RATE,\n",
    "                         early_stopping = True,\n",
    "                         patience = 2,\n",
    "                         clip_grads = 10,\n",
    "                         verbose = True)"
   ]
  },
  {
   "cell_type": "code",
   "execution_count": null,
   "id": "91c472d7-96c0-4ab2-89a9-319fafde6025",
   "metadata": {},
   "outputs": [],
   "source": []
  },
  {
   "cell_type": "code",
   "execution_count": null,
   "id": "b4303980-0ad6-458c-a099-a220cd75e52d",
   "metadata": {},
   "outputs": [],
   "source": []
  }
 ],
 "metadata": {
  "kernelspec": {
   "display_name": "Python 3 (ipykernel)",
   "language": "python",
   "name": "python3"
  },
  "language_info": {
   "codemirror_mode": {
    "name": "ipython",
    "version": 3
   },
   "file_extension": ".py",
   "mimetype": "text/x-python",
   "name": "python",
   "nbconvert_exporter": "python",
   "pygments_lexer": "ipython3",
   "version": "3.8.8"
  }
 },
 "nbformat": 4,
 "nbformat_minor": 5
}
