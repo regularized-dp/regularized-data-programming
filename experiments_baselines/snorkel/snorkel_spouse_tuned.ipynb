{
 "cells": [
  {
   "cell_type": "markdown",
   "metadata": {},
   "source": [
    "# Detecting spouse mentions in sentences"
   ]
  },
  {
   "cell_type": "markdown",
   "metadata": {
    "lines_to_next_cell": 0,
    "tags": []
   },
   "source": [
    "In this tutorial, we will see how Snorkel can be used for Information Extraction. We will walk through an example text classification task for information extraction, where we use labeling functions involving keywords and distant supervision.\n",
    "### Classification Task\n",
    "<img src=\"imgs/sentence.jpg\" width=\"700px;\" onerror=\"this.onerror=null; this.src='/doks-theme/assets/images/sentence.jpg';\" align=\"center\" style=\"display: block; margin-left: auto; margin-right: auto;\">\n",
    "\n",
    "We want to classify each __candidate__ or pair of people mentioned in a sentence, as being married at some point or not.\n",
    "\n",
    "In the above example, our candidate represents the possible relation `(Barack Obama, Michelle Obama)`. As readers, we know this mention is true due to external knowledge and the keyword of `wedding` occuring later in the sentence.\n",
    "We begin with some basic setup and data downloading.\n"
   ]
  },
  {
   "cell_type": "markdown",
   "metadata": {},
   "source": [
    "## Preamble"
   ]
  },
  {
   "cell_type": "code",
   "execution_count": 1,
   "metadata": {},
   "outputs": [
    {
     "name": "stderr",
     "output_type": "stream",
     "text": [
      "/Library/Frameworks/Python.framework/Versions/3.10/lib/python3.10/site-packages/tqdm/auto.py:22: TqdmWarning: IProgress not found. Please update jupyter and ipywidgets. See https://ipywidgets.readthedocs.io/en/stable/user_install.html\n",
      "  from .autonotebook import tqdm as notebook_tqdm\n"
     ]
    }
   ],
   "source": [
    "# Importations.\n",
    "import os\n",
    "import pandas as pd\n",
    "import numpy as np\n",
    "import pickle\n",
    "import itertools\n",
    "from sklearn.model_selection import train_test_split\n",
    "\n",
    "from preprocessors import get_person_text\n",
    "from preprocessors import get_left_tokens, get_person_last_names\n",
    "from preprocessors import last_name\n",
    "\n",
    "from snorkel.preprocess import preprocessor\n",
    "from snorkel.labeling import labeling_function\n",
    "from snorkel.labeling import PandasLFApplier\n",
    "from snorkel.labeling import LFAnalysis\n",
    "from snorkel.labeling.model import LabelModel\n",
    "from snorkel.labeling.model import MajorityLabelVoter\n",
    "\n",
    "from utils import load_data\n",
    "\n",
    "\n",
    "%matplotlib inline\n",
    "\n",
    "if os.path.basename(os.getcwd()) == \"snorkel-tutorials\":\n",
    "    os.chdir(\"spouse\")"
   ]
  },
  {
   "cell_type": "code",
   "execution_count": 2,
   "metadata": {},
   "outputs": [],
   "source": [
    "# Import data.\n",
    "((df_val, Y_val), df_train, (df_test, Y_test)) = load_data()"
   ]
  },
  {
   "cell_type": "code",
   "execution_count": 3,
   "metadata": {},
   "outputs": [
    {
     "data": {
      "text/plain": [
       "array([0, 0, 1, ..., 0, 0, 1])"
      ]
     },
     "execution_count": 3,
     "metadata": {},
     "output_type": "execute_result"
    }
   ],
   "source": [
    "Y_val"
   ]
  },
  {
   "cell_type": "code",
   "execution_count": 4,
   "metadata": {},
   "outputs": [
    {
     "name": "stdout",
     "output_type": "stream",
     "text": [
      "Total training instances: 22254\n",
      "Total development instances: 2811\n",
      "Total test instances: 2701\n"
     ]
    }
   ],
   "source": [
    "# Take a look at the data.\n",
    "print(\"Total training instances:\", len(df_train))\n",
    "print(\"Total development instances:\", len(df_val))\n",
    "print(\"Total test instances:\", len(df_test))"
   ]
  },
  {
   "cell_type": "markdown",
   "metadata": {},
   "source": [
    "**Input Data:** `df_val`, `df_train`, and `df_test` are `Pandas DataFrame` objects, where each row represents a particular __candidate__. For our problem, a candidate consists of a sentence, and two people mentioned in the sentence. The DataFrames contain the fields `sentence`, which refers to the sentence of the candidate, `tokens`, the tokenized form of the sentence, and `person1_word_idx` and `person2_word_idx`, which represent `[start, end]` indices in the tokens at which the first and second person's name appear, respectively.\n",
    "\n",
    "We also have certain **preprocessed fields**, that we discuss a few cells below."
   ]
  },
  {
   "cell_type": "code",
   "execution_count": 5,
   "metadata": {
    "tags": [
     "md-exclude"
    ]
   },
   "outputs": [
    {
     "data": {
      "text/html": [
       "<div>\n",
       "<style scoped>\n",
       "    .dataframe tbody tr th:only-of-type {\n",
       "        vertical-align: middle;\n",
       "    }\n",
       "\n",
       "    .dataframe tbody tr th {\n",
       "        vertical-align: top;\n",
       "    }\n",
       "\n",
       "    .dataframe thead th {\n",
       "        text-align: right;\n",
       "    }\n",
       "</style>\n",
       "<table border=\"1\" class=\"dataframe\">\n",
       "  <thead>\n",
       "    <tr style=\"text-align: right;\">\n",
       "      <th></th>\n",
       "      <th>person1_word_idx</th>\n",
       "      <th>person2_word_idx</th>\n",
       "      <th>sentence</th>\n",
       "      <th>tokens</th>\n",
       "      <th>person1_right_tokens</th>\n",
       "      <th>person2_right_tokens</th>\n",
       "      <th>between_tokens</th>\n",
       "    </tr>\n",
       "  </thead>\n",
       "  <tbody>\n",
       "    <tr>\n",
       "      <th>0</th>\n",
       "      <td>(1, 1)</td>\n",
       "      <td>(22, 24)</td>\n",
       "      <td>The Richards are half-sisters to Kathy Hilton, the mother of socialite Paris Hilton and spouse of luxury hotel magnate Richard Howard Hilton.</td>\n",
       "      <td>[The, Richards, are, half, -, sisters, to, Kathy, Hilton, ,, the, mother, of, socialite, Paris, Hilton, and, spouse, of, luxury, hotel, magnate, Richard, Howard, Hilton, ., ]</td>\n",
       "      <td>[are, half, -, sisters]</td>\n",
       "      <td>[., ]</td>\n",
       "      <td>[are, half, -, sisters, to, Kathy, Hilton, ,, the, mother, of, socialite, Paris, Hilton, and, spouse, of, luxury, hotel, magnate]</td>\n",
       "    </tr>\n",
       "    <tr>\n",
       "      <th>1</th>\n",
       "      <td>(1, 1)</td>\n",
       "      <td>(7, 8)</td>\n",
       "      <td>The Richards are half-sisters to Kathy Hilton, the mother of socialite Paris Hilton and spouse of luxury hotel magnate Richard Howard Hilton.</td>\n",
       "      <td>[The, Richards, are, half, -, sisters, to, Kathy, Hilton, ,, the, mother, of, socialite, Paris, Hilton, and, spouse, of, luxury, hotel, magnate, Richard, Howard, Hilton, ., ]</td>\n",
       "      <td>[are, half, -, sisters]</td>\n",
       "      <td>[,, the, mother, of]</td>\n",
       "      <td>[are, half, -, sisters, to]</td>\n",
       "    </tr>\n",
       "    <tr>\n",
       "      <th>2</th>\n",
       "      <td>(7, 8)</td>\n",
       "      <td>(22, 24)</td>\n",
       "      <td>The Richards are half-sisters to Kathy Hilton, the mother of socialite Paris Hilton and spouse of luxury hotel magnate Richard Howard Hilton.</td>\n",
       "      <td>[The, Richards, are, half, -, sisters, to, Kathy, Hilton, ,, the, mother, of, socialite, Paris, Hilton, and, spouse, of, luxury, hotel, magnate, Richard, Howard, Hilton, ., ]</td>\n",
       "      <td>[,, the, mother, of]</td>\n",
       "      <td>[., ]</td>\n",
       "      <td>[,, the, mother, of, socialite, Paris, Hilton, and, spouse, of, luxury, hotel, magnate]</td>\n",
       "    </tr>\n",
       "    <tr>\n",
       "      <th>3</th>\n",
       "      <td>(6, 6)</td>\n",
       "      <td>(20, 21)</td>\n",
       "      <td>Prior to both his guests, Colbert's monologue - parts of which he did sitting down - ripped into Donald Trump and his oft-mocked policy of building a wall at the US-Mexico border and not eating Oreos anymore.</td>\n",
       "      <td>[Prior, to, both, his, guests, ,, Colbert, s, monologue, -, parts, of, which, he, did, sitting, down, -, ripped, into, Donald, Trump, and, his, oft, -, mocked, policy, of, building, a, wall, at, the, US, -, Mexico, border, and, not, eating, Oreos, anymore, ., ]</td>\n",
       "      <td>[s, monologue, -, parts]</td>\n",
       "      <td>[and, his, oft, -]</td>\n",
       "      <td>[s, monologue, -, parts, of, which, he, did, sitting, down, -, ripped, into]</td>\n",
       "    </tr>\n",
       "    <tr>\n",
       "      <th>4</th>\n",
       "      <td>(2, 2)</td>\n",
       "      <td>(4, 5)</td>\n",
       "      <td>People reported Williams and Ven Veen tied the knot Saturday at Brush Creek Ranch in Saratoga, Wyoming, in front of about 200 guests.</td>\n",
       "      <td>[People, reported, Williams, and, Ven, Veen, tied, the, knot, Saturday, at, Brush, Creek, Ranch, in, Saratoga, ,, Wyoming, ,, in, front, of, about, 200, guests, .]</td>\n",
       "      <td>[and, Ven, Veen, tied]</td>\n",
       "      <td>[tied, the, knot, Saturday]</td>\n",
       "      <td>[and]</td>\n",
       "    </tr>\n",
       "  </tbody>\n",
       "</table>\n",
       "</div>"
      ],
      "text/plain": [
       "  person1_word_idx person2_word_idx  \\\n",
       "0  (1, 1)           (22, 24)          \n",
       "1  (1, 1)           (7, 8)            \n",
       "2  (7, 8)           (22, 24)          \n",
       "3  (6, 6)           (20, 21)          \n",
       "4  (2, 2)           (4, 5)            \n",
       "\n",
       "                                                                                                                                                                                                                         sentence  \\\n",
       "0  The Richards are half-sisters to Kathy Hilton, the mother of socialite Paris Hilton and spouse of luxury hotel magnate Richard Howard Hilton.                                                                                    \n",
       "1  The Richards are half-sisters to Kathy Hilton, the mother of socialite Paris Hilton and spouse of luxury hotel magnate Richard Howard Hilton.                                                                                    \n",
       "2  The Richards are half-sisters to Kathy Hilton, the mother of socialite Paris Hilton and spouse of luxury hotel magnate Richard Howard Hilton.                                                                                    \n",
       "3  Prior to both his guests, Colbert's monologue - parts of which he did sitting down - ripped into Donald Trump and his oft-mocked policy of building a wall at the US-Mexico border and not eating Oreos anymore.                 \n",
       "4  People reported Williams and Ven Veen tied the knot Saturday at Brush Creek Ranch in Saratoga, Wyoming, in front of about 200 guests.                                                                                            \n",
       "\n",
       "                                                                                                                                                                                                                                                                  tokens  \\\n",
       "0  [The, Richards, are, half, -, sisters, to, Kathy, Hilton, ,, the, mother, of, socialite, Paris, Hilton, and, spouse, of, luxury, hotel, magnate, Richard, Howard, Hilton, ., ]                                                                                          \n",
       "1  [The, Richards, are, half, -, sisters, to, Kathy, Hilton, ,, the, mother, of, socialite, Paris, Hilton, and, spouse, of, luxury, hotel, magnate, Richard, Howard, Hilton, ., ]                                                                                          \n",
       "2  [The, Richards, are, half, -, sisters, to, Kathy, Hilton, ,, the, mother, of, socialite, Paris, Hilton, and, spouse, of, luxury, hotel, magnate, Richard, Howard, Hilton, ., ]                                                                                          \n",
       "3  [Prior, to, both, his, guests, ,, Colbert, s, monologue, -, parts, of, which, he, did, sitting, down, -, ripped, into, Donald, Trump, and, his, oft, -, mocked, policy, of, building, a, wall, at, the, US, -, Mexico, border, and, not, eating, Oreos, anymore, ., ]   \n",
       "4  [People, reported, Williams, and, Ven, Veen, tied, the, knot, Saturday, at, Brush, Creek, Ranch, in, Saratoga, ,, Wyoming, ,, in, front, of, about, 200, guests, .]                                                                                                     \n",
       "\n",
       "       person1_right_tokens         person2_right_tokens  \\\n",
       "0  [are, half, -, sisters]   [., ]                         \n",
       "1  [are, half, -, sisters]   [,, the, mother, of]          \n",
       "2  [,, the, mother, of]      [., ]                         \n",
       "3  [s, monologue, -, parts]  [and, his, oft, -]            \n",
       "4  [and, Ven, Veen, tied]    [tied, the, knot, Saturday]   \n",
       "\n",
       "                                                                                                                      between_tokens  \n",
       "0  [are, half, -, sisters, to, Kathy, Hilton, ,, the, mother, of, socialite, Paris, Hilton, and, spouse, of, luxury, hotel, magnate]  \n",
       "1  [are, half, -, sisters, to]                                                                                                        \n",
       "2  [,, the, mother, of, socialite, Paris, Hilton, and, spouse, of, luxury, hotel, magnate]                                            \n",
       "3  [s, monologue, -, parts, of, which, he, did, sitting, down, -, ripped, into]                                                       \n",
       "4  [and]                                                                                                                              "
      ]
     },
     "execution_count": 5,
     "metadata": {},
     "output_type": "execute_result"
    }
   ],
   "source": [
    "# Don't truncate text fields in the display\n",
    "pd.set_option(\"display.max_colwidth\", 0)\n",
    "\n",
    "df_val.head()"
   ]
  },
  {
   "cell_type": "markdown",
   "metadata": {},
   "source": [
    "Let's look at a candidate in the development set:"
   ]
  },
  {
   "cell_type": "code",
   "execution_count": 6,
   "metadata": {},
   "outputs": [
    {
     "name": "stdout",
     "output_type": "stream",
     "text": [
      "Sentence:  The Richards are half-sisters to Kathy Hilton, the mother of socialite Paris Hilton and spouse of luxury hotel magnate Richard Howard Hilton.   \n",
      "Person 1:  Kathy Hilton\n",
      "Person 2:  Richard Howard Hilton\n"
     ]
    }
   ],
   "source": [
    "candidate = df_val.loc[2]\n",
    "person_names = get_person_text(candidate).person_names\n",
    "\n",
    "print(\"Sentence: \", candidate[\"sentence\"])\n",
    "print(\"Person 1: \", person_names[0])\n",
    "print(\"Person 2: \", person_names[1])"
   ]
  },
  {
   "cell_type": "code",
   "execution_count": 7,
   "metadata": {},
   "outputs": [
    {
     "name": "stdout",
     "output_type": "stream",
     "text": [
      "0    5104\n",
      "1    408 \n",
      "Name: Label, dtype: int64\n",
      "0    0.92598\n",
      "1    0.07402\n",
      "Name: Label, dtype: float64\n"
     ]
    },
    {
     "data": {
      "text/html": [
       "<div>\n",
       "<style scoped>\n",
       "    .dataframe tbody tr th:only-of-type {\n",
       "        vertical-align: middle;\n",
       "    }\n",
       "\n",
       "    .dataframe tbody tr th {\n",
       "        vertical-align: top;\n",
       "    }\n",
       "\n",
       "    .dataframe thead th {\n",
       "        text-align: right;\n",
       "    }\n",
       "</style>\n",
       "<table border=\"1\" class=\"dataframe\">\n",
       "  <thead>\n",
       "    <tr style=\"text-align: right;\">\n",
       "      <th></th>\n",
       "      <th>person1_word_idx</th>\n",
       "      <th>person2_word_idx</th>\n",
       "      <th>sentence</th>\n",
       "      <th>tokens</th>\n",
       "      <th>person1_right_tokens</th>\n",
       "      <th>person2_right_tokens</th>\n",
       "      <th>between_tokens</th>\n",
       "      <th>Label</th>\n",
       "    </tr>\n",
       "  </thead>\n",
       "  <tbody>\n",
       "    <tr>\n",
       "      <th>0</th>\n",
       "      <td>(0, 1)</td>\n",
       "      <td>(46, 47)</td>\n",
       "      <td>Mr Perpich had desperately searched for the 14-carat gold ring, which had cost $129 and was engraved with his initials   The teenager then went to the local library to look at the school's 1974 yearbook and suspected the ring could belong to Mr Perpich.</td>\n",
       "      <td>[Mr, Perpich, had, desperately, searched, for, the, 14-carat, gold, ring, ,, which, had, cost, $, 129, and, was, engraved, with, his, initials, , The, teenager, then, went, to, the, local, library, to, look, at, the, school, s, 1974, yearbook, and, suspected, the, ring, could, belong, to, Mr, Perpich, ., ]</td>\n",
       "      <td>[had, desperately, searched, for]</td>\n",
       "      <td>[., ]</td>\n",
       "      <td>[had, desperately, searched, for, the, 14-carat, gold, ring, ,, which, had, cost, $, 129, and, was, engraved, with, his, initials, , The, teenager, then, went, to, the, local, library, to, look, at, the, school, s, 1974, yearbook, and, suspected, the, ring, could, belong, to]</td>\n",
       "      <td>0</td>\n",
       "    </tr>\n",
       "  </tbody>\n",
       "</table>\n",
       "</div>"
      ],
      "text/plain": [
       "  person1_word_idx person2_word_idx  \\\n",
       "0  (0, 1)           (46, 47)          \n",
       "\n",
       "                                                                                                                                                                                                                                                           sentence  \\\n",
       "0  Mr Perpich had desperately searched for the 14-carat gold ring, which had cost $129 and was engraved with his initials   The teenager then went to the local library to look at the school's 1974 yearbook and suspected the ring could belong to Mr Perpich.      \n",
       "\n",
       "                                                                                                                                                                                                                                                                                                                tokens  \\\n",
       "0  [Mr, Perpich, had, desperately, searched, for, the, 14-carat, gold, ring, ,, which, had, cost, $, 129, and, was, engraved, with, his, initials, , The, teenager, then, went, to, the, local, library, to, look, at, the, school, s, 1974, yearbook, and, suspected, the, ring, could, belong, to, Mr, Perpich, ., ]   \n",
       "\n",
       "                person1_right_tokens person2_right_tokens  \\\n",
       "0  [had, desperately, searched, for]  [., ]                 \n",
       "\n",
       "                                                                                                                                                                                                                                                                         between_tokens  \\\n",
       "0  [had, desperately, searched, for, the, 14-carat, gold, ring, ,, which, had, cost, $, 129, and, was, engraved, with, his, initials, , The, teenager, then, went, to, the, local, library, to, look, at, the, school, s, 1974, yearbook, and, suspected, the, ring, could, belong, to]   \n",
       "\n",
       "   Label  \n",
       "0  0      "
      ]
     },
     "metadata": {},
     "output_type": "display_data"
    },
    {
     "name": "stdout",
     "output_type": "stream",
     "text": [
      "Total labeled instances: 5512\n",
      "Total training instances: 3858\n"
     ]
    }
   ],
   "source": [
    "# Construct labeled train/val/test splits by subsetting labeled instances.\n",
    "\n",
    "# Concatenate all labeled instances and drop duplicates.\n",
    "df_test[\"Label\"] = Y_test\n",
    "df_val[\"Label\"] = Y_val\n",
    "df_labeled = pd.concat([df_test, df_val])\n",
    "#duplicated_rows = df_labeled.astype(str).duplicated()\n",
    "#print(duplicated_rows.value_counts())\n",
    "#df_labeled = df_labeled.iloc[df_labeled.astype(str).drop_duplicates().index]\n",
    "\n",
    "print(df_labeled.Label.value_counts())\n",
    "print(df_labeled.Label.value_counts(normalize = True))\n",
    "display(df_labeled.head(1))\n",
    "\n",
    "print(\"Total labeled instances:\", len(df_labeled))\n",
    "\n",
    "# 5512 total labeled instances.\n",
    "# 3858 = 0.7\n",
    "# 1102 = 0.2\n",
    "# 552  = 0.1\n",
    "\n",
    "X_train, X_test, y_train, y_test = train_test_split(df_labeled, \n",
    "                                                    df_labeled[\"Label\"], \n",
    "                                                    test_size = 0.3,\n",
    "                                                    stratify = df_labeled[\"Label\"],\n",
    "                                                    random_state = 42)\n",
    "\n",
    "print(\"Total training instances:\", len(X_train))"
   ]
  },
  {
   "cell_type": "code",
   "execution_count": 8,
   "metadata": {},
   "outputs": [
    {
     "name": "stdout",
     "output_type": "stream",
     "text": [
      "Total testing instances: 1101\n",
      "Total validation instances: 553\n"
     ]
    }
   ],
   "source": [
    "# Total X_test = 1654\n",
    "# We want 10% of total dataset for validation.\n",
    "X_test, X_val, y_test, y_val = train_test_split(X_test, \n",
    "                                                y_test, \n",
    "                                                test_size = 0.3337364,\n",
    "                                                stratify = y_test,\n",
    "                                                random_state = 42)\n",
    "\n",
    "print(\"Total testing instances:\", len(X_test))\n",
    "print(\"Total validation instances:\", len(X_val))"
   ]
  },
  {
   "cell_type": "code",
   "execution_count": 9,
   "metadata": {},
   "outputs": [
    {
     "name": "stdout",
     "output_type": "stream",
     "text": [
      "<class 'pandas.core.frame.DataFrame'>\n",
      "Int64Index: 3858 entries, 2057 to 285\n",
      "Data columns (total 8 columns):\n",
      " #   Column                Non-Null Count  Dtype \n",
      "---  ------                --------------  ----- \n",
      " 0   person1_word_idx      3858 non-null   object\n",
      " 1   person2_word_idx      3858 non-null   object\n",
      " 2   sentence              3858 non-null   object\n",
      " 3   tokens                3858 non-null   object\n",
      " 4   person1_right_tokens  3858 non-null   object\n",
      " 5   person2_right_tokens  3858 non-null   object\n",
      " 6   between_tokens        3858 non-null   object\n",
      " 7   Label                 3858 non-null   int64 \n",
      "dtypes: int64(1), object(7)\n",
      "memory usage: 271.3+ KB\n",
      "None\n",
      "0    3572\n",
      "1    286 \n",
      "Name: Label, dtype: int64\n",
      "0    0.925868\n",
      "1    0.074132\n",
      "Name: Label, dtype: float64\n"
     ]
    },
    {
     "data": {
      "text/html": [
       "<div>\n",
       "<style scoped>\n",
       "    .dataframe tbody tr th:only-of-type {\n",
       "        vertical-align: middle;\n",
       "    }\n",
       "\n",
       "    .dataframe tbody tr th {\n",
       "        vertical-align: top;\n",
       "    }\n",
       "\n",
       "    .dataframe thead th {\n",
       "        text-align: right;\n",
       "    }\n",
       "</style>\n",
       "<table border=\"1\" class=\"dataframe\">\n",
       "  <thead>\n",
       "    <tr style=\"text-align: right;\">\n",
       "      <th></th>\n",
       "      <th>person1_word_idx</th>\n",
       "      <th>person2_word_idx</th>\n",
       "      <th>sentence</th>\n",
       "      <th>tokens</th>\n",
       "      <th>person1_right_tokens</th>\n",
       "      <th>person2_right_tokens</th>\n",
       "      <th>between_tokens</th>\n",
       "      <th>Label</th>\n",
       "    </tr>\n",
       "  </thead>\n",
       "  <tbody>\n",
       "    <tr>\n",
       "      <th>2057</th>\n",
       "      <td>(1, 2)</td>\n",
       "      <td>(7, 8)</td>\n",
       "      <td>With Dellen Millard, 30, and Mark Smich, 27, in the prisoners’ box for preliminary proceedings ahead of their first-degree murder trial, Justice James Turnbull, the region’s senior judge, informed court that all hearings in the case would be postponed until next Monday.</td>\n",
       "      <td>[With, Dellen, Millard, ,, 30, ,, and, Mark, Smich, ,, 27, ,, in, the, prisoners’, box, for, preliminary, proceedings, ahead, of, their, first, -, degree, murder, trial, ,, Justice, James, Turnbull, ,, the, region, ’s, senior, judge, ,, informed, court, that, all, hearings, in, the, case, would, be, postponed, until, next, Monday, ., ]</td>\n",
       "      <td>[,, 30, ,, and]</td>\n",
       "      <td>[,, 27, ,, in]</td>\n",
       "      <td>[,, 30, ,, and]</td>\n",
       "      <td>0</td>\n",
       "    </tr>\n",
       "  </tbody>\n",
       "</table>\n",
       "</div>"
      ],
      "text/plain": [
       "     person1_word_idx person2_word_idx  \\\n",
       "2057  (1, 2)           (7, 8)            \n",
       "\n",
       "                                                                                                                                                                                                                                                                               sentence  \\\n",
       "2057  With Dellen Millard, 30, and Mark Smich, 27, in the prisoners’ box for preliminary proceedings ahead of their first-degree murder trial, Justice James Turnbull, the region’s senior judge, informed court that all hearings in the case would be postponed until next Monday.      \n",
       "\n",
       "                                                                                                                                                                                                                                                                                                                                                 tokens  \\\n",
       "2057  [With, Dellen, Millard, ,, 30, ,, and, Mark, Smich, ,, 27, ,, in, the, prisoners’, box, for, preliminary, proceedings, ahead, of, their, first, -, degree, murder, trial, ,, Justice, James, Turnbull, ,, the, region, ’s, senior, judge, ,, informed, court, that, all, hearings, in, the, case, would, be, postponed, until, next, Monday, ., ]   \n",
       "\n",
       "     person1_right_tokens person2_right_tokens   between_tokens  Label  \n",
       "2057  [,, 30, ,, and]      [,, 27, ,, in]       [,, 30, ,, and]  0      "
      ]
     },
     "metadata": {},
     "output_type": "display_data"
    },
    {
     "name": "stdout",
     "output_type": "stream",
     "text": [
      "<class 'pandas.core.frame.DataFrame'>\n",
      "Int64Index: 1101 entries, 2363 to 391\n",
      "Data columns (total 8 columns):\n",
      " #   Column                Non-Null Count  Dtype \n",
      "---  ------                --------------  ----- \n",
      " 0   person1_word_idx      1101 non-null   object\n",
      " 1   person2_word_idx      1101 non-null   object\n",
      " 2   sentence              1101 non-null   object\n",
      " 3   tokens                1101 non-null   object\n",
      " 4   person1_right_tokens  1101 non-null   object\n",
      " 5   person2_right_tokens  1101 non-null   object\n",
      " 6   between_tokens        1101 non-null   object\n",
      " 7   Label                 1101 non-null   int64 \n",
      "dtypes: int64(1), object(7)\n",
      "memory usage: 77.4+ KB\n",
      "None\n",
      "0    1020\n",
      "1    81  \n",
      "Name: Label, dtype: int64\n",
      "0    0.926431\n",
      "1    0.073569\n",
      "Name: Label, dtype: float64\n"
     ]
    },
    {
     "data": {
      "text/html": [
       "<div>\n",
       "<style scoped>\n",
       "    .dataframe tbody tr th:only-of-type {\n",
       "        vertical-align: middle;\n",
       "    }\n",
       "\n",
       "    .dataframe tbody tr th {\n",
       "        vertical-align: top;\n",
       "    }\n",
       "\n",
       "    .dataframe thead th {\n",
       "        text-align: right;\n",
       "    }\n",
       "</style>\n",
       "<table border=\"1\" class=\"dataframe\">\n",
       "  <thead>\n",
       "    <tr style=\"text-align: right;\">\n",
       "      <th></th>\n",
       "      <th>person1_word_idx</th>\n",
       "      <th>person2_word_idx</th>\n",
       "      <th>sentence</th>\n",
       "      <th>tokens</th>\n",
       "      <th>person1_right_tokens</th>\n",
       "      <th>person2_right_tokens</th>\n",
       "      <th>between_tokens</th>\n",
       "      <th>Label</th>\n",
       "    </tr>\n",
       "  </thead>\n",
       "  <tbody>\n",
       "    <tr>\n",
       "      <th>2363</th>\n",
       "      <td>(2, 3)</td>\n",
       "      <td>(6, 7)</td>\n",
       "      <td>Coordinated: Sam Burgess and fiancé Phoebe Hooke, who have now moved to England, looked the picture of elegance in matching black and white ensembles      Red rose: Ex Bachelor star Anna Henrich wore an off-the-shoulder red gown and a bold red lip to the annual sporting awards event   The former Summer Bay stunner's frock featured a low dip at the top to show her toned stomach, and a high split at the bottom to show her lean legs.</td>\n",
       "      <td>[Coordinated, :, Sam, Burgess, and, fiancé, Phoebe, Hooke, ,, who, have, now, moved, to, England, ,, looked, the, picture, of, elegance, in, matching, black, and, white, ensembles, , Red, rose, :, Ex, Bachelor, star, Anna, Henrich, wore, an, off, -, the, -, shoulder, red, gown, and, a, bold, red, lip, to, the, annual, sporting, awards, event, , The, former, Summer, Bay, stunner, s, frock, featured, a, low, dip, at, the, top, to, show, her, toned, stomach, ,, and, a, high, split, at, the, bottom, to, show, her, lean, legs, ., ]</td>\n",
       "      <td>[and, fiancé, Phoebe, Hooke]</td>\n",
       "      <td>[,, who, have, now]</td>\n",
       "      <td>[and, fiancé]</td>\n",
       "      <td>1</td>\n",
       "    </tr>\n",
       "  </tbody>\n",
       "</table>\n",
       "</div>"
      ],
      "text/plain": [
       "     person1_word_idx person2_word_idx  \\\n",
       "2363  (2, 3)           (6, 7)            \n",
       "\n",
       "                                                                                                                                                                                                                                                                                                                                                                                                                                                     sentence  \\\n",
       "2363  Coordinated: Sam Burgess and fiancé Phoebe Hooke, who have now moved to England, looked the picture of elegance in matching black and white ensembles      Red rose: Ex Bachelor star Anna Henrich wore an off-the-shoulder red gown and a bold red lip to the annual sporting awards event   The former Summer Bay stunner's frock featured a low dip at the top to show her toned stomach, and a high split at the bottom to show her lean legs.        \n",
       "\n",
       "                                                                                                                                                                                                                                                                                                                                                                                                                                                                                                                                                    tokens  \\\n",
       "2363  [Coordinated, :, Sam, Burgess, and, fiancé, Phoebe, Hooke, ,, who, have, now, moved, to, England, ,, looked, the, picture, of, elegance, in, matching, black, and, white, ensembles, , Red, rose, :, Ex, Bachelor, star, Anna, Henrich, wore, an, off, -, the, -, shoulder, red, gown, and, a, bold, red, lip, to, the, annual, sporting, awards, event, , The, former, Summer, Bay, stunner, s, frock, featured, a, low, dip, at, the, top, to, show, her, toned, stomach, ,, and, a, high, split, at, the, bottom, to, show, her, lean, legs, ., ]   \n",
       "\n",
       "              person1_right_tokens person2_right_tokens between_tokens  Label  \n",
       "2363  [and, fiancé, Phoebe, Hooke]  [,, who, have, now]  [and, fiancé]  1      "
      ]
     },
     "metadata": {},
     "output_type": "display_data"
    },
    {
     "name": "stdout",
     "output_type": "stream",
     "text": [
      "<class 'pandas.core.frame.DataFrame'>\n",
      "Int64Index: 553 entries, 222 to 2358\n",
      "Data columns (total 8 columns):\n",
      " #   Column                Non-Null Count  Dtype \n",
      "---  ------                --------------  ----- \n",
      " 0   person1_word_idx      553 non-null    object\n",
      " 1   person2_word_idx      553 non-null    object\n",
      " 2   sentence              553 non-null    object\n",
      " 3   tokens                553 non-null    object\n",
      " 4   person1_right_tokens  553 non-null    object\n",
      " 5   person2_right_tokens  553 non-null    object\n",
      " 6   between_tokens        553 non-null    object\n",
      " 7   Label                 553 non-null    int64 \n",
      "dtypes: int64(1), object(7)\n",
      "memory usage: 38.9+ KB\n",
      "None\n",
      "0    512\n",
      "1    41 \n",
      "Name: Label, dtype: int64\n",
      "0    0.925859\n",
      "1    0.074141\n",
      "Name: Label, dtype: float64\n"
     ]
    },
    {
     "data": {
      "text/html": [
       "<div>\n",
       "<style scoped>\n",
       "    .dataframe tbody tr th:only-of-type {\n",
       "        vertical-align: middle;\n",
       "    }\n",
       "\n",
       "    .dataframe tbody tr th {\n",
       "        vertical-align: top;\n",
       "    }\n",
       "\n",
       "    .dataframe thead th {\n",
       "        text-align: right;\n",
       "    }\n",
       "</style>\n",
       "<table border=\"1\" class=\"dataframe\">\n",
       "  <thead>\n",
       "    <tr style=\"text-align: right;\">\n",
       "      <th></th>\n",
       "      <th>person1_word_idx</th>\n",
       "      <th>person2_word_idx</th>\n",
       "      <th>sentence</th>\n",
       "      <th>tokens</th>\n",
       "      <th>person1_right_tokens</th>\n",
       "      <th>person2_right_tokens</th>\n",
       "      <th>between_tokens</th>\n",
       "      <th>Label</th>\n",
       "    </tr>\n",
       "  </thead>\n",
       "  <tbody>\n",
       "    <tr>\n",
       "      <th>222</th>\n",
       "      <td>(0, 0)</td>\n",
       "      <td>(14, 14)</td>\n",
       "      <td>Zac said of the Dawson's Creek alum: 'When I first saw Katie and her rapport on a red carpet, I saw that magic.</td>\n",
       "      <td>[Zac, said, of, the, Dawson, s, Creek, alum, :, , When, I, first, saw, Katie, and, her, rapport, on, a, red, carpet, ,, I, saw, that, magic, .]</td>\n",
       "      <td>[said, of, the, Dawson]</td>\n",
       "      <td>[and, her, rapport, on]</td>\n",
       "      <td>[said, of, the, Dawson, s, Creek, alum, :, , When, I, first, saw]</td>\n",
       "      <td>0</td>\n",
       "    </tr>\n",
       "  </tbody>\n",
       "</table>\n",
       "</div>"
      ],
      "text/plain": [
       "    person1_word_idx person2_word_idx  \\\n",
       "222  (0, 0)           (14, 14)          \n",
       "\n",
       "                                                                                                            sentence  \\\n",
       "222  Zac said of the Dawson's Creek alum: 'When I first saw Katie and her rapport on a red carpet, I saw that magic.   \n",
       "\n",
       "                                                                                                                                              tokens  \\\n",
       "222  [Zac, said, of, the, Dawson, s, Creek, alum, :, , When, I, first, saw, Katie, and, her, rapport, on, a, red, carpet, ,, I, saw, that, magic, .]   \n",
       "\n",
       "        person1_right_tokens     person2_right_tokens  \\\n",
       "222  [said, of, the, Dawson]  [and, her, rapport, on]   \n",
       "\n",
       "                                                        between_tokens  Label  \n",
       "222  [said, of, the, Dawson, s, Creek, alum, :, , When, I, first, saw]  0      "
      ]
     },
     "metadata": {},
     "output_type": "display_data"
    }
   ],
   "source": [
    "# View train, val, test dataframes.\n",
    "print(X_train.info())\n",
    "print(X_train.Label.value_counts())\n",
    "print(X_train.Label.value_counts(normalize = True))\n",
    "display(X_train.head(1))\n",
    "\n",
    "print(X_test.info())\n",
    "print(X_test.Label.value_counts())\n",
    "print(X_test.Label.value_counts(normalize = True))\n",
    "display(X_test.head(1))\n",
    "\n",
    "print(X_val.info())\n",
    "print(X_val.Label.value_counts())\n",
    "print(X_val.Label.value_counts(normalize = True))\n",
    "display(X_val.head(1))"
   ]
  },
  {
   "cell_type": "markdown",
   "metadata": {},
   "source": [
    "### Preprocessing the Data\n",
    "\n",
    "In a real application, there is a lot of data preparation, parsing, and database loading that needs to be completed before we generate candidates and dive into writing labeling functions. Here we've pre-generated candidates in a pandas DataFrame object per split (train,val,test)."
   ]
  },
  {
   "cell_type": "markdown",
   "metadata": {},
   "source": [
    "### Labeling Function Helpers\n",
    "\n",
    "When writing labeling functions, there are several functions you will use over and over again. In the case of text relation extraction as with this task, common functions include those for fetching text between mentions of the two people in a candidate, examing word windows around person mentions, and so on. We will wrap these functions as `preprocessors`."
   ]
  },
  {
   "cell_type": "code",
   "execution_count": 10,
   "metadata": {},
   "outputs": [],
   "source": [
    "@preprocessor()\n",
    "def get_text_between(cand):\n",
    "    \"\"\"\n",
    "    Returns the text between the two person mentions in the sentence for a candidate\n",
    "    \"\"\"\n",
    "    start = cand.person1_word_idx[1] + 1\n",
    "    end = cand.person2_word_idx[0]\n",
    "    cand.text_between = \" \".join(cand.tokens[start:end])\n",
    "    return cand"
   ]
  },
  {
   "cell_type": "markdown",
   "metadata": {},
   "source": [
    "### Candidate PreProcessors\n",
    "\n",
    "For the purposes of the tutorial, we have three fields (`between_tokens`, `person1_right_tokens`, `person2_right_tokens`) preprocessed in the data, which can be used when creating labeling functions. We also provide the following set of `preprocessor`s for this task in `preprocessors.py`, along with the fields these populate.\n",
    "* `get_person_text(cand)`: `person_names`\n",
    "* `get_person_lastnames(cand)`: `person_lastnames`\n",
    "* `get_left_tokens(cand)`: `person1_left_tokens`, `person2_left_tokens`"
   ]
  },
  {
   "cell_type": "code",
   "execution_count": 11,
   "metadata": {},
   "outputs": [],
   "source": [
    "# Macros for labels.\n",
    "POSITIVE = 1\n",
    "NEGATIVE = 0\n",
    "ABSTAIN = -1"
   ]
  },
  {
   "cell_type": "code",
   "execution_count": 12,
   "metadata": {},
   "outputs": [],
   "source": [
    "# Check for the `spouse` words appearing between the person mentions\n",
    "spouses = {\"spouse\", \"wife\", \"husband\", \"ex-wife\", \"ex-husband\"}\n",
    "\n",
    "\n",
    "@labeling_function(resources=dict(spouses=spouses))\n",
    "def lf_husband_wife(x, spouses):\n",
    "    return POSITIVE if len(spouses.intersection(set(x.between_tokens))) > 0 else ABSTAIN"
   ]
  },
  {
   "cell_type": "code",
   "execution_count": 13,
   "metadata": {},
   "outputs": [],
   "source": [
    "# Check for the `spouse` words appearing to the left of the person mentions\n",
    "@labeling_function(resources=dict(spouses=spouses), pre=[get_left_tokens])\n",
    "def lf_husband_wife_left_window(x, spouses):\n",
    "    if len(set(spouses).intersection(set(x.person1_left_tokens))) > 0:\n",
    "        return POSITIVE\n",
    "    elif len(set(spouses).intersection(set(x.person2_left_tokens))) > 0:\n",
    "        return POSITIVE\n",
    "    else:\n",
    "        return ABSTAIN"
   ]
  },
  {
   "cell_type": "code",
   "execution_count": 14,
   "metadata": {},
   "outputs": [],
   "source": [
    "# Check for the person mentions having the same last name\n",
    "@labeling_function(pre=[get_person_last_names])\n",
    "def lf_same_last_name(x):\n",
    "    p1_ln, p2_ln = x.person_lastnames\n",
    "\n",
    "    if p1_ln and p2_ln and p1_ln == p2_ln:\n",
    "        return POSITIVE\n",
    "    return ABSTAIN"
   ]
  },
  {
   "cell_type": "code",
   "execution_count": 15,
   "metadata": {},
   "outputs": [],
   "source": [
    "# Check for the word `married` between person mentions\n",
    "@labeling_function()\n",
    "def lf_married(x):\n",
    "    return POSITIVE if \"married\" in x.between_tokens else ABSTAIN"
   ]
  },
  {
   "cell_type": "code",
   "execution_count": 16,
   "metadata": {},
   "outputs": [],
   "source": [
    "# Check for words that refer to `family` relationships between and to the left of the person mentions\n",
    "family = {\n",
    "    \"father\",\n",
    "    \"mother\",\n",
    "    \"sister\",\n",
    "    \"brother\",\n",
    "    \"son\",\n",
    "    \"daughter\",\n",
    "    \"grandfather\",\n",
    "    \"grandmother\",\n",
    "    \"uncle\",\n",
    "    \"aunt\",\n",
    "    \"cousin\",\n",
    "}\n",
    "family = family.union({f + \"-in-law\" for f in family})\n",
    "\n",
    "\n",
    "@labeling_function(resources=dict(family=family))\n",
    "def lf_familial_relationship(x, family):\n",
    "    return NEGATIVE if len(family.intersection(set(x.between_tokens))) > 0 else ABSTAIN\n",
    "\n",
    "\n",
    "@labeling_function(resources=dict(family=family), pre=[get_left_tokens])\n",
    "def lf_family_left_window(x, family):\n",
    "    if len(set(family).intersection(set(x.person1_left_tokens))) > 0:\n",
    "        return NEGATIVE\n",
    "    elif len(set(family).intersection(set(x.person2_left_tokens))) > 0:\n",
    "        return NEGATIVE\n",
    "    else:\n",
    "        return ABSTAIN"
   ]
  },
  {
   "cell_type": "code",
   "execution_count": 17,
   "metadata": {},
   "outputs": [],
   "source": [
    "# Check for `other` relationship words between person mentions\n",
    "other = {\"boyfriend\", \"girlfriend\", \"boss\", \"employee\", \"secretary\", \"co-worker\"}\n",
    "\n",
    "\n",
    "@labeling_function(resources=dict(other=other))\n",
    "def lf_other_relationship(x, other):\n",
    "    return NEGATIVE if len(other.intersection(set(x.between_tokens))) > 0 else ABSTAIN"
   ]
  },
  {
   "cell_type": "markdown",
   "metadata": {},
   "source": [
    "### Distant Supervision Labeling Functions\n",
    "\n",
    "In addition to using factories that encode pattern matching heuristics, we can also write labeling functions that _distantly supervise_ data points. Here, we'll load in a list of known spouse pairs and check to see if the pair of persons in a candidate matches one of these.\n",
    "\n",
    "[**DBpedia**](http://wiki.dbpedia.org/): Our database of known spouses comes from DBpedia, which is a community-driven resource similar to Wikipedia but for curating structured data. We'll use a preprocessed snapshot as our knowledge base for all labeling function valelopment.\n",
    "\n",
    "We can look at some of the example entries from DBPedia and use them in a simple distant supervision labeling function.\n",
    "\n",
    "Make sure `dbpedia.pkl` is in the `spouse/data` directory."
   ]
  },
  {
   "cell_type": "code",
   "execution_count": 18,
   "metadata": {},
   "outputs": [
    {
     "data": {
      "text/plain": [
       "[('Joseph Edward Davies', 'Marjorie Merriweather Post'),\n",
       " ('Bert Jansch', 'Heather Jansch'),\n",
       " ('Diarmait mac Maíl na mBó', 'Donnchad mac Briain'),\n",
       " ('Alfred Lunt', 'Lynn Fontanne'),\n",
       " ('Clara Gooding McMillan', 'Thomas S. McMillan')]"
      ]
     },
     "execution_count": 18,
     "metadata": {},
     "output_type": "execute_result"
    }
   ],
   "source": [
    "with open(\"data/dbpedia.pkl\", \"rb\") as f:\n",
    "    known_spouses = pickle.load(f)\n",
    "\n",
    "list(known_spouses)[0:5]"
   ]
  },
  {
   "cell_type": "code",
   "execution_count": 19,
   "metadata": {},
   "outputs": [],
   "source": [
    "@labeling_function(resources=dict(known_spouses=known_spouses), pre=[get_person_text])\n",
    "def lf_distant_supervision(x, known_spouses):\n",
    "    p1, p2 = x.person_names\n",
    "    if (p1, p2) in known_spouses or (p2, p1) in known_spouses:\n",
    "        return POSITIVE\n",
    "    else:\n",
    "        return ABSTAIN"
   ]
  },
  {
   "cell_type": "code",
   "execution_count": 20,
   "metadata": {},
   "outputs": [],
   "source": [
    "# Last name pairs for known spouses\n",
    "last_names = set(\n",
    "    [\n",
    "        (last_name(x), last_name(y))\n",
    "        for x, y in known_spouses\n",
    "        if last_name(x) and last_name(y)\n",
    "    ]\n",
    ")\n",
    "\n",
    "\n",
    "@labeling_function(resources=dict(last_names=last_names), pre=[get_person_last_names])\n",
    "def lf_distant_supervision_last_names(x, last_names):\n",
    "    p1_ln, p2_ln = x.person_lastnames\n",
    "\n",
    "    return (\n",
    "        POSITIVE\n",
    "        if (p1_ln != p2_ln)\n",
    "        and ((p1_ln, p2_ln) in last_names or (p2_ln, p1_ln) in last_names)\n",
    "        else ABSTAIN\n",
    "    )"
   ]
  },
  {
   "cell_type": "markdown",
   "metadata": {},
   "source": [
    "#### Apply Labeling Functions to the Data\n",
    "We create a list of labeling functions and apply them to the data"
   ]
  },
  {
   "cell_type": "code",
   "execution_count": 21,
   "metadata": {},
   "outputs": [],
   "source": [
    "lfs = [\n",
    "    lf_husband_wife,\n",
    "    lf_husband_wife_left_window,\n",
    "    #lf_same_last_name,\n",
    "    #lf_married,\n",
    "    lf_familial_relationship,\n",
    "    lf_family_left_window,\n",
    "    #lf_other_relationship,\n",
    "    #lf_distant_supervision,\n",
    "    #lf_distant_supervision_last_names,\n",
    "]\n",
    "applier = PandasLFApplier(lfs)"
   ]
  },
  {
   "cell_type": "code",
   "execution_count": 22,
   "metadata": {
    "tags": [
     "md-exclude-output"
    ]
   },
   "outputs": [
    {
     "name": "stderr",
     "output_type": "stream",
     "text": [
      "100%|█████████████████████████████████████| 3858/3858 [00:02<00:00, 1436.11it/s]\n",
      "100%|███████████████████████████████████████| 553/553 [00:00<00:00, 1324.71it/s]\n",
      "100%|█████████████████████████████████████| 1101/1101 [00:00<00:00, 1567.98it/s]\n"
     ]
    }
   ],
   "source": [
    "# Compute labeling function matrix.\n",
    "L_train = applier.apply(X_train)\n",
    "L_val = applier.apply(X_val)\n",
    "L_test = applier.apply(X_test)"
   ]
  },
  {
   "cell_type": "code",
   "execution_count": 23,
   "metadata": {},
   "outputs": [],
   "source": [
    "# Get labels.\n",
    "Y_train = np.array(y_train)\n",
    "Y_val = np.array(y_val)\n",
    "Y_test = np.array(y_test)"
   ]
  },
  {
   "cell_type": "code",
   "execution_count": 24,
   "metadata": {},
   "outputs": [
    {
     "data": {
      "text/html": [
       "<div>\n",
       "<style scoped>\n",
       "    .dataframe tbody tr th:only-of-type {\n",
       "        vertical-align: middle;\n",
       "    }\n",
       "\n",
       "    .dataframe tbody tr th {\n",
       "        vertical-align: top;\n",
       "    }\n",
       "\n",
       "    .dataframe thead th {\n",
       "        text-align: right;\n",
       "    }\n",
       "</style>\n",
       "<table border=\"1\" class=\"dataframe\">\n",
       "  <thead>\n",
       "    <tr style=\"text-align: right;\">\n",
       "      <th></th>\n",
       "      <th>j</th>\n",
       "      <th>Polarity</th>\n",
       "      <th>Coverage</th>\n",
       "      <th>Overlaps</th>\n",
       "      <th>Conflicts</th>\n",
       "      <th>Correct</th>\n",
       "      <th>Incorrect</th>\n",
       "      <th>Emp. Acc.</th>\n",
       "    </tr>\n",
       "  </thead>\n",
       "  <tbody>\n",
       "    <tr>\n",
       "      <th>lf_husband_wife</th>\n",
       "      <td>0</td>\n",
       "      <td>[1]</td>\n",
       "      <td>0.105236</td>\n",
       "      <td>0.039917</td>\n",
       "      <td>0.017626</td>\n",
       "      <td>162</td>\n",
       "      <td>244</td>\n",
       "      <td>0.399015</td>\n",
       "    </tr>\n",
       "    <tr>\n",
       "      <th>lf_husband_wife_left_window</th>\n",
       "      <td>1</td>\n",
       "      <td>[1]</td>\n",
       "      <td>0.032141</td>\n",
       "      <td>0.026179</td>\n",
       "      <td>0.003888</td>\n",
       "      <td>58</td>\n",
       "      <td>66</td>\n",
       "      <td>0.467742</td>\n",
       "    </tr>\n",
       "    <tr>\n",
       "      <th>lf_familial_relationship</th>\n",
       "      <td>2</td>\n",
       "      <td>[0]</td>\n",
       "      <td>0.113271</td>\n",
       "      <td>0.043287</td>\n",
       "      <td>0.018144</td>\n",
       "      <td>423</td>\n",
       "      <td>14</td>\n",
       "      <td>0.967963</td>\n",
       "    </tr>\n",
       "    <tr>\n",
       "      <th>lf_family_left_window</th>\n",
       "      <td>3</td>\n",
       "      <td>[0]</td>\n",
       "      <td>0.038362</td>\n",
       "      <td>0.029290</td>\n",
       "      <td>0.004147</td>\n",
       "      <td>139</td>\n",
       "      <td>9</td>\n",
       "      <td>0.939189</td>\n",
       "    </tr>\n",
       "  </tbody>\n",
       "</table>\n",
       "</div>"
      ],
      "text/plain": [
       "                             j Polarity  Coverage  Overlaps  Conflicts  \\\n",
       "lf_husband_wife              0  [1]      0.105236  0.039917  0.017626    \n",
       "lf_husband_wife_left_window  1  [1]      0.032141  0.026179  0.003888    \n",
       "lf_familial_relationship     2  [0]      0.113271  0.043287  0.018144    \n",
       "lf_family_left_window        3  [0]      0.038362  0.029290  0.004147    \n",
       "\n",
       "                             Correct  Incorrect  Emp. Acc.  \n",
       "lf_husband_wife              162      244        0.399015   \n",
       "lf_husband_wife_left_window  58       66         0.467742   \n",
       "lf_familial_relationship     423      14         0.967963   \n",
       "lf_family_left_window        139      9          0.939189   "
      ]
     },
     "execution_count": 24,
     "metadata": {},
     "output_type": "execute_result"
    }
   ],
   "source": [
    "# Summarize performance on training set.\n",
    "LFAnalysis(L_train, lfs).lf_summary(Y_train)"
   ]
  },
  {
   "cell_type": "code",
   "execution_count": 25,
   "metadata": {},
   "outputs": [
    {
     "data": {
      "text/html": [
       "<div>\n",
       "<style scoped>\n",
       "    .dataframe tbody tr th:only-of-type {\n",
       "        vertical-align: middle;\n",
       "    }\n",
       "\n",
       "    .dataframe tbody tr th {\n",
       "        vertical-align: top;\n",
       "    }\n",
       "\n",
       "    .dataframe thead th {\n",
       "        text-align: right;\n",
       "    }\n",
       "</style>\n",
       "<table border=\"1\" class=\"dataframe\">\n",
       "  <thead>\n",
       "    <tr style=\"text-align: right;\">\n",
       "      <th></th>\n",
       "      <th>j</th>\n",
       "      <th>Polarity</th>\n",
       "      <th>Coverage</th>\n",
       "      <th>Overlaps</th>\n",
       "      <th>Conflicts</th>\n",
       "      <th>Correct</th>\n",
       "      <th>Incorrect</th>\n",
       "      <th>Emp. Acc.</th>\n",
       "    </tr>\n",
       "  </thead>\n",
       "  <tbody>\n",
       "    <tr>\n",
       "      <th>lf_husband_wife</th>\n",
       "      <td>0</td>\n",
       "      <td>[1]</td>\n",
       "      <td>0.079566</td>\n",
       "      <td>0.028933</td>\n",
       "      <td>0.012658</td>\n",
       "      <td>21</td>\n",
       "      <td>23</td>\n",
       "      <td>0.477273</td>\n",
       "    </tr>\n",
       "    <tr>\n",
       "      <th>lf_husband_wife_left_window</th>\n",
       "      <td>1</td>\n",
       "      <td>[1]</td>\n",
       "      <td>0.023508</td>\n",
       "      <td>0.018083</td>\n",
       "      <td>0.001808</td>\n",
       "      <td>7</td>\n",
       "      <td>6</td>\n",
       "      <td>0.538462</td>\n",
       "    </tr>\n",
       "    <tr>\n",
       "      <th>lf_familial_relationship</th>\n",
       "      <td>2</td>\n",
       "      <td>[0]</td>\n",
       "      <td>0.122966</td>\n",
       "      <td>0.036166</td>\n",
       "      <td>0.012658</td>\n",
       "      <td>64</td>\n",
       "      <td>4</td>\n",
       "      <td>0.941176</td>\n",
       "    </tr>\n",
       "    <tr>\n",
       "      <th>lf_family_left_window</th>\n",
       "      <td>3</td>\n",
       "      <td>[0]</td>\n",
       "      <td>0.034358</td>\n",
       "      <td>0.023508</td>\n",
       "      <td>0.000000</td>\n",
       "      <td>18</td>\n",
       "      <td>1</td>\n",
       "      <td>0.947368</td>\n",
       "    </tr>\n",
       "  </tbody>\n",
       "</table>\n",
       "</div>"
      ],
      "text/plain": [
       "                             j Polarity  Coverage  Overlaps  Conflicts  \\\n",
       "lf_husband_wife              0  [1]      0.079566  0.028933  0.012658    \n",
       "lf_husband_wife_left_window  1  [1]      0.023508  0.018083  0.001808    \n",
       "lf_familial_relationship     2  [0]      0.122966  0.036166  0.012658    \n",
       "lf_family_left_window        3  [0]      0.034358  0.023508  0.000000    \n",
       "\n",
       "                             Correct  Incorrect  Emp. Acc.  \n",
       "lf_husband_wife              21       23         0.477273   \n",
       "lf_husband_wife_left_window  7        6          0.538462   \n",
       "lf_familial_relationship     64       4          0.941176   \n",
       "lf_family_left_window        18       1          0.947368   "
      ]
     },
     "execution_count": 25,
     "metadata": {},
     "output_type": "execute_result"
    }
   ],
   "source": [
    "# Summarize performance on val set.\n",
    "LFAnalysis(L_val, lfs).lf_summary(Y_val)"
   ]
  },
  {
   "cell_type": "code",
   "execution_count": 26,
   "metadata": {},
   "outputs": [
    {
     "data": {
      "text/html": [
       "<div>\n",
       "<style scoped>\n",
       "    .dataframe tbody tr th:only-of-type {\n",
       "        vertical-align: middle;\n",
       "    }\n",
       "\n",
       "    .dataframe tbody tr th {\n",
       "        vertical-align: top;\n",
       "    }\n",
       "\n",
       "    .dataframe thead th {\n",
       "        text-align: right;\n",
       "    }\n",
       "</style>\n",
       "<table border=\"1\" class=\"dataframe\">\n",
       "  <thead>\n",
       "    <tr style=\"text-align: right;\">\n",
       "      <th></th>\n",
       "      <th>j</th>\n",
       "      <th>Polarity</th>\n",
       "      <th>Coverage</th>\n",
       "      <th>Overlaps</th>\n",
       "      <th>Conflicts</th>\n",
       "      <th>Correct</th>\n",
       "      <th>Incorrect</th>\n",
       "      <th>Emp. Acc.</th>\n",
       "    </tr>\n",
       "  </thead>\n",
       "  <tbody>\n",
       "    <tr>\n",
       "      <th>lf_husband_wife</th>\n",
       "      <td>0</td>\n",
       "      <td>[1]</td>\n",
       "      <td>0.098093</td>\n",
       "      <td>0.035422</td>\n",
       "      <td>0.019982</td>\n",
       "      <td>40</td>\n",
       "      <td>68</td>\n",
       "      <td>0.370370</td>\n",
       "    </tr>\n",
       "    <tr>\n",
       "      <th>lf_husband_wife_left_window</th>\n",
       "      <td>1</td>\n",
       "      <td>[1]</td>\n",
       "      <td>0.029064</td>\n",
       "      <td>0.021798</td>\n",
       "      <td>0.006358</td>\n",
       "      <td>11</td>\n",
       "      <td>21</td>\n",
       "      <td>0.343750</td>\n",
       "    </tr>\n",
       "    <tr>\n",
       "      <th>lf_familial_relationship</th>\n",
       "      <td>2</td>\n",
       "      <td>[0]</td>\n",
       "      <td>0.102634</td>\n",
       "      <td>0.038147</td>\n",
       "      <td>0.019982</td>\n",
       "      <td>101</td>\n",
       "      <td>12</td>\n",
       "      <td>0.893805</td>\n",
       "    </tr>\n",
       "    <tr>\n",
       "      <th>lf_family_left_window</th>\n",
       "      <td>3</td>\n",
       "      <td>[0]</td>\n",
       "      <td>0.035422</td>\n",
       "      <td>0.023615</td>\n",
       "      <td>0.005450</td>\n",
       "      <td>37</td>\n",
       "      <td>2</td>\n",
       "      <td>0.948718</td>\n",
       "    </tr>\n",
       "  </tbody>\n",
       "</table>\n",
       "</div>"
      ],
      "text/plain": [
       "                             j Polarity  Coverage  Overlaps  Conflicts  \\\n",
       "lf_husband_wife              0  [1]      0.098093  0.035422  0.019982    \n",
       "lf_husband_wife_left_window  1  [1]      0.029064  0.021798  0.006358    \n",
       "lf_familial_relationship     2  [0]      0.102634  0.038147  0.019982    \n",
       "lf_family_left_window        3  [0]      0.035422  0.023615  0.005450    \n",
       "\n",
       "                             Correct  Incorrect  Emp. Acc.  \n",
       "lf_husband_wife              40       68         0.370370   \n",
       "lf_husband_wife_left_window  11       21         0.343750   \n",
       "lf_familial_relationship     101      12         0.893805   \n",
       "lf_family_left_window        37       2          0.948718   "
      ]
     },
     "execution_count": 26,
     "metadata": {},
     "output_type": "execute_result"
    }
   ],
   "source": [
    "# Summarize performance on test set.\n",
    "LFAnalysis(L_test, lfs).lf_summary(Y_test)"
   ]
  },
  {
   "cell_type": "markdown",
   "metadata": {},
   "source": [
    "### Training the Label Model\n",
    "\n",
    "Now, we'll train a model of the LFs to estimate their weights and combine their outputs. Once the model is trained, we can combine the outputs of the LFs into a single, noise-aware training label set for our extractor."
   ]
  },
  {
   "cell_type": "code",
   "execution_count": 27,
   "metadata": {
    "tags": [
     "md-exclude-output"
    ]
   },
   "outputs": [
    {
     "name": "stderr",
     "output_type": "stream",
     "text": [
      "INFO:root:Computing O...\n",
      "INFO:root:Estimating \\mu...\n",
      "  0%|                                                | 0/300 [00:00<?, ?epoch/s]INFO:root:[0 epochs]: TRAIN:[loss=0.006]\n",
      "INFO:root:[10 epochs]: TRAIN:[loss=0.003]\n",
      "INFO:root:[20 epochs]: TRAIN:[loss=0.002]\n",
      "INFO:root:[30 epochs]: TRAIN:[loss=0.002]\n",
      "INFO:root:[40 epochs]: TRAIN:[loss=0.002]\n",
      "INFO:root:[50 epochs]: TRAIN:[loss=0.002]\n",
      "INFO:root:[60 epochs]: TRAIN:[loss=0.002]\n",
      "INFO:root:[70 epochs]: TRAIN:[loss=0.002]\n",
      "INFO:root:[80 epochs]: TRAIN:[loss=0.002]\n",
      "INFO:root:[90 epochs]: TRAIN:[loss=0.002]\n",
      "INFO:root:[100 epochs]: TRAIN:[loss=0.002]\n",
      " 35%|████████████▍                       | 104/300 [00:00<00:00, 1033.47epoch/s]INFO:root:[110 epochs]: TRAIN:[loss=0.002]\n",
      "INFO:root:[120 epochs]: TRAIN:[loss=0.002]\n",
      "INFO:root:[130 epochs]: TRAIN:[loss=0.002]\n",
      "INFO:root:[140 epochs]: TRAIN:[loss=0.001]\n",
      "INFO:root:[150 epochs]: TRAIN:[loss=0.001]\n",
      "INFO:root:[160 epochs]: TRAIN:[loss=0.001]\n",
      "INFO:root:[170 epochs]: TRAIN:[loss=0.001]\n",
      "INFO:root:[180 epochs]: TRAIN:[loss=0.001]\n",
      "INFO:root:[190 epochs]: TRAIN:[loss=0.001]\n",
      "INFO:root:[200 epochs]: TRAIN:[loss=0.001]\n",
      " 69%|█████████████████████████▋           | 208/300 [00:00<00:00, 974.21epoch/s]INFO:root:[210 epochs]: TRAIN:[loss=0.001]\n",
      "INFO:root:[220 epochs]: TRAIN:[loss=0.001]\n",
      "INFO:root:[230 epochs]: TRAIN:[loss=0.001]\n",
      "INFO:root:[240 epochs]: TRAIN:[loss=0.001]\n",
      "INFO:root:[250 epochs]: TRAIN:[loss=0.001]\n",
      "INFO:root:[260 epochs]: TRAIN:[loss=0.001]\n",
      "INFO:root:[270 epochs]: TRAIN:[loss=0.001]\n",
      "INFO:root:[280 epochs]: TRAIN:[loss=0.001]\n",
      "INFO:root:[290 epochs]: TRAIN:[loss=0.001]\n",
      "100%|████████████████████████████████████| 300/300 [00:00<00:00, 1015.96epoch/s]\n",
      "INFO:root:Finished Training\n"
     ]
    }
   ],
   "source": [
    "label_model = LabelModel(cardinality = 2, verbose = True)\n",
    "label_model.fit(L_train, \n",
    "                n_epochs = 300, \n",
    "                log_freq = 10, \n",
    "                seed = 12345)"
   ]
  },
  {
   "cell_type": "code",
   "execution_count": 28,
   "metadata": {},
   "outputs": [
    {
     "data": {
      "text/plain": [
       "(array([-1,  0,  1]), array([14317,   585,   530]))"
      ]
     },
     "execution_count": 28,
     "metadata": {},
     "output_type": "execute_result"
    }
   ],
   "source": [
    "np.unique(L_train, return_counts = True)"
   ]
  },
  {
   "cell_type": "markdown",
   "metadata": {},
   "source": [
    "### Label Model Metrics – no tuning\n",
    "Since our dataset is highly unbalanced (91% of the labels are negative), even a trivial baseline that always outputs negative can get a high accuracy. So we evaluate the label model using the F1 score and ROC-AUC rather than accuracy."
   ]
  },
  {
   "cell_type": "code",
   "execution_count": 29,
   "metadata": {},
   "outputs": [],
   "source": [
    "# Init majority vote model.\n",
    "majority_model = MajorityLabelVoter()"
   ]
  },
  {
   "cell_type": "code",
   "execution_count": 30,
   "metadata": {},
   "outputs": [
    {
     "name": "stderr",
     "output_type": "stream",
     "text": [
      "WARNING:root:Metrics calculated over data points with non-abstain labels only\n",
      "WARNING:root:Metrics calculated over data points with non-abstain labels only\n"
     ]
    }
   ],
   "source": [
    "# Compute model performance metrics.\n",
    "majority_scores = majority_model.score(L = L_test, \n",
    "                                       Y = Y_test, \n",
    "                                       tie_break_policy = \"abstain\",\n",
    "                                       metrics = [\"f1\", \"accuracy\", \"precision\", \n",
    "                                                  \"recall\", \"roc_auc\", \"coverage\"])\n",
    "label_scores = label_model.score(L = L_test, \n",
    "                                 Y = Y_test, \n",
    "                                 tie_break_policy = \"abstain\",\n",
    "                                 metrics = [\"f1\", \"accuracy\", \"precision\", \n",
    "                                            \"recall\", \"roc_auc\", \"coverage\"])"
   ]
  },
  {
   "cell_type": "code",
   "execution_count": 31,
   "metadata": {},
   "outputs": [
    {
     "name": "stdout",
     "output_type": "stream",
     "text": [
      "(array([0, 1]), array([1020,   81]))\n",
      "Dummy accuracy: 0.9264305177111717\n",
      "-----------------------------------\n",
      "Majority Model F1:        48.9%\n",
      "Majority Model Accuracy:  65.7%\n",
      "Majority Model Precision: 34.3%\n",
      "Majority Model Recall:    85.0%\n",
      "Majority Model AUC ROC:   73.0%\n",
      "Majority Model Coverage:  18.8%\n",
      "-----------------------------------\n",
      "Label Model F1:           46.6%\n",
      "Label Model Accuracy:     64.9%\n",
      "Label Model Precision:    33.7%\n",
      "Label Model Recall:       75.6%\n",
      "Label Model AUC ROC:      72.7%\n",
      "Label Model Coverage:     20.2%\n"
     ]
    }
   ],
   "source": [
    "# Compare model performance metrics.\n",
    "print(np.unique(Y_test, return_counts = True))\n",
    "counts = np.unique(Y_test, return_counts = True)\n",
    "print(\"Dummy accuracy:\", counts[1].max() / len(Y_test))\n",
    "print(\"-----------------------------------\")\n",
    "\n",
    "majority_f1 = majority_scores.get(\"f1\")\n",
    "majority_acc = majority_scores.get(\"accuracy\")\n",
    "majority_prec = majority_scores.get(\"precision\")\n",
    "majority_rec = majority_scores.get(\"recall\")\n",
    "majority_roc = majority_scores.get(\"roc_auc\")\n",
    "majority_cov = majority_scores.get(\"coverage\")\n",
    "print(f\"{'Majority Model F1:':<25} {majority_f1 * 100:.1f}%\")\n",
    "print(f\"{'Majority Model Accuracy:':<25} {majority_acc * 100:.1f}%\")\n",
    "print(f\"{'Majority Model Precision:':<25} {majority_prec * 100:.1f}%\")\n",
    "print(f\"{'Majority Model Recall:':<25} {majority_rec * 100:.1f}%\")\n",
    "print(f\"{'Majority Model AUC ROC:':<25} {majority_roc * 100:.1f}%\")\n",
    "print(f\"{'Majority Model Coverage:':<25} {majority_cov * 100:.1f}%\")\n",
    "print(\"-----------------------------------\")\n",
    "\n",
    "label_f1 = label_scores.get(\"f1\")\n",
    "label_acc = label_scores.get(\"accuracy\")\n",
    "label_prec = label_scores.get(\"precision\")\n",
    "label_rec = label_scores.get(\"recall\")\n",
    "label_roc = label_scores.get(\"roc_auc\")\n",
    "label_cov = label_scores.get(\"coverage\")\n",
    "print(f\"{'Label Model F1:':<25} {label_f1 * 100:.1f}%\")\n",
    "print(f\"{'Label Model Accuracy:':<25} {label_acc * 100:.1f}%\")\n",
    "print(f\"{'Label Model Precision:':<25} {label_prec * 100:.1f}%\")\n",
    "print(f\"{'Label Model Recall:':<25} {label_rec * 100:.1f}%\")\n",
    "print(f\"{'Label Model AUC ROC:':<25} {label_roc * 100:.1f}%\")\n",
    "print(f\"{'Label Model Coverage:':<25} {label_cov * 100:.1f}%\")"
   ]
  },
  {
   "cell_type": "markdown",
   "metadata": {},
   "source": [
    "## Model tuning\n",
    "\n",
    "Tune labeling model [hyperparameters](https://snorkel.readthedocs.io/en/v0.9.7/packages/_autosummary/labeling/snorkel.labeling.model.label_model.LabelModel.html#snorkel.labeling.model.label_model.LabelModel) using grid search."
   ]
  },
  {
   "cell_type": "code",
   "execution_count": 32,
   "metadata": {},
   "outputs": [
    {
     "name": "stdout",
     "output_type": "stream",
     "text": [
      "\n",
      "--- HYPERPARAMETER SEARCH SPACE: ---\n",
      "\n",
      "Total combinations: 27\n",
      "\n",
      "[(50, 0.0, 0.001), (50, 0.0, 0.01), (50, 0.0, 0.1), (50, 0.2, 0.001), (50, 0.2, 0.01), (50, 0.2, 0.1), (50, 0.4, 0.001), (50, 0.4, 0.01), (50, 0.4, 0.1), (100, 0.0, 0.001), (100, 0.0, 0.01), (100, 0.0, 0.1), (100, 0.2, 0.001), (100, 0.2, 0.01), (100, 0.2, 0.1), (100, 0.4, 0.001), (100, 0.4, 0.01), (100, 0.4, 0.1), (250, 0.0, 0.001), (250, 0.0, 0.01), (250, 0.0, 0.1), (250, 0.2, 0.001), (250, 0.2, 0.01), (250, 0.2, 0.1), (250, 0.4, 0.001), (250, 0.4, 0.01), (250, 0.4, 0.1)]\n"
     ]
    }
   ],
   "source": [
    "# Search space.\n",
    "epochs = [50, 100, 250]\n",
    "l2 = [0.0, 0.2, 0.4]\n",
    "lr = [0.001, 0.01, 0.1]\n",
    "seed = 42\n",
    "\n",
    "# Take cartesian product to obtain grid search space.\n",
    "search_space = list(itertools.product(epochs, l2, lr))\n",
    "print(\"\\n--- HYPERPARAMETER SEARCH SPACE: ---\\n\")\n",
    "print(\"Total combinations:\", len(search_space))\n",
    "print()\n",
    "print(search_space)"
   ]
  },
  {
   "cell_type": "code",
   "execution_count": 33,
   "metadata": {},
   "outputs": [
    {
     "name": "stderr",
     "output_type": "stream",
     "text": [
      "INFO:root:Computing O...\n",
      "INFO:root:Estimating \\mu...\n",
      "  0%|                                                 | 0/50 [00:00<?, ?epoch/s]INFO:root:[0 epochs]: TRAIN:[loss=0.018]\n",
      "INFO:root:[10 epochs]: TRAIN:[loss=0.016]\n",
      "INFO:root:[20 epochs]: TRAIN:[loss=0.014]\n",
      "INFO:root:[30 epochs]: TRAIN:[loss=0.012]\n",
      "INFO:root:[40 epochs]: TRAIN:[loss=0.010]\n",
      "100%|███████████████████████████████████████| 50/50 [00:00<00:00, 971.12epoch/s]\n",
      "INFO:root:Finished Training\n",
      "WARNING:root:Metrics calculated over data points with non-abstain labels only\n",
      "INFO:root:Computing O...\n",
      "INFO:root:Estimating \\mu...\n"
     ]
    },
    {
     "name": "stdout",
     "output_type": "stream",
     "text": [
      "\n",
      "--- HYPERPARAMETERS (epochs, l2, lr): ---\n",
      "(50, 0.0, 0.001)\n",
      "F1: 59.38 | Accuracy: 77.19 | Precision: 46.34 | Recall: 82.61 | AUC ROC: 82.99 | Coverage: 20.61\n",
      "----------------------------------------------------\n"
     ]
    },
    {
     "name": "stderr",
     "output_type": "stream",
     "text": [
      "  0%|                                                 | 0/50 [00:00<?, ?epoch/s]INFO:root:[0 epochs]: TRAIN:[loss=0.018]\n",
      "INFO:root:[10 epochs]: TRAIN:[loss=0.008]\n",
      "INFO:root:[20 epochs]: TRAIN:[loss=0.002]\n",
      "INFO:root:[30 epochs]: TRAIN:[loss=0.002]\n",
      "INFO:root:[40 epochs]: TRAIN:[loss=0.002]\n",
      "100%|███████████████████████████████████████| 50/50 [00:00<00:00, 993.48epoch/s]\n",
      "INFO:root:Finished Training\n",
      "WARNING:root:Metrics calculated over data points with non-abstain labels only\n",
      "INFO:root:Computing O...\n",
      "INFO:root:Estimating \\mu...\n"
     ]
    },
    {
     "name": "stdout",
     "output_type": "stream",
     "text": [
      "\n",
      "--- HYPERPARAMETERS (epochs, l2, lr): ---\n",
      "(50, 0.0, 0.01)\n",
      "F1: 59.38 | Accuracy: 77.19 | Precision: 46.34 | Recall: 82.61 | AUC ROC: 82.99 | Coverage: 20.61\n",
      "----------------------------------------------------\n"
     ]
    },
    {
     "name": "stderr",
     "output_type": "stream",
     "text": [
      "  0%|                                                 | 0/50 [00:00<?, ?epoch/s]INFO:root:[0 epochs]: TRAIN:[loss=0.018]\n",
      "INFO:root:[10 epochs]: TRAIN:[loss=0.007]\n",
      "INFO:root:[20 epochs]: TRAIN:[loss=0.004]\n",
      "INFO:root:[30 epochs]: TRAIN:[loss=0.002]\n",
      "INFO:root:[40 epochs]: TRAIN:[loss=0.002]\n",
      "100%|███████████████████████████████████████| 50/50 [00:00<00:00, 968.41epoch/s]\n",
      "INFO:root:Finished Training\n",
      "WARNING:root:Metrics calculated over data points with non-abstain labels only\n",
      "INFO:root:Computing O...\n",
      "INFO:root:Estimating \\mu...\n"
     ]
    },
    {
     "name": "stdout",
     "output_type": "stream",
     "text": [
      "\n",
      "--- HYPERPARAMETERS (epochs, l2, lr): ---\n",
      "(50, 0.0, 0.1)\n",
      "F1: 59.38 | Accuracy: 77.19 | Precision: 46.34 | Recall: 82.61 | AUC ROC: 82.99 | Coverage: 20.61\n",
      "----------------------------------------------------\n"
     ]
    },
    {
     "name": "stderr",
     "output_type": "stream",
     "text": [
      "  0%|                                                 | 0/50 [00:00<?, ?epoch/s]INFO:root:[0 epochs]: TRAIN:[loss=0.018]\n",
      "INFO:root:[10 epochs]: TRAIN:[loss=0.017]\n",
      "INFO:root:[20 epochs]: TRAIN:[loss=0.015]\n",
      "INFO:root:[30 epochs]: TRAIN:[loss=0.013]\n",
      "INFO:root:[40 epochs]: TRAIN:[loss=0.011]\n",
      "100%|███████████████████████████████████████| 50/50 [00:00<00:00, 933.92epoch/s]\n",
      "INFO:root:Finished Training\n",
      "WARNING:root:Metrics calculated over data points with non-abstain labels only\n",
      "INFO:root:Computing O...\n",
      "INFO:root:Estimating \\mu...\n"
     ]
    },
    {
     "name": "stdout",
     "output_type": "stream",
     "text": [
      "\n",
      "--- HYPERPARAMETERS (epochs, l2, lr): ---\n",
      "(50, 0.2, 0.001)\n",
      "F1: 59.38 | Accuracy: 77.19 | Precision: 46.34 | Recall: 82.61 | AUC ROC: 82.99 | Coverage: 20.61\n",
      "----------------------------------------------------\n"
     ]
    },
    {
     "name": "stderr",
     "output_type": "stream",
     "text": [
      "  0%|                                                 | 0/50 [00:00<?, ?epoch/s]INFO:root:[0 epochs]: TRAIN:[loss=0.018]\n",
      "INFO:root:[10 epochs]: TRAIN:[loss=0.009]\n",
      "INFO:root:[20 epochs]: TRAIN:[loss=0.003]\n",
      "INFO:root:[30 epochs]: TRAIN:[loss=0.003]\n",
      "INFO:root:[40 epochs]: TRAIN:[loss=0.003]\n",
      "100%|███████████████████████████████████████| 50/50 [00:00<00:00, 969.23epoch/s]\n",
      "INFO:root:Finished Training\n",
      "WARNING:root:Metrics calculated over data points with non-abstain labels only\n",
      "INFO:root:Computing O...\n",
      "INFO:root:Estimating \\mu...\n"
     ]
    },
    {
     "name": "stdout",
     "output_type": "stream",
     "text": [
      "\n",
      "--- HYPERPARAMETERS (epochs, l2, lr): ---\n",
      "(50, 0.2, 0.01)\n",
      "F1: 59.38 | Accuracy: 77.19 | Precision: 46.34 | Recall: 82.61 | AUC ROC: 82.99 | Coverage: 20.61\n",
      "----------------------------------------------------\n"
     ]
    },
    {
     "name": "stderr",
     "output_type": "stream",
     "text": [
      "  0%|                                                 | 0/50 [00:00<?, ?epoch/s]INFO:root:[0 epochs]: TRAIN:[loss=0.018]\n",
      "INFO:root:[10 epochs]: TRAIN:[loss=0.003]\n",
      "INFO:root:[20 epochs]: TRAIN:[loss=0.005]\n",
      "INFO:root:[30 epochs]: TRAIN:[loss=0.003]\n",
      "INFO:root:[40 epochs]: TRAIN:[loss=0.003]\n",
      "100%|███████████████████████████████████████| 50/50 [00:00<00:00, 973.05epoch/s]\n",
      "INFO:root:Finished Training\n",
      "WARNING:root:Metrics calculated over data points with non-abstain labels only\n",
      "INFO:root:Computing O...\n",
      "INFO:root:Estimating \\mu...\n"
     ]
    },
    {
     "name": "stdout",
     "output_type": "stream",
     "text": [
      "\n",
      "--- HYPERPARAMETERS (epochs, l2, lr): ---\n",
      "(50, 0.2, 0.1)\n",
      "F1: 59.38 | Accuracy: 77.19 | Precision: 46.34 | Recall: 82.61 | AUC ROC: 82.99 | Coverage: 20.61\n",
      "----------------------------------------------------\n"
     ]
    },
    {
     "name": "stderr",
     "output_type": "stream",
     "text": [
      "  0%|                                                 | 0/50 [00:00<?, ?epoch/s]INFO:root:[0 epochs]: TRAIN:[loss=0.021]\n",
      "INFO:root:[10 epochs]: TRAIN:[loss=0.019]\n",
      "INFO:root:[20 epochs]: TRAIN:[loss=0.017]\n",
      "INFO:root:[30 epochs]: TRAIN:[loss=0.014]\n",
      "INFO:root:[40 epochs]: TRAIN:[loss=0.012]\n",
      "100%|██████████████████████████████████████| 50/50 [00:00<00:00, 1040.04epoch/s]\n",
      "INFO:root:Finished Training\n",
      "WARNING:root:Metrics calculated over data points with non-abstain labels only\n",
      "INFO:root:Computing O...\n",
      "INFO:root:Estimating \\mu...\n"
     ]
    },
    {
     "name": "stdout",
     "output_type": "stream",
     "text": [
      "\n",
      "--- HYPERPARAMETERS (epochs, l2, lr): ---\n",
      "(50, 0.4, 0.001)\n",
      "F1: 59.38 | Accuracy: 77.19 | Precision: 46.34 | Recall: 82.61 | AUC ROC: 82.99 | Coverage: 20.61\n",
      "----------------------------------------------------\n"
     ]
    },
    {
     "name": "stderr",
     "output_type": "stream",
     "text": [
      "  0%|                                                 | 0/50 [00:00<?, ?epoch/s]INFO:root:[0 epochs]: TRAIN:[loss=0.021]\n",
      "INFO:root:[10 epochs]: TRAIN:[loss=0.010]\n",
      "INFO:root:[20 epochs]: TRAIN:[loss=0.005]\n",
      "INFO:root:[30 epochs]: TRAIN:[loss=0.004]\n",
      "INFO:root:[40 epochs]: TRAIN:[loss=0.005]\n",
      "100%|██████████████████████████████████████| 50/50 [00:00<00:00, 1051.28epoch/s]\n",
      "INFO:root:Finished Training\n",
      "WARNING:root:Metrics calculated over data points with non-abstain labels only\n",
      "INFO:root:Computing O...\n",
      "INFO:root:Estimating \\mu...\n"
     ]
    },
    {
     "name": "stdout",
     "output_type": "stream",
     "text": [
      "\n",
      "--- HYPERPARAMETERS (epochs, l2, lr): ---\n",
      "(50, 0.4, 0.01)\n",
      "F1: 59.38 | Accuracy: 77.19 | Precision: 46.34 | Recall: 82.61 | AUC ROC: 82.99 | Coverage: 20.61\n",
      "----------------------------------------------------\n"
     ]
    },
    {
     "name": "stderr",
     "output_type": "stream",
     "text": [
      "  0%|                                                 | 0/50 [00:00<?, ?epoch/s]INFO:root:[0 epochs]: TRAIN:[loss=0.021]\n",
      "INFO:root:[10 epochs]: TRAIN:[loss=0.004]\n",
      "INFO:root:[20 epochs]: TRAIN:[loss=0.004]\n",
      "INFO:root:[30 epochs]: TRAIN:[loss=0.007]\n",
      "INFO:root:[40 epochs]: TRAIN:[loss=0.005]\n",
      "100%|██████████████████████████████████████| 50/50 [00:00<00:00, 1034.59epoch/s]\n",
      "INFO:root:Finished Training\n",
      "WARNING:root:Metrics calculated over data points with non-abstain labels only\n",
      "INFO:root:Computing O...\n",
      "INFO:root:Estimating \\mu...\n"
     ]
    },
    {
     "name": "stdout",
     "output_type": "stream",
     "text": [
      "\n",
      "--- HYPERPARAMETERS (epochs, l2, lr): ---\n",
      "(50, 0.4, 0.1)\n",
      "F1: 59.38 | Accuracy: 77.19 | Precision: 46.34 | Recall: 82.61 | AUC ROC: 82.99 | Coverage: 20.61\n",
      "----------------------------------------------------\n"
     ]
    },
    {
     "name": "stderr",
     "output_type": "stream",
     "text": [
      "  0%|                                                | 0/100 [00:00<?, ?epoch/s]INFO:root:[0 epochs]: TRAIN:[loss=0.018]\n",
      "INFO:root:[10 epochs]: TRAIN:[loss=0.016]\n",
      "INFO:root:[20 epochs]: TRAIN:[loss=0.014]\n",
      "INFO:root:[30 epochs]: TRAIN:[loss=0.012]\n",
      "INFO:root:[40 epochs]: TRAIN:[loss=0.010]\n",
      "INFO:root:[50 epochs]: TRAIN:[loss=0.009]\n",
      "INFO:root:[60 epochs]: TRAIN:[loss=0.007]\n",
      "INFO:root:[70 epochs]: TRAIN:[loss=0.006]\n",
      "INFO:root:[80 epochs]: TRAIN:[loss=0.005]\n",
      "INFO:root:[90 epochs]: TRAIN:[loss=0.005]\n",
      "100%|████████████████████████████████████| 100/100 [00:00<00:00, 1025.69epoch/s]\n",
      "INFO:root:Finished Training\n",
      "WARNING:root:Metrics calculated over data points with non-abstain labels only\n",
      "INFO:root:Computing O...\n",
      "INFO:root:Estimating \\mu...\n"
     ]
    },
    {
     "name": "stdout",
     "output_type": "stream",
     "text": [
      "\n",
      "--- HYPERPARAMETERS (epochs, l2, lr): ---\n",
      "(100, 0.0, 0.001)\n",
      "F1: 59.38 | Accuracy: 77.19 | Precision: 46.34 | Recall: 82.61 | AUC ROC: 82.99 | Coverage: 20.61\n",
      "----------------------------------------------------\n"
     ]
    },
    {
     "name": "stderr",
     "output_type": "stream",
     "text": [
      "  0%|                                                | 0/100 [00:00<?, ?epoch/s]INFO:root:[0 epochs]: TRAIN:[loss=0.018]\n",
      "INFO:root:[10 epochs]: TRAIN:[loss=0.008]\n",
      "INFO:root:[20 epochs]: TRAIN:[loss=0.002]\n",
      "INFO:root:[30 epochs]: TRAIN:[loss=0.002]\n",
      "INFO:root:[40 epochs]: TRAIN:[loss=0.002]\n",
      "INFO:root:[50 epochs]: TRAIN:[loss=0.002]\n",
      "INFO:root:[60 epochs]: TRAIN:[loss=0.002]\n",
      "INFO:root:[70 epochs]: TRAIN:[loss=0.002]\n",
      "INFO:root:[80 epochs]: TRAIN:[loss=0.002]\n",
      "INFO:root:[90 epochs]: TRAIN:[loss=0.002]\n",
      "100%|████████████████████████████████████| 100/100 [00:00<00:00, 1097.31epoch/s]\n",
      "INFO:root:Finished Training\n",
      "WARNING:root:Metrics calculated over data points with non-abstain labels only\n",
      "INFO:root:Computing O...\n",
      "INFO:root:Estimating \\mu...\n"
     ]
    },
    {
     "name": "stdout",
     "output_type": "stream",
     "text": [
      "\n",
      "--- HYPERPARAMETERS (epochs, l2, lr): ---\n",
      "(100, 0.0, 0.01)\n",
      "F1: 59.38 | Accuracy: 77.19 | Precision: 46.34 | Recall: 82.61 | AUC ROC: 82.99 | Coverage: 20.61\n",
      "----------------------------------------------------\n"
     ]
    },
    {
     "name": "stderr",
     "output_type": "stream",
     "text": [
      "  0%|                                                | 0/100 [00:00<?, ?epoch/s]INFO:root:[0 epochs]: TRAIN:[loss=0.018]\n",
      "INFO:root:[10 epochs]: TRAIN:[loss=0.007]\n",
      "INFO:root:[20 epochs]: TRAIN:[loss=0.004]\n",
      "INFO:root:[30 epochs]: TRAIN:[loss=0.002]\n",
      "INFO:root:[40 epochs]: TRAIN:[loss=0.002]\n",
      "INFO:root:[50 epochs]: TRAIN:[loss=0.001]\n",
      "INFO:root:[60 epochs]: TRAIN:[loss=0.001]\n",
      "INFO:root:[70 epochs]: TRAIN:[loss=0.001]\n",
      "INFO:root:[80 epochs]: TRAIN:[loss=0.001]\n",
      "INFO:root:[90 epochs]: TRAIN:[loss=0.001]\n",
      "100%|████████████████████████████████████| 100/100 [00:00<00:00, 1164.55epoch/s]\n",
      "INFO:root:Finished Training\n",
      "WARNING:root:Metrics calculated over data points with non-abstain labels only\n",
      "INFO:root:Computing O...\n",
      "INFO:root:Estimating \\mu...\n"
     ]
    },
    {
     "name": "stdout",
     "output_type": "stream",
     "text": [
      "\n",
      "--- HYPERPARAMETERS (epochs, l2, lr): ---\n",
      "(100, 0.0, 0.1)\n",
      "F1: 57.14 | Accuracy: 76.32 | Precision: 45.0 | Recall: 78.26 | AUC ROC: 84.23 | Coverage: 20.61\n",
      "----------------------------------------------------\n"
     ]
    },
    {
     "name": "stderr",
     "output_type": "stream",
     "text": [
      "  0%|                                                | 0/100 [00:00<?, ?epoch/s]INFO:root:[0 epochs]: TRAIN:[loss=0.018]\n",
      "INFO:root:[10 epochs]: TRAIN:[loss=0.017]\n",
      "INFO:root:[20 epochs]: TRAIN:[loss=0.015]\n",
      "INFO:root:[30 epochs]: TRAIN:[loss=0.013]\n",
      "INFO:root:[40 epochs]: TRAIN:[loss=0.011]\n",
      "INFO:root:[50 epochs]: TRAIN:[loss=0.010]\n",
      "INFO:root:[60 epochs]: TRAIN:[loss=0.008]\n",
      "INFO:root:[70 epochs]: TRAIN:[loss=0.007]\n",
      "INFO:root:[80 epochs]: TRAIN:[loss=0.007]\n",
      "INFO:root:[90 epochs]: TRAIN:[loss=0.006]\n",
      "100%|████████████████████████████████████| 100/100 [00:00<00:00, 1174.38epoch/s]\n",
      "INFO:root:Finished Training\n",
      "WARNING:root:Metrics calculated over data points with non-abstain labels only\n",
      "INFO:root:Computing O...\n",
      "INFO:root:Estimating \\mu...\n"
     ]
    },
    {
     "name": "stdout",
     "output_type": "stream",
     "text": [
      "\n",
      "--- HYPERPARAMETERS (epochs, l2, lr): ---\n",
      "(100, 0.2, 0.001)\n",
      "F1: 59.38 | Accuracy: 77.19 | Precision: 46.34 | Recall: 82.61 | AUC ROC: 82.99 | Coverage: 20.61\n",
      "----------------------------------------------------\n"
     ]
    },
    {
     "name": "stderr",
     "output_type": "stream",
     "text": [
      "  0%|                                                | 0/100 [00:00<?, ?epoch/s]INFO:root:[0 epochs]: TRAIN:[loss=0.018]\n",
      "INFO:root:[10 epochs]: TRAIN:[loss=0.009]\n",
      "INFO:root:[20 epochs]: TRAIN:[loss=0.003]\n",
      "INFO:root:[30 epochs]: TRAIN:[loss=0.003]\n",
      "INFO:root:[40 epochs]: TRAIN:[loss=0.003]\n",
      "INFO:root:[50 epochs]: TRAIN:[loss=0.003]\n",
      "INFO:root:[60 epochs]: TRAIN:[loss=0.004]\n",
      "INFO:root:[70 epochs]: TRAIN:[loss=0.003]\n",
      "INFO:root:[80 epochs]: TRAIN:[loss=0.003]\n",
      "INFO:root:[90 epochs]: TRAIN:[loss=0.003]\n",
      "100%|████████████████████████████████████| 100/100 [00:00<00:00, 1179.23epoch/s]\n",
      "INFO:root:Finished Training\n",
      "WARNING:root:Metrics calculated over data points with non-abstain labels only\n",
      "INFO:root:Computing O...\n",
      "INFO:root:Estimating \\mu...\n"
     ]
    },
    {
     "name": "stdout",
     "output_type": "stream",
     "text": [
      "\n",
      "--- HYPERPARAMETERS (epochs, l2, lr): ---\n",
      "(100, 0.2, 0.01)\n",
      "F1: 59.38 | Accuracy: 77.19 | Precision: 46.34 | Recall: 82.61 | AUC ROC: 82.99 | Coverage: 20.61\n",
      "----------------------------------------------------\n"
     ]
    },
    {
     "name": "stderr",
     "output_type": "stream",
     "text": [
      "  0%|                                                | 0/100 [00:00<?, ?epoch/s]INFO:root:[0 epochs]: TRAIN:[loss=0.018]\n",
      "INFO:root:[10 epochs]: TRAIN:[loss=0.003]\n",
      "INFO:root:[20 epochs]: TRAIN:[loss=0.005]\n",
      "INFO:root:[30 epochs]: TRAIN:[loss=0.003]\n",
      "INFO:root:[40 epochs]: TRAIN:[loss=0.003]\n",
      "INFO:root:[50 epochs]: TRAIN:[loss=0.004]\n",
      "INFO:root:[60 epochs]: TRAIN:[loss=0.003]\n",
      "INFO:root:[70 epochs]: TRAIN:[loss=0.003]\n",
      "INFO:root:[80 epochs]: TRAIN:[loss=0.003]\n",
      "INFO:root:[90 epochs]: TRAIN:[loss=0.003]\n",
      "100%|████████████████████████████████████| 100/100 [00:00<00:00, 1180.50epoch/s]\n",
      "INFO:root:Finished Training\n",
      "WARNING:root:Metrics calculated over data points with non-abstain labels only\n",
      "INFO:root:Computing O...\n",
      "INFO:root:Estimating \\mu...\n"
     ]
    },
    {
     "name": "stdout",
     "output_type": "stream",
     "text": [
      "\n",
      "--- HYPERPARAMETERS (epochs, l2, lr): ---\n",
      "(100, 0.2, 0.1)\n",
      "F1: 59.38 | Accuracy: 77.19 | Precision: 46.34 | Recall: 82.61 | AUC ROC: 82.99 | Coverage: 20.61\n",
      "----------------------------------------------------\n"
     ]
    },
    {
     "name": "stderr",
     "output_type": "stream",
     "text": [
      "  0%|                                                | 0/100 [00:00<?, ?epoch/s]INFO:root:[0 epochs]: TRAIN:[loss=0.021]\n",
      "INFO:root:[10 epochs]: TRAIN:[loss=0.019]\n",
      "INFO:root:[20 epochs]: TRAIN:[loss=0.017]\n",
      "INFO:root:[30 epochs]: TRAIN:[loss=0.014]\n",
      "INFO:root:[40 epochs]: TRAIN:[loss=0.012]\n",
      "INFO:root:[50 epochs]: TRAIN:[loss=0.011]\n",
      "INFO:root:[60 epochs]: TRAIN:[loss=0.010]\n",
      "INFO:root:[70 epochs]: TRAIN:[loss=0.009]\n",
      "INFO:root:[80 epochs]: TRAIN:[loss=0.008]\n",
      "INFO:root:[90 epochs]: TRAIN:[loss=0.008]\n",
      "100%|████████████████████████████████████| 100/100 [00:00<00:00, 1187.83epoch/s]\n",
      "INFO:root:Finished Training\n",
      "WARNING:root:Metrics calculated over data points with non-abstain labels only\n",
      "INFO:root:Computing O...\n",
      "INFO:root:Estimating \\mu...\n"
     ]
    },
    {
     "name": "stdout",
     "output_type": "stream",
     "text": [
      "\n",
      "--- HYPERPARAMETERS (epochs, l2, lr): ---\n",
      "(100, 0.4, 0.001)\n",
      "F1: 59.38 | Accuracy: 77.19 | Precision: 46.34 | Recall: 82.61 | AUC ROC: 82.99 | Coverage: 20.61\n",
      "----------------------------------------------------\n"
     ]
    },
    {
     "name": "stderr",
     "output_type": "stream",
     "text": [
      "  0%|                                                | 0/100 [00:00<?, ?epoch/s]INFO:root:[0 epochs]: TRAIN:[loss=0.021]\n",
      "INFO:root:[10 epochs]: TRAIN:[loss=0.010]\n",
      "INFO:root:[20 epochs]: TRAIN:[loss=0.005]\n",
      "INFO:root:[30 epochs]: TRAIN:[loss=0.004]\n",
      "INFO:root:[40 epochs]: TRAIN:[loss=0.005]\n",
      "INFO:root:[50 epochs]: TRAIN:[loss=0.006]\n",
      "INFO:root:[60 epochs]: TRAIN:[loss=0.006]\n",
      "INFO:root:[70 epochs]: TRAIN:[loss=0.006]\n",
      "INFO:root:[80 epochs]: TRAIN:[loss=0.005]\n",
      "INFO:root:[90 epochs]: TRAIN:[loss=0.006]\n",
      "100%|████████████████████████████████████| 100/100 [00:00<00:00, 1181.78epoch/s]\n",
      "INFO:root:Finished Training\n",
      "WARNING:root:Metrics calculated over data points with non-abstain labels only\n",
      "INFO:root:Computing O...\n",
      "INFO:root:Estimating \\mu...\n"
     ]
    },
    {
     "name": "stdout",
     "output_type": "stream",
     "text": [
      "\n",
      "--- HYPERPARAMETERS (epochs, l2, lr): ---\n",
      "(100, 0.4, 0.01)\n",
      "F1: 59.38 | Accuracy: 77.19 | Precision: 46.34 | Recall: 82.61 | AUC ROC: 82.99 | Coverage: 20.61\n",
      "----------------------------------------------------\n"
     ]
    },
    {
     "name": "stderr",
     "output_type": "stream",
     "text": [
      "  0%|                                                | 0/100 [00:00<?, ?epoch/s]INFO:root:[0 epochs]: TRAIN:[loss=0.021]\n",
      "INFO:root:[10 epochs]: TRAIN:[loss=0.004]\n",
      "INFO:root:[20 epochs]: TRAIN:[loss=0.004]\n",
      "INFO:root:[30 epochs]: TRAIN:[loss=0.007]\n",
      "INFO:root:[40 epochs]: TRAIN:[loss=0.005]\n",
      "INFO:root:[50 epochs]: TRAIN:[loss=0.005]\n",
      "INFO:root:[60 epochs]: TRAIN:[loss=0.006]\n",
      "INFO:root:[70 epochs]: TRAIN:[loss=0.006]\n",
      "INFO:root:[80 epochs]: TRAIN:[loss=0.005]\n",
      "INFO:root:[90 epochs]: TRAIN:[loss=0.006]\n",
      "100%|████████████████████████████████████| 100/100 [00:00<00:00, 1185.68epoch/s]\n",
      "INFO:root:Finished Training\n",
      "WARNING:root:Metrics calculated over data points with non-abstain labels only\n",
      "INFO:root:Computing O...\n",
      "INFO:root:Estimating \\mu...\n"
     ]
    },
    {
     "name": "stdout",
     "output_type": "stream",
     "text": [
      "\n",
      "--- HYPERPARAMETERS (epochs, l2, lr): ---\n",
      "(100, 0.4, 0.1)\n",
      "F1: 59.38 | Accuracy: 77.19 | Precision: 46.34 | Recall: 82.61 | AUC ROC: 82.99 | Coverage: 20.61\n",
      "----------------------------------------------------\n"
     ]
    },
    {
     "name": "stderr",
     "output_type": "stream",
     "text": [
      "  0%|                                                | 0/250 [00:00<?, ?epoch/s]INFO:root:[0 epochs]: TRAIN:[loss=0.018]\n",
      "INFO:root:[10 epochs]: TRAIN:[loss=0.016]\n",
      "INFO:root:[20 epochs]: TRAIN:[loss=0.014]\n",
      "INFO:root:[30 epochs]: TRAIN:[loss=0.012]\n",
      "INFO:root:[40 epochs]: TRAIN:[loss=0.010]\n",
      "INFO:root:[50 epochs]: TRAIN:[loss=0.009]\n",
      "INFO:root:[60 epochs]: TRAIN:[loss=0.007]\n",
      "INFO:root:[70 epochs]: TRAIN:[loss=0.006]\n",
      "INFO:root:[80 epochs]: TRAIN:[loss=0.005]\n",
      "INFO:root:[90 epochs]: TRAIN:[loss=0.005]\n",
      "INFO:root:[100 epochs]: TRAIN:[loss=0.004]\n",
      "INFO:root:[110 epochs]: TRAIN:[loss=0.004]\n",
      " 47%|████████████████▉                   | 118/250 [00:00<00:00, 1176.25epoch/s]INFO:root:[120 epochs]: TRAIN:[loss=0.003]\n",
      "INFO:root:[130 epochs]: TRAIN:[loss=0.003]\n",
      "INFO:root:[140 epochs]: TRAIN:[loss=0.003]\n",
      "INFO:root:[150 epochs]: TRAIN:[loss=0.003]\n",
      "INFO:root:[160 epochs]: TRAIN:[loss=0.002]\n",
      "INFO:root:[170 epochs]: TRAIN:[loss=0.002]\n",
      "INFO:root:[180 epochs]: TRAIN:[loss=0.002]\n",
      "INFO:root:[190 epochs]: TRAIN:[loss=0.002]\n",
      "INFO:root:[200 epochs]: TRAIN:[loss=0.002]\n",
      "INFO:root:[210 epochs]: TRAIN:[loss=0.002]\n",
      "INFO:root:[220 epochs]: TRAIN:[loss=0.002]\n",
      "INFO:root:[230 epochs]: TRAIN:[loss=0.002]\n",
      " 96%|██████████████████████████████████▌ | 240/250 [00:00<00:00, 1200.46epoch/s]INFO:root:[240 epochs]: TRAIN:[loss=0.002]\n",
      "100%|████████████████████████████████████| 250/250 [00:00<00:00, 1191.37epoch/s]\n",
      "INFO:root:Finished Training\n",
      "WARNING:root:Metrics calculated over data points with non-abstain labels only\n",
      "INFO:root:Computing O...\n",
      "INFO:root:Estimating \\mu...\n"
     ]
    },
    {
     "name": "stdout",
     "output_type": "stream",
     "text": [
      "\n",
      "--- HYPERPARAMETERS (epochs, l2, lr): ---\n",
      "(250, 0.0, 0.001)\n",
      "F1: 59.38 | Accuracy: 77.19 | Precision: 46.34 | Recall: 82.61 | AUC ROC: 82.99 | Coverage: 20.61\n",
      "----------------------------------------------------\n"
     ]
    },
    {
     "name": "stderr",
     "output_type": "stream",
     "text": [
      "  0%|                                                | 0/250 [00:00<?, ?epoch/s]INFO:root:[0 epochs]: TRAIN:[loss=0.018]\n",
      "INFO:root:[10 epochs]: TRAIN:[loss=0.008]\n",
      "INFO:root:[20 epochs]: TRAIN:[loss=0.002]\n",
      "INFO:root:[30 epochs]: TRAIN:[loss=0.002]\n",
      "INFO:root:[40 epochs]: TRAIN:[loss=0.002]\n",
      "INFO:root:[50 epochs]: TRAIN:[loss=0.002]\n",
      "INFO:root:[60 epochs]: TRAIN:[loss=0.002]\n",
      "INFO:root:[70 epochs]: TRAIN:[loss=0.002]\n",
      "INFO:root:[80 epochs]: TRAIN:[loss=0.002]\n",
      "INFO:root:[90 epochs]: TRAIN:[loss=0.002]\n",
      "INFO:root:[100 epochs]: TRAIN:[loss=0.002]\n",
      "INFO:root:[110 epochs]: TRAIN:[loss=0.002]\n",
      "INFO:root:[120 epochs]: TRAIN:[loss=0.002]\n",
      " 49%|█████████████████▌                  | 122/250 [00:00<00:00, 1203.82epoch/s]INFO:root:[130 epochs]: TRAIN:[loss=0.002]\n",
      "INFO:root:[140 epochs]: TRAIN:[loss=0.002]\n",
      "INFO:root:[150 epochs]: TRAIN:[loss=0.002]\n",
      "INFO:root:[160 epochs]: TRAIN:[loss=0.002]\n",
      "INFO:root:[170 epochs]: TRAIN:[loss=0.002]\n",
      "INFO:root:[180 epochs]: TRAIN:[loss=0.002]\n",
      "INFO:root:[190 epochs]: TRAIN:[loss=0.002]\n",
      "INFO:root:[200 epochs]: TRAIN:[loss=0.002]\n",
      "INFO:root:[210 epochs]: TRAIN:[loss=0.002]\n",
      "INFO:root:[220 epochs]: TRAIN:[loss=0.002]\n",
      "INFO:root:[230 epochs]: TRAIN:[loss=0.002]\n",
      "INFO:root:[240 epochs]: TRAIN:[loss=0.002]\n",
      "100%|████████████████████████████████████| 250/250 [00:00<00:00, 1209.40epoch/s]\n",
      "INFO:root:Finished Training\n",
      "WARNING:root:Metrics calculated over data points with non-abstain labels only\n",
      "INFO:root:Computing O...\n",
      "INFO:root:Estimating \\mu...\n"
     ]
    },
    {
     "name": "stdout",
     "output_type": "stream",
     "text": [
      "\n",
      "--- HYPERPARAMETERS (epochs, l2, lr): ---\n",
      "(250, 0.0, 0.01)\n",
      "F1: 59.38 | Accuracy: 77.19 | Precision: 46.34 | Recall: 82.61 | AUC ROC: 82.99 | Coverage: 20.61\n",
      "----------------------------------------------------\n"
     ]
    },
    {
     "name": "stderr",
     "output_type": "stream",
     "text": [
      "  0%|                                                | 0/250 [00:00<?, ?epoch/s]INFO:root:[0 epochs]: TRAIN:[loss=0.018]\n",
      "INFO:root:[10 epochs]: TRAIN:[loss=0.007]\n",
      "INFO:root:[20 epochs]: TRAIN:[loss=0.004]\n",
      "INFO:root:[30 epochs]: TRAIN:[loss=0.002]\n",
      "INFO:root:[40 epochs]: TRAIN:[loss=0.002]\n",
      "INFO:root:[50 epochs]: TRAIN:[loss=0.001]\n",
      "INFO:root:[60 epochs]: TRAIN:[loss=0.001]\n",
      "INFO:root:[70 epochs]: TRAIN:[loss=0.001]\n",
      "INFO:root:[80 epochs]: TRAIN:[loss=0.001]\n",
      "INFO:root:[90 epochs]: TRAIN:[loss=0.001]\n",
      "INFO:root:[100 epochs]: TRAIN:[loss=0.001]\n",
      "INFO:root:[110 epochs]: TRAIN:[loss=0.001]\n",
      "INFO:root:[120 epochs]: TRAIN:[loss=0.001]\n",
      " 49%|█████████████████▋                  | 123/250 [00:00<00:00, 1229.14epoch/s]INFO:root:[130 epochs]: TRAIN:[loss=0.001]\n",
      "INFO:root:[140 epochs]: TRAIN:[loss=0.001]\n",
      "INFO:root:[150 epochs]: TRAIN:[loss=0.001]\n",
      "INFO:root:[160 epochs]: TRAIN:[loss=0.001]\n",
      "INFO:root:[170 epochs]: TRAIN:[loss=0.001]\n",
      "INFO:root:[180 epochs]: TRAIN:[loss=0.001]\n",
      "INFO:root:[190 epochs]: TRAIN:[loss=0.001]\n",
      "INFO:root:[200 epochs]: TRAIN:[loss=0.001]\n",
      "INFO:root:[210 epochs]: TRAIN:[loss=0.001]\n",
      "INFO:root:[220 epochs]: TRAIN:[loss=0.001]\n",
      "INFO:root:[230 epochs]: TRAIN:[loss=0.001]\n",
      "INFO:root:[240 epochs]: TRAIN:[loss=0.001]\n",
      "100%|████████████████████████████████████| 250/250 [00:00<00:00, 1220.47epoch/s]\n",
      "INFO:root:Finished Training\n",
      "WARNING:root:Metrics calculated over data points with non-abstain labels only\n",
      "/Library/Frameworks/Python.framework/Versions/3.10/lib/python3.10/site-packages/sklearn/metrics/_classification.py:1318: UndefinedMetricWarning: Precision is ill-defined and being set to 0.0 due to no predicted samples. Use `zero_division` parameter to control this behavior.\n",
      "  _warn_prf(average, modifier, msg_start, len(result))\n",
      "INFO:root:Computing O...\n",
      "INFO:root:Estimating \\mu...\n"
     ]
    },
    {
     "name": "stdout",
     "output_type": "stream",
     "text": [
      "\n",
      "--- HYPERPARAMETERS (epochs, l2, lr): ---\n",
      "(250, 0.0, 0.1)\n",
      "F1: 0.0 | Accuracy: 79.82 | Precision: 0.0 | Recall: 0.0 | AUC ROC: 73.24 | Coverage: 20.61\n",
      "----------------------------------------------------\n"
     ]
    },
    {
     "name": "stderr",
     "output_type": "stream",
     "text": [
      "  0%|                                                | 0/250 [00:00<?, ?epoch/s]INFO:root:[0 epochs]: TRAIN:[loss=0.018]\n",
      "INFO:root:[10 epochs]: TRAIN:[loss=0.017]\n",
      "INFO:root:[20 epochs]: TRAIN:[loss=0.015]\n",
      "INFO:root:[30 epochs]: TRAIN:[loss=0.013]\n",
      "INFO:root:[40 epochs]: TRAIN:[loss=0.011]\n",
      "INFO:root:[50 epochs]: TRAIN:[loss=0.010]\n",
      "INFO:root:[60 epochs]: TRAIN:[loss=0.008]\n",
      "INFO:root:[70 epochs]: TRAIN:[loss=0.007]\n",
      "INFO:root:[80 epochs]: TRAIN:[loss=0.007]\n",
      "INFO:root:[90 epochs]: TRAIN:[loss=0.006]\n",
      "INFO:root:[100 epochs]: TRAIN:[loss=0.005]\n",
      "INFO:root:[110 epochs]: TRAIN:[loss=0.005]\n",
      " 44%|███████████████▉                    | 111/250 [00:00<00:00, 1098.68epoch/s]INFO:root:[120 epochs]: TRAIN:[loss=0.005]\n",
      "INFO:root:[130 epochs]: TRAIN:[loss=0.005]\n",
      "INFO:root:[140 epochs]: TRAIN:[loss=0.004]\n",
      "INFO:root:[150 epochs]: TRAIN:[loss=0.004]\n",
      "INFO:root:[160 epochs]: TRAIN:[loss=0.004]\n",
      "INFO:root:[170 epochs]: TRAIN:[loss=0.004]\n",
      "INFO:root:[180 epochs]: TRAIN:[loss=0.004]\n",
      "INFO:root:[190 epochs]: TRAIN:[loss=0.004]\n",
      "INFO:root:[200 epochs]: TRAIN:[loss=0.004]\n",
      "INFO:root:[210 epochs]: TRAIN:[loss=0.004]\n",
      "INFO:root:[220 epochs]: TRAIN:[loss=0.004]\n",
      " 89%|███████████████████████████████▉    | 222/250 [00:00<00:00, 1104.68epoch/s]INFO:root:[230 epochs]: TRAIN:[loss=0.004]\n",
      "INFO:root:[240 epochs]: TRAIN:[loss=0.003]\n",
      "100%|████████████████████████████████████| 250/250 [00:00<00:00, 1107.05epoch/s]\n",
      "INFO:root:Finished Training\n",
      "WARNING:root:Metrics calculated over data points with non-abstain labels only\n",
      "INFO:root:Computing O...\n",
      "INFO:root:Estimating \\mu...\n"
     ]
    },
    {
     "name": "stdout",
     "output_type": "stream",
     "text": [
      "\n",
      "--- HYPERPARAMETERS (epochs, l2, lr): ---\n",
      "(250, 0.2, 0.001)\n",
      "F1: 59.38 | Accuracy: 77.19 | Precision: 46.34 | Recall: 82.61 | AUC ROC: 82.99 | Coverage: 20.61\n",
      "----------------------------------------------------\n"
     ]
    },
    {
     "name": "stderr",
     "output_type": "stream",
     "text": [
      "  0%|                                                | 0/250 [00:00<?, ?epoch/s]INFO:root:[0 epochs]: TRAIN:[loss=0.018]\n",
      "INFO:root:[10 epochs]: TRAIN:[loss=0.009]\n",
      "INFO:root:[20 epochs]: TRAIN:[loss=0.003]\n",
      "INFO:root:[30 epochs]: TRAIN:[loss=0.003]\n",
      "INFO:root:[40 epochs]: TRAIN:[loss=0.003]\n",
      "INFO:root:[50 epochs]: TRAIN:[loss=0.003]\n",
      "INFO:root:[60 epochs]: TRAIN:[loss=0.004]\n",
      "INFO:root:[70 epochs]: TRAIN:[loss=0.003]\n",
      "INFO:root:[80 epochs]: TRAIN:[loss=0.003]\n",
      "INFO:root:[90 epochs]: TRAIN:[loss=0.003]\n",
      "INFO:root:[100 epochs]: TRAIN:[loss=0.003]\n",
      "INFO:root:[110 epochs]: TRAIN:[loss=0.003]\n",
      " 44%|███████████████▉                    | 111/250 [00:00<00:00, 1108.04epoch/s]INFO:root:[120 epochs]: TRAIN:[loss=0.003]\n",
      "INFO:root:[130 epochs]: TRAIN:[loss=0.003]\n",
      "INFO:root:[140 epochs]: TRAIN:[loss=0.003]\n",
      "INFO:root:[150 epochs]: TRAIN:[loss=0.003]\n",
      "INFO:root:[160 epochs]: TRAIN:[loss=0.003]\n",
      "INFO:root:[170 epochs]: TRAIN:[loss=0.003]\n",
      "INFO:root:[180 epochs]: TRAIN:[loss=0.003]\n",
      "INFO:root:[190 epochs]: TRAIN:[loss=0.003]\n",
      "INFO:root:[200 epochs]: TRAIN:[loss=0.003]\n",
      "INFO:root:[210 epochs]: TRAIN:[loss=0.003]\n",
      "INFO:root:[220 epochs]: TRAIN:[loss=0.003]\n",
      " 92%|████████████████████████████████▉   | 229/250 [00:00<00:00, 1148.36epoch/s]INFO:root:[230 epochs]: TRAIN:[loss=0.003]\n",
      "INFO:root:[240 epochs]: TRAIN:[loss=0.003]\n",
      "100%|████████████████████████████████████| 250/250 [00:00<00:00, 1110.51epoch/s]\n",
      "INFO:root:Finished Training\n",
      "WARNING:root:Metrics calculated over data points with non-abstain labels only\n",
      "INFO:root:Computing O...\n",
      "INFO:root:Estimating \\mu...\n"
     ]
    },
    {
     "name": "stdout",
     "output_type": "stream",
     "text": [
      "\n",
      "--- HYPERPARAMETERS (epochs, l2, lr): ---\n",
      "(250, 0.2, 0.01)\n",
      "F1: 59.38 | Accuracy: 77.19 | Precision: 46.34 | Recall: 82.61 | AUC ROC: 82.99 | Coverage: 20.61\n",
      "----------------------------------------------------\n"
     ]
    },
    {
     "name": "stderr",
     "output_type": "stream",
     "text": [
      "  0%|                                                | 0/250 [00:00<?, ?epoch/s]INFO:root:[0 epochs]: TRAIN:[loss=0.018]\n",
      "INFO:root:[10 epochs]: TRAIN:[loss=0.003]\n",
      "INFO:root:[20 epochs]: TRAIN:[loss=0.005]\n",
      "INFO:root:[30 epochs]: TRAIN:[loss=0.003]\n",
      "INFO:root:[40 epochs]: TRAIN:[loss=0.003]\n",
      "INFO:root:[50 epochs]: TRAIN:[loss=0.004]\n",
      "INFO:root:[60 epochs]: TRAIN:[loss=0.003]\n",
      "INFO:root:[70 epochs]: TRAIN:[loss=0.003]\n",
      "INFO:root:[80 epochs]: TRAIN:[loss=0.003]\n",
      "INFO:root:[90 epochs]: TRAIN:[loss=0.003]\n",
      "INFO:root:[100 epochs]: TRAIN:[loss=0.003]\n",
      "INFO:root:[110 epochs]: TRAIN:[loss=0.003]\n",
      " 45%|████████████████▏                   | 112/250 [00:00<00:00, 1106.48epoch/s]INFO:root:[120 epochs]: TRAIN:[loss=0.003]\n",
      "INFO:root:[130 epochs]: TRAIN:[loss=0.003]\n",
      "INFO:root:[140 epochs]: TRAIN:[loss=0.003]\n",
      "INFO:root:[150 epochs]: TRAIN:[loss=0.003]\n",
      "INFO:root:[160 epochs]: TRAIN:[loss=0.003]\n",
      "INFO:root:[170 epochs]: TRAIN:[loss=0.003]\n",
      "INFO:root:[180 epochs]: TRAIN:[loss=0.003]\n",
      "INFO:root:[190 epochs]: TRAIN:[loss=0.003]\n",
      "INFO:root:[200 epochs]: TRAIN:[loss=0.003]\n",
      "INFO:root:[210 epochs]: TRAIN:[loss=0.003]\n",
      "INFO:root:[220 epochs]: TRAIN:[loss=0.003]\n",
      " 91%|████████████████████████████████▊   | 228/250 [00:00<00:00, 1135.99epoch/s]INFO:root:[230 epochs]: TRAIN:[loss=0.003]\n",
      "INFO:root:[240 epochs]: TRAIN:[loss=0.003]\n",
      "100%|████████████████████████████████████| 250/250 [00:00<00:00, 1127.60epoch/s]\n",
      "INFO:root:Finished Training\n",
      "WARNING:root:Metrics calculated over data points with non-abstain labels only\n",
      "INFO:root:Computing O...\n",
      "INFO:root:Estimating \\mu...\n"
     ]
    },
    {
     "name": "stdout",
     "output_type": "stream",
     "text": [
      "\n",
      "--- HYPERPARAMETERS (epochs, l2, lr): ---\n",
      "(250, 0.2, 0.1)\n",
      "F1: 59.38 | Accuracy: 77.19 | Precision: 46.34 | Recall: 82.61 | AUC ROC: 82.99 | Coverage: 20.61\n",
      "----------------------------------------------------\n"
     ]
    },
    {
     "name": "stderr",
     "output_type": "stream",
     "text": [
      "  0%|                                                | 0/250 [00:00<?, ?epoch/s]INFO:root:[0 epochs]: TRAIN:[loss=0.021]\n",
      "INFO:root:[10 epochs]: TRAIN:[loss=0.019]\n",
      "INFO:root:[20 epochs]: TRAIN:[loss=0.017]\n",
      "INFO:root:[30 epochs]: TRAIN:[loss=0.014]\n",
      "INFO:root:[40 epochs]: TRAIN:[loss=0.012]\n",
      "INFO:root:[50 epochs]: TRAIN:[loss=0.011]\n",
      "INFO:root:[60 epochs]: TRAIN:[loss=0.010]\n",
      "INFO:root:[70 epochs]: TRAIN:[loss=0.009]\n",
      "INFO:root:[80 epochs]: TRAIN:[loss=0.008]\n",
      "INFO:root:[90 epochs]: TRAIN:[loss=0.008]\n",
      "INFO:root:[100 epochs]: TRAIN:[loss=0.007]\n",
      "INFO:root:[110 epochs]: TRAIN:[loss=0.007]\n",
      " 48%|█████████████████▎                  | 120/250 [00:00<00:00, 1187.51epoch/s]INFO:root:[120 epochs]: TRAIN:[loss=0.007]\n",
      "INFO:root:[130 epochs]: TRAIN:[loss=0.006]\n",
      "INFO:root:[140 epochs]: TRAIN:[loss=0.006]\n",
      "INFO:root:[150 epochs]: TRAIN:[loss=0.006]\n",
      "INFO:root:[160 epochs]: TRAIN:[loss=0.006]\n",
      "INFO:root:[170 epochs]: TRAIN:[loss=0.006]\n",
      "INFO:root:[180 epochs]: TRAIN:[loss=0.006]\n",
      "INFO:root:[190 epochs]: TRAIN:[loss=0.006]\n",
      "INFO:root:[200 epochs]: TRAIN:[loss=0.006]\n",
      "INFO:root:[210 epochs]: TRAIN:[loss=0.006]\n",
      "INFO:root:[220 epochs]: TRAIN:[loss=0.006]\n",
      "INFO:root:[230 epochs]: TRAIN:[loss=0.006]\n",
      " 96%|██████████████████████████████████▍ | 239/250 [00:00<00:00, 1138.68epoch/s]INFO:root:[240 epochs]: TRAIN:[loss=0.006]\n",
      "100%|████████████████████████████████████| 250/250 [00:00<00:00, 1131.41epoch/s]\n",
      "INFO:root:Finished Training\n",
      "WARNING:root:Metrics calculated over data points with non-abstain labels only\n",
      "INFO:root:Computing O...\n",
      "INFO:root:Estimating \\mu...\n"
     ]
    },
    {
     "name": "stdout",
     "output_type": "stream",
     "text": [
      "\n",
      "--- HYPERPARAMETERS (epochs, l2, lr): ---\n",
      "(250, 0.4, 0.001)\n",
      "F1: 59.38 | Accuracy: 77.19 | Precision: 46.34 | Recall: 82.61 | AUC ROC: 82.99 | Coverage: 20.61\n",
      "----------------------------------------------------\n"
     ]
    },
    {
     "name": "stderr",
     "output_type": "stream",
     "text": [
      "  0%|                                                | 0/250 [00:00<?, ?epoch/s]INFO:root:[0 epochs]: TRAIN:[loss=0.021]\n",
      "INFO:root:[10 epochs]: TRAIN:[loss=0.010]\n",
      "INFO:root:[20 epochs]: TRAIN:[loss=0.005]\n",
      "INFO:root:[30 epochs]: TRAIN:[loss=0.004]\n",
      "INFO:root:[40 epochs]: TRAIN:[loss=0.005]\n",
      "INFO:root:[50 epochs]: TRAIN:[loss=0.006]\n",
      "INFO:root:[60 epochs]: TRAIN:[loss=0.006]\n",
      "INFO:root:[70 epochs]: TRAIN:[loss=0.006]\n",
      "INFO:root:[80 epochs]: TRAIN:[loss=0.005]\n",
      "INFO:root:[90 epochs]: TRAIN:[loss=0.006]\n",
      "INFO:root:[100 epochs]: TRAIN:[loss=0.006]\n",
      "INFO:root:[110 epochs]: TRAIN:[loss=0.006]\n",
      " 46%|████████████████▍                   | 114/250 [00:00<00:00, 1139.70epoch/s]INFO:root:[120 epochs]: TRAIN:[loss=0.006]\n",
      "INFO:root:[130 epochs]: TRAIN:[loss=0.006]\n",
      "INFO:root:[140 epochs]: TRAIN:[loss=0.006]\n",
      "INFO:root:[150 epochs]: TRAIN:[loss=0.006]\n",
      "INFO:root:[160 epochs]: TRAIN:[loss=0.006]\n",
      "INFO:root:[170 epochs]: TRAIN:[loss=0.006]\n",
      "INFO:root:[180 epochs]: TRAIN:[loss=0.006]\n",
      "INFO:root:[190 epochs]: TRAIN:[loss=0.006]\n",
      "INFO:root:[200 epochs]: TRAIN:[loss=0.006]\n",
      "INFO:root:[210 epochs]: TRAIN:[loss=0.006]\n",
      "INFO:root:[220 epochs]: TRAIN:[loss=0.006]\n",
      "INFO:root:[230 epochs]: TRAIN:[loss=0.006]\n",
      "INFO:root:[240 epochs]: TRAIN:[loss=0.006]\n",
      "100%|████████████████████████████████████| 250/250 [00:00<00:00, 1348.97epoch/s]\n",
      "INFO:root:Finished Training\n",
      "WARNING:root:Metrics calculated over data points with non-abstain labels only\n",
      "INFO:root:Computing O...\n",
      "INFO:root:Estimating \\mu...\n"
     ]
    },
    {
     "name": "stdout",
     "output_type": "stream",
     "text": [
      "\n",
      "--- HYPERPARAMETERS (epochs, l2, lr): ---\n",
      "(250, 0.4, 0.01)\n",
      "F1: 59.38 | Accuracy: 77.19 | Precision: 46.34 | Recall: 82.61 | AUC ROC: 82.99 | Coverage: 20.61\n",
      "----------------------------------------------------\n"
     ]
    },
    {
     "name": "stderr",
     "output_type": "stream",
     "text": [
      "  0%|                                                | 0/250 [00:00<?, ?epoch/s]INFO:root:[0 epochs]: TRAIN:[loss=0.021]\n",
      "INFO:root:[10 epochs]: TRAIN:[loss=0.004]\n",
      "INFO:root:[20 epochs]: TRAIN:[loss=0.004]\n",
      "INFO:root:[30 epochs]: TRAIN:[loss=0.007]\n",
      "INFO:root:[40 epochs]: TRAIN:[loss=0.005]\n",
      "INFO:root:[50 epochs]: TRAIN:[loss=0.005]\n",
      "INFO:root:[60 epochs]: TRAIN:[loss=0.006]\n",
      "INFO:root:[70 epochs]: TRAIN:[loss=0.006]\n",
      "INFO:root:[80 epochs]: TRAIN:[loss=0.005]\n",
      "INFO:root:[90 epochs]: TRAIN:[loss=0.006]\n",
      "INFO:root:[100 epochs]: TRAIN:[loss=0.006]\n",
      "INFO:root:[110 epochs]: TRAIN:[loss=0.006]\n",
      "INFO:root:[120 epochs]: TRAIN:[loss=0.006]\n",
      "INFO:root:[130 epochs]: TRAIN:[loss=0.006]\n",
      "INFO:root:[140 epochs]: TRAIN:[loss=0.006]\n",
      "INFO:root:[150 epochs]: TRAIN:[loss=0.006]\n",
      "INFO:root:[160 epochs]: TRAIN:[loss=0.006]\n",
      " 65%|███████████████████████▎            | 162/250 [00:00<00:00, 1600.52epoch/s]INFO:root:[170 epochs]: TRAIN:[loss=0.006]\n",
      "INFO:root:[180 epochs]: TRAIN:[loss=0.006]\n",
      "INFO:root:[190 epochs]: TRAIN:[loss=0.006]\n",
      "INFO:root:[200 epochs]: TRAIN:[loss=0.006]\n",
      "INFO:root:[210 epochs]: TRAIN:[loss=0.006]\n",
      "INFO:root:[220 epochs]: TRAIN:[loss=0.006]\n",
      "INFO:root:[230 epochs]: TRAIN:[loss=0.006]\n",
      "INFO:root:[240 epochs]: TRAIN:[loss=0.006]\n",
      "100%|████████████████████████████████████| 250/250 [00:00<00:00, 1622.23epoch/s]\n",
      "INFO:root:Finished Training\n",
      "WARNING:root:Metrics calculated over data points with non-abstain labels only\n"
     ]
    },
    {
     "name": "stdout",
     "output_type": "stream",
     "text": [
      "\n",
      "--- HYPERPARAMETERS (epochs, l2, lr): ---\n",
      "(250, 0.4, 0.1)\n",
      "F1: 59.38 | Accuracy: 77.19 | Precision: 46.34 | Recall: 82.61 | AUC ROC: 82.99 | Coverage: 20.61\n",
      "----------------------------------------------------\n"
     ]
    }
   ],
   "source": [
    "# Validation loop.\n",
    "# Select optimal model based on minimizing false negatives,\n",
    "# i.e. look at recall (syn. sensitivity, TPR), f1, etc.\n",
    "recalls = []\n",
    "f1s = []\n",
    "rocs = []\n",
    "accuracies = []\n",
    "precisions = []\n",
    "for hparams in search_space:\n",
    "    \n",
    "    # Extract hyperparameter values.\n",
    "    n_epochs = hparams[0]\n",
    "    l2 = hparams[1]\n",
    "    lr = hparams[2]\n",
    "    \n",
    "    # Label model.\n",
    "    label_model = LabelModel(cardinality = 2, verbose = True)\n",
    "    label_model.fit(L_train = L_train, \n",
    "                    #Y_dev = y_val,\n",
    "                    #class_balance = [0.7, 0.3], \n",
    "                    n_epochs = n_epochs, \n",
    "                    l2 = l2,\n",
    "                    lr = lr,\n",
    "                    optimizer = \"sgd\",\n",
    "                    seed = seed)\n",
    "\n",
    "    # Compute model performance metrics.\n",
    "    label_scores = label_model.score(L = L_val, \n",
    "                                     Y = y_val, \n",
    "                                     tie_break_policy = \"abstain\",\n",
    "                                     metrics = [\"f1\", \"accuracy\", \"precision\", \n",
    "                                                \"recall\", \"roc_auc\", \"coverage\"])\n",
    "    \n",
    "    \n",
    "\n",
    "    \n",
    "    print(\"\\n--- HYPERPARAMETERS (epochs, l2, lr): ---\")\n",
    "    print(hparams)\n",
    "\n",
    "    label_f1 = label_scores.get(\"f1\") * 100\n",
    "    label_acc = label_scores.get(\"accuracy\") * 100\n",
    "    label_prec = label_scores.get(\"precision\") * 100\n",
    "    label_rec = label_scores.get(\"recall\") * 100\n",
    "    label_roc = label_scores.get(\"roc_auc\") * 100\n",
    "    label_cov = label_scores.get(\"coverage\") * 100\n",
    "    print(\"F1: {} | Accuracy: {} | Precision: {} | Recall: {} | AUC ROC: {} | Coverage: {}\".format(round(label_f1, 2),\n",
    "                                                                                                   round(label_acc, 2),\n",
    "                                                                                                   round(label_prec, 2),\n",
    "                                                                                                   round(label_rec, 2),\n",
    "                                                                                                   round(label_roc, 2),\n",
    "                                                                                                   round(label_cov, 2)))\n",
    "    print(\"----------------------------------------------------\")\n",
    "    \n",
    "    recalls.append(label_rec)\n",
    "    f1s.append(label_f1)\n",
    "    rocs.append(label_roc)\n",
    "    accuracies.append(label_acc)\n",
    "    precisions.append(label_prec)"
   ]
  },
  {
   "cell_type": "code",
   "execution_count": 34,
   "metadata": {},
   "outputs": [
    {
     "name": "stdout",
     "output_type": "stream",
     "text": [
      "\n",
      "--- HYPERPARAMETERS FOR MAX RECALL OF 82.6086956521739: ---\n",
      "\n",
      "Total models with optimal recall: 25\n",
      "\n",
      "[(50, 0.0, 0.001), (50, 0.0, 0.01), (50, 0.0, 0.1), (50, 0.2, 0.001), (50, 0.2, 0.01), (50, 0.2, 0.1), (50, 0.4, 0.001), (50, 0.4, 0.01), (50, 0.4, 0.1), (100, 0.0, 0.001), (100, 0.0, 0.01), (100, 0.2, 0.001), (100, 0.2, 0.01), (100, 0.2, 0.1), (100, 0.4, 0.001), (100, 0.4, 0.01), (100, 0.4, 0.1), (250, 0.0, 0.001), (250, 0.0, 0.01), (250, 0.2, 0.001), (250, 0.2, 0.01), (250, 0.2, 0.1), (250, 0.4, 0.001), (250, 0.4, 0.01), (250, 0.4, 0.1)]\n",
      "\n",
      "--- HYPERPARAMETERS FOR MAX F1 OF 59.375: ---\n",
      "\n",
      "Total models with optimal F1: 25\n",
      "\n",
      "[(50, 0.0, 0.001), (50, 0.0, 0.01), (50, 0.0, 0.1), (50, 0.2, 0.001), (50, 0.2, 0.01), (50, 0.2, 0.1), (50, 0.4, 0.001), (50, 0.4, 0.01), (50, 0.4, 0.1), (100, 0.0, 0.001), (100, 0.0, 0.01), (100, 0.2, 0.001), (100, 0.2, 0.01), (100, 0.2, 0.1), (100, 0.4, 0.001), (100, 0.4, 0.01), (100, 0.4, 0.1), (250, 0.0, 0.001), (250, 0.0, 0.01), (250, 0.2, 0.001), (250, 0.2, 0.01), (250, 0.2, 0.1), (250, 0.4, 0.001), (250, 0.4, 0.01), (250, 0.4, 0.1)]\n",
      "\n",
      "--- HYPERPARAMETERS FOR MAX ACCURACY OF 79.82456140350878: ---\n",
      "\n",
      "Total models with optimal accuracy: 1\n",
      "\n",
      "[(250, 0.0, 0.1)]\n",
      "\n",
      "--- HYPERPARAMETERS FOR MAX PRECISION OF 46.34146341463415: ---\n",
      "\n",
      "Total models with optimal precision: 25\n",
      "\n",
      "[(50, 0.0, 0.001), (50, 0.0, 0.01), (50, 0.0, 0.1), (50, 0.2, 0.001), (50, 0.2, 0.01), (50, 0.2, 0.1), (50, 0.4, 0.001), (50, 0.4, 0.01), (50, 0.4, 0.1), (100, 0.0, 0.001), (100, 0.0, 0.01), (100, 0.2, 0.001), (100, 0.2, 0.01), (100, 0.2, 0.1), (100, 0.4, 0.001), (100, 0.4, 0.01), (100, 0.4, 0.1), (250, 0.0, 0.001), (250, 0.0, 0.01), (250, 0.2, 0.001), (250, 0.2, 0.01), (250, 0.2, 0.1), (250, 0.4, 0.001), (250, 0.4, 0.01), (250, 0.4, 0.1)]\n",
      "\n",
      "--- HYPERPARAMETERS FOR MAX AUC ROC OF 84.23315814620163: ---\n",
      "\n",
      "Total models with optimal AUC ROC: 1\n",
      "\n",
      "[(100, 0.0, 0.1)]\n"
     ]
    }
   ],
   "source": [
    "# Get hyparameter combinations with maximum metrics.\n",
    "max_recall = max(recalls)\n",
    "max_recall_indices = [i for i,j in enumerate(recalls) if j == max_recall]\n",
    "hparams_max_recall = [search_space[i] for i in max_recall_indices]\n",
    "print(\"\\n--- HYPERPARAMETERS FOR MAX RECALL OF {}: ---\\n\".format(max_recall))\n",
    "print(\"Total models with optimal recall:\", len(hparams_max_recall))\n",
    "print()\n",
    "print(hparams_max_recall)\n",
    "\n",
    "max_f1 = max(f1s)\n",
    "max_f1_indices = [i for i,j in enumerate(f1s) if j == max_f1]\n",
    "hparams_max_f1 = [search_space[i] for i in max_f1_indices]\n",
    "print(\"\\n--- HYPERPARAMETERS FOR MAX F1 OF {}: ---\\n\".format(max_f1))\n",
    "print(\"Total models with optimal F1:\", len(hparams_max_f1))\n",
    "print()\n",
    "print(hparams_max_f1)\n",
    "\n",
    "max_accuracies = max(accuracies)\n",
    "max_accuracies_indices = [i for i,j in enumerate(accuracies) if j == max_accuracies]\n",
    "hparams_max_accuracies = [search_space[i] for i in max_accuracies_indices]\n",
    "print(\"\\n--- HYPERPARAMETERS FOR MAX ACCURACY OF {}: ---\\n\".format(max_accuracies))\n",
    "print(\"Total models with optimal accuracy:\", len(hparams_max_accuracies))\n",
    "print()\n",
    "print(hparams_max_accuracies)\n",
    "\n",
    "max_precision = max(precisions)\n",
    "max_precision_indices = [i for i,j in enumerate(precisions) if j == max_precision]\n",
    "hparams_max_precision = [search_space[i] for i in max_precision_indices]\n",
    "print(\"\\n--- HYPERPARAMETERS FOR MAX PRECISION OF {}: ---\\n\".format(max_precision))\n",
    "print(\"Total models with optimal precision:\", len(hparams_max_precision))\n",
    "print()\n",
    "print(hparams_max_precision)\n",
    "\n",
    "max_roc = max(rocs)\n",
    "max_roc_indices = [i for i,j in enumerate(rocs) if j == max_roc]\n",
    "hparams_max_roc = [search_space[i] for i in max_roc_indices]\n",
    "print(\"\\n--- HYPERPARAMETERS FOR MAX AUC ROC OF {}: ---\\n\".format(max_roc))\n",
    "print(\"Total models with optimal AUC ROC:\", len(hparams_max_roc))\n",
    "print()\n",
    "print(hparams_max_roc)"
   ]
  },
  {
   "cell_type": "code",
   "execution_count": 35,
   "metadata": {},
   "outputs": [
    {
     "name": "stdout",
     "output_type": "stream",
     "text": [
      "Total models at intersection: 0\n",
      "set()\n"
     ]
    }
   ],
   "source": [
    "# Assess intersection of best models.\n",
    "hparams_max = [hparams_max_accuracies, \n",
    "               hparams_max_f1, \n",
    "               hparams_max_recall,\n",
    "               hparams_max_roc,\n",
    "               hparams_max_precision]\n",
    "best_intersect = set.intersection(*map(set, hparams_max))\n",
    "print(\"Total models at intersection:\", len(best_intersect))\n",
    "print(best_intersect)"
   ]
  },
  {
   "cell_type": "code",
   "execution_count": 36,
   "metadata": {},
   "outputs": [
    {
     "name": "stdout",
     "output_type": "stream",
     "text": [
      "Optimal hyperparameters = [100, 0.0, 0.01]\n"
     ]
    }
   ],
   "source": [
    "# Hand select best model in absence of model at intersection.\n",
    "optimal_hparams = [100, 0.0, 0.01]\n",
    "print(\"Optimal hyperparameters =\", optimal_hparams)"
   ]
  },
  {
   "cell_type": "markdown",
   "metadata": {},
   "source": [
    "## Train optimal labeling model"
   ]
  },
  {
   "cell_type": "code",
   "execution_count": 37,
   "metadata": {},
   "outputs": [
    {
     "name": "stderr",
     "output_type": "stream",
     "text": [
      "INFO:root:Computing O...\n",
      "INFO:root:Estimating \\mu...\n",
      "  0%|                                                | 0/100 [00:00<?, ?epoch/s]INFO:root:[0 epochs]: TRAIN:[loss=0.018]\n",
      "INFO:root:[10 epochs]: TRAIN:[loss=0.008]\n",
      "INFO:root:[20 epochs]: TRAIN:[loss=0.002]\n",
      "INFO:root:[30 epochs]: TRAIN:[loss=0.002]\n",
      "INFO:root:[40 epochs]: TRAIN:[loss=0.002]\n",
      "INFO:root:[50 epochs]: TRAIN:[loss=0.002]\n",
      "INFO:root:[60 epochs]: TRAIN:[loss=0.002]\n",
      "INFO:root:[70 epochs]: TRAIN:[loss=0.002]\n",
      "INFO:root:[80 epochs]: TRAIN:[loss=0.002]\n",
      "INFO:root:[90 epochs]: TRAIN:[loss=0.002]\n",
      "100%|████████████████████████████████████| 100/100 [00:00<00:00, 1067.51epoch/s]\n",
      "INFO:root:Finished Training\n",
      "WARNING:root:Metrics calculated over data points with non-abstain labels only\n"
     ]
    },
    {
     "name": "stdout",
     "output_type": "stream",
     "text": [
      "Majority Model F1:        48.9%\n",
      "Majority Model Accuracy:  65.7%\n",
      "Majority Model Precision: 34.3%\n",
      "Majority Model Recall:    85.0%\n",
      "Majority Model AUC ROC:   73.0%\n",
      "Majority Model Coverage:  18.8%\n",
      "--------------------------------------\n",
      "Label Model F1:           46.6%\n",
      "Label Model Accuracy:     64.9%\n",
      "Label Model Precision:    33.7%\n",
      "Label Model Recall:       75.6%\n",
      "Label Model AUC ROC:      73.3%\n",
      "Label Model Coverage:     20.2%\n"
     ]
    }
   ],
   "source": [
    "# Extract hyperparameter values.\n",
    "n_epochs = optimal_hparams[0]\n",
    "l2 = optimal_hparams[1]\n",
    "lr = optimal_hparams[2]\n",
    "    \n",
    "# Label model.\n",
    "label_model = LabelModel(cardinality = 2, verbose = True)\n",
    "label_model.fit(L_train = L_train, \n",
    "                #Y_dev = y_val,\n",
    "                #class_balance = [0.7, 0.3], \n",
    "                n_epochs = n_epochs, \n",
    "                l2 = l2,\n",
    "                lr = lr,\n",
    "                optimizer = \"sgd\",\n",
    "                seed = seed)\n",
    "\n",
    "# Compute model performance metrics.\n",
    "label_scores = label_model.score(L = L_test,\n",
    "                                 Y = y_test, \n",
    "                                 tie_break_policy = \"abstain\",\n",
    "                                 metrics = [\"f1\", \"accuracy\", \"precision\", \n",
    "                                            \"recall\", \"roc_auc\", \"coverage\"])\n",
    "    \n",
    "    \n",
    "\n",
    "# Compare model performance metrics.\n",
    "majority_f1 = majority_scores.get(\"f1\")\n",
    "majority_acc = majority_scores.get(\"accuracy\")\n",
    "majority_prec = majority_scores.get(\"precision\")\n",
    "majority_rec = majority_scores.get(\"recall\")\n",
    "majority_roc = majority_scores.get(\"roc_auc\")\n",
    "majority_cov = majority_scores.get(\"coverage\")\n",
    "print(f\"{'Majority Model F1:':<25} {majority_f1 * 100:.1f}%\")\n",
    "print(f\"{'Majority Model Accuracy:':<25} {majority_acc * 100:.1f}%\")\n",
    "print(f\"{'Majority Model Precision:':<25} {majority_prec * 100:.1f}%\")\n",
    "print(f\"{'Majority Model Recall:':<25} {majority_rec * 100:.1f}%\")\n",
    "print(f\"{'Majority Model AUC ROC:':<25} {majority_roc * 100:.1f}%\")\n",
    "print(f\"{'Majority Model Coverage:':<25} {majority_cov * 100:.1f}%\")\n",
    "print(\"--------------------------------------\")\n",
    "label_f1 = label_scores.get(\"f1\")\n",
    "label_acc = label_scores.get(\"accuracy\")\n",
    "label_prec = label_scores.get(\"precision\")\n",
    "label_rec = label_scores.get(\"recall\")\n",
    "label_roc = label_scores.get(\"roc_auc\")\n",
    "label_cov = label_scores.get(\"coverage\")\n",
    "print(f\"{'Label Model F1:':<25} {label_f1 * 100:.1f}%\")\n",
    "print(f\"{'Label Model Accuracy:':<25} {label_acc * 100:.1f}%\")\n",
    "print(f\"{'Label Model Precision:':<25} {label_prec * 100:.1f}%\")\n",
    "print(f\"{'Label Model Recall:':<25} {label_rec * 100:.1f}%\")\n",
    "print(f\"{'Label Model AUC ROC:':<25} {label_roc * 100:.1f}%\")\n",
    "print(f\"{'Label Model Coverage:':<25} {label_cov * 100:.1f}%\")"
   ]
  },
  {
   "cell_type": "markdown",
   "metadata": {},
   "source": [
    "## Export labeling function matrices"
   ]
  },
  {
   "cell_type": "code",
   "execution_count": 38,
   "metadata": {},
   "outputs": [
    {
     "name": "stdout",
     "output_type": "stream",
     "text": [
      "TRAIN :\n",
      " -1    3019\n",
      " 0    465 \n",
      " 1    374 \n",
      "dtype: int64\n",
      "VAL   :\n",
      " -1    439\n",
      " 0    73 \n",
      " 1    41 \n",
      "dtype: int64\n",
      "TEST  :\n",
      " -1    879\n",
      " 0    121\n",
      " 1    101\n",
      "dtype: int64\n",
      "TRAIN :\n",
      " -1    0.782530\n",
      " 0    0.120529\n",
      " 1    0.096941\n",
      "dtype: float64\n",
      "VAL   :\n",
      " -1    0.793852\n",
      " 0    0.132007\n",
      " 1    0.074141\n",
      "dtype: float64\n",
      "TEST  :\n",
      " -1    0.798365\n",
      " 0    0.109900\n",
      " 1    0.091735\n",
      "dtype: float64\n"
     ]
    }
   ],
   "source": [
    "# Get predicted labels.\n",
    "pred_train = label_model.predict(L_train)\n",
    "pred_val = label_model.predict(L_val)\n",
    "pred_test = label_model.predict(L_test)\n",
    "\n",
    "print(\"TRAIN :\\n\", pd.Series(pred_train).value_counts())\n",
    "print(\"VAL   :\\n\", pd.Series(pred_val).value_counts())\n",
    "print(\"TEST  :\\n\", pd.Series(pred_test).value_counts())\n",
    "\n",
    "print(\"TRAIN :\\n\", pd.Series(pred_train).value_counts(normalize = True))\n",
    "print(\"VAL   :\\n\", pd.Series(pred_val).value_counts(normalize = True))\n",
    "print(\"TEST  :\\n\", pd.Series(pred_test).value_counts(normalize = True))"
   ]
  },
  {
   "cell_type": "code",
   "execution_count": 39,
   "metadata": {},
   "outputs": [
    {
     "name": "stdout",
     "output_type": "stream",
     "text": [
      "TRAIN :\n",
      "  0    3019\n",
      "-1    465 \n",
      " 1    374 \n",
      "dtype: int64\n",
      "VAL   :\n",
      "  0    439\n",
      "-1    73 \n",
      " 1    41 \n",
      "dtype: int64\n",
      "TEST  :\n",
      "  0    879\n",
      "-1    121\n",
      " 1    101\n",
      "dtype: int64\n"
     ]
    }
   ],
   "source": [
    "# Replace -1 with 0 (abstain = 0 in our model).\n",
    "# Replace 0 with -1 (-1 is class label in our model).\n",
    "pred_train = np.where(pred_train == -1, 5, pred_train)\n",
    "pred_train = np.where(pred_train == 0, -1, pred_train)\n",
    "pred_train = np.where(pred_train == 5, 0, pred_train)\n",
    "\n",
    "pred_val = np.where(pred_val == -1, 5, pred_val)\n",
    "pred_val = np.where(pred_val == 0, -1, pred_val)\n",
    "pred_val = np.where(pred_val == 5, 0, pred_val)\n",
    "\n",
    "pred_test = np.where(pred_test == -1, 5, pred_test)\n",
    "pred_test = np.where(pred_test == 0, -1, pred_test)\n",
    "pred_test = np.where(pred_test == 5, 0, pred_test)\n",
    "\n",
    "print(\"TRAIN :\\n\", pd.Series(pred_train).value_counts())\n",
    "print(\"VAL   :\\n\", pd.Series(pred_val).value_counts())\n",
    "print(\"TEST  :\\n\", pd.Series(pred_test).value_counts())"
   ]
  },
  {
   "cell_type": "code",
   "execution_count": 40,
   "metadata": {},
   "outputs": [
    {
     "data": {
      "text/html": [
       "<div>\n",
       "<style scoped>\n",
       "    .dataframe tbody tr th:only-of-type {\n",
       "        vertical-align: middle;\n",
       "    }\n",
       "\n",
       "    .dataframe tbody tr th {\n",
       "        vertical-align: top;\n",
       "    }\n",
       "\n",
       "    .dataframe thead th {\n",
       "        text-align: right;\n",
       "    }\n",
       "</style>\n",
       "<table border=\"1\" class=\"dataframe\">\n",
       "  <thead>\n",
       "    <tr style=\"text-align: right;\">\n",
       "      <th></th>\n",
       "      <th>0</th>\n",
       "      <th>1</th>\n",
       "      <th>2</th>\n",
       "      <th>3</th>\n",
       "      <th>Label</th>\n",
       "      <th>Snorkel</th>\n",
       "    </tr>\n",
       "  </thead>\n",
       "  <tbody>\n",
       "    <tr>\n",
       "      <th>0</th>\n",
       "      <td>0</td>\n",
       "      <td>0</td>\n",
       "      <td>0</td>\n",
       "      <td>0</td>\n",
       "      <td>-1</td>\n",
       "      <td>0</td>\n",
       "    </tr>\n",
       "    <tr>\n",
       "      <th>1</th>\n",
       "      <td>0</td>\n",
       "      <td>0</td>\n",
       "      <td>0</td>\n",
       "      <td>0</td>\n",
       "      <td>-1</td>\n",
       "      <td>0</td>\n",
       "    </tr>\n",
       "    <tr>\n",
       "      <th>2</th>\n",
       "      <td>0</td>\n",
       "      <td>0</td>\n",
       "      <td>-1</td>\n",
       "      <td>0</td>\n",
       "      <td>-1</td>\n",
       "      <td>-1</td>\n",
       "    </tr>\n",
       "    <tr>\n",
       "      <th>3</th>\n",
       "      <td>0</td>\n",
       "      <td>0</td>\n",
       "      <td>0</td>\n",
       "      <td>0</td>\n",
       "      <td>-1</td>\n",
       "      <td>0</td>\n",
       "    </tr>\n",
       "    <tr>\n",
       "      <th>4</th>\n",
       "      <td>0</td>\n",
       "      <td>0</td>\n",
       "      <td>0</td>\n",
       "      <td>0</td>\n",
       "      <td>-1</td>\n",
       "      <td>0</td>\n",
       "    </tr>\n",
       "    <tr>\n",
       "      <th>...</th>\n",
       "      <td>...</td>\n",
       "      <td>...</td>\n",
       "      <td>...</td>\n",
       "      <td>...</td>\n",
       "      <td>...</td>\n",
       "      <td>...</td>\n",
       "    </tr>\n",
       "    <tr>\n",
       "      <th>3853</th>\n",
       "      <td>0</td>\n",
       "      <td>0</td>\n",
       "      <td>-1</td>\n",
       "      <td>0</td>\n",
       "      <td>-1</td>\n",
       "      <td>-1</td>\n",
       "    </tr>\n",
       "    <tr>\n",
       "      <th>3854</th>\n",
       "      <td>0</td>\n",
       "      <td>0</td>\n",
       "      <td>0</td>\n",
       "      <td>0</td>\n",
       "      <td>-1</td>\n",
       "      <td>0</td>\n",
       "    </tr>\n",
       "    <tr>\n",
       "      <th>3855</th>\n",
       "      <td>0</td>\n",
       "      <td>0</td>\n",
       "      <td>0</td>\n",
       "      <td>0</td>\n",
       "      <td>-1</td>\n",
       "      <td>0</td>\n",
       "    </tr>\n",
       "    <tr>\n",
       "      <th>3856</th>\n",
       "      <td>0</td>\n",
       "      <td>0</td>\n",
       "      <td>0</td>\n",
       "      <td>0</td>\n",
       "      <td>-1</td>\n",
       "      <td>0</td>\n",
       "    </tr>\n",
       "    <tr>\n",
       "      <th>3857</th>\n",
       "      <td>0</td>\n",
       "      <td>0</td>\n",
       "      <td>0</td>\n",
       "      <td>0</td>\n",
       "      <td>-1</td>\n",
       "      <td>0</td>\n",
       "    </tr>\n",
       "  </tbody>\n",
       "</table>\n",
       "<p>3858 rows × 6 columns</p>\n",
       "</div>"
      ],
      "text/plain": [
       "      0  1  2  3  Label  Snorkel\n",
       "0     0  0  0  0 -1      0      \n",
       "1     0  0  0  0 -1      0      \n",
       "2     0  0 -1  0 -1     -1      \n",
       "3     0  0  0  0 -1      0      \n",
       "4     0  0  0  0 -1      0      \n",
       "...  .. .. .. .. ..     ..      \n",
       "3853  0  0 -1  0 -1     -1      \n",
       "3854  0  0  0  0 -1      0      \n",
       "3855  0  0  0  0 -1      0      \n",
       "3856  0  0  0  0 -1      0      \n",
       "3857  0  0  0  0 -1      0      \n",
       "\n",
       "[3858 rows x 6 columns]"
      ]
     },
     "metadata": {},
     "output_type": "display_data"
    },
    {
     "data": {
      "text/html": [
       "<div>\n",
       "<style scoped>\n",
       "    .dataframe tbody tr th:only-of-type {\n",
       "        vertical-align: middle;\n",
       "    }\n",
       "\n",
       "    .dataframe tbody tr th {\n",
       "        vertical-align: top;\n",
       "    }\n",
       "\n",
       "    .dataframe thead th {\n",
       "        text-align: right;\n",
       "    }\n",
       "</style>\n",
       "<table border=\"1\" class=\"dataframe\">\n",
       "  <thead>\n",
       "    <tr style=\"text-align: right;\">\n",
       "      <th></th>\n",
       "      <th>0</th>\n",
       "      <th>1</th>\n",
       "      <th>2</th>\n",
       "      <th>3</th>\n",
       "      <th>Label</th>\n",
       "      <th>Snorkel</th>\n",
       "    </tr>\n",
       "  </thead>\n",
       "  <tbody>\n",
       "    <tr>\n",
       "      <th>0</th>\n",
       "      <td>0</td>\n",
       "      <td>0</td>\n",
       "      <td>0</td>\n",
       "      <td>0</td>\n",
       "      <td>-1</td>\n",
       "      <td>0</td>\n",
       "    </tr>\n",
       "    <tr>\n",
       "      <th>1</th>\n",
       "      <td>0</td>\n",
       "      <td>0</td>\n",
       "      <td>0</td>\n",
       "      <td>0</td>\n",
       "      <td>-1</td>\n",
       "      <td>0</td>\n",
       "    </tr>\n",
       "    <tr>\n",
       "      <th>2</th>\n",
       "      <td>0</td>\n",
       "      <td>0</td>\n",
       "      <td>0</td>\n",
       "      <td>0</td>\n",
       "      <td>-1</td>\n",
       "      <td>0</td>\n",
       "    </tr>\n",
       "    <tr>\n",
       "      <th>3</th>\n",
       "      <td>0</td>\n",
       "      <td>0</td>\n",
       "      <td>0</td>\n",
       "      <td>0</td>\n",
       "      <td>-1</td>\n",
       "      <td>0</td>\n",
       "    </tr>\n",
       "    <tr>\n",
       "      <th>4</th>\n",
       "      <td>0</td>\n",
       "      <td>0</td>\n",
       "      <td>0</td>\n",
       "      <td>0</td>\n",
       "      <td>-1</td>\n",
       "      <td>0</td>\n",
       "    </tr>\n",
       "    <tr>\n",
       "      <th>...</th>\n",
       "      <td>...</td>\n",
       "      <td>...</td>\n",
       "      <td>...</td>\n",
       "      <td>...</td>\n",
       "      <td>...</td>\n",
       "      <td>...</td>\n",
       "    </tr>\n",
       "    <tr>\n",
       "      <th>548</th>\n",
       "      <td>0</td>\n",
       "      <td>0</td>\n",
       "      <td>0</td>\n",
       "      <td>0</td>\n",
       "      <td>-1</td>\n",
       "      <td>0</td>\n",
       "    </tr>\n",
       "    <tr>\n",
       "      <th>549</th>\n",
       "      <td>1</td>\n",
       "      <td>1</td>\n",
       "      <td>0</td>\n",
       "      <td>0</td>\n",
       "      <td>-1</td>\n",
       "      <td>1</td>\n",
       "    </tr>\n",
       "    <tr>\n",
       "      <th>550</th>\n",
       "      <td>0</td>\n",
       "      <td>0</td>\n",
       "      <td>0</td>\n",
       "      <td>0</td>\n",
       "      <td>-1</td>\n",
       "      <td>0</td>\n",
       "    </tr>\n",
       "    <tr>\n",
       "      <th>551</th>\n",
       "      <td>0</td>\n",
       "      <td>0</td>\n",
       "      <td>0</td>\n",
       "      <td>0</td>\n",
       "      <td>-1</td>\n",
       "      <td>0</td>\n",
       "    </tr>\n",
       "    <tr>\n",
       "      <th>552</th>\n",
       "      <td>0</td>\n",
       "      <td>0</td>\n",
       "      <td>0</td>\n",
       "      <td>0</td>\n",
       "      <td>-1</td>\n",
       "      <td>0</td>\n",
       "    </tr>\n",
       "  </tbody>\n",
       "</table>\n",
       "<p>553 rows × 6 columns</p>\n",
       "</div>"
      ],
      "text/plain": [
       "     0  1  2  3  Label  Snorkel\n",
       "0    0  0  0  0 -1      0      \n",
       "1    0  0  0  0 -1      0      \n",
       "2    0  0  0  0 -1      0      \n",
       "3    0  0  0  0 -1      0      \n",
       "4    0  0  0  0 -1      0      \n",
       "..  .. .. .. .. ..     ..      \n",
       "548  0  0  0  0 -1      0      \n",
       "549  1  1  0  0 -1      1      \n",
       "550  0  0  0  0 -1      0      \n",
       "551  0  0  0  0 -1      0      \n",
       "552  0  0  0  0 -1      0      \n",
       "\n",
       "[553 rows x 6 columns]"
      ]
     },
     "metadata": {},
     "output_type": "display_data"
    },
    {
     "data": {
      "text/html": [
       "<div>\n",
       "<style scoped>\n",
       "    .dataframe tbody tr th:only-of-type {\n",
       "        vertical-align: middle;\n",
       "    }\n",
       "\n",
       "    .dataframe tbody tr th {\n",
       "        vertical-align: top;\n",
       "    }\n",
       "\n",
       "    .dataframe thead th {\n",
       "        text-align: right;\n",
       "    }\n",
       "</style>\n",
       "<table border=\"1\" class=\"dataframe\">\n",
       "  <thead>\n",
       "    <tr style=\"text-align: right;\">\n",
       "      <th></th>\n",
       "      <th>0</th>\n",
       "      <th>1</th>\n",
       "      <th>2</th>\n",
       "      <th>3</th>\n",
       "      <th>Label</th>\n",
       "      <th>Snorkel</th>\n",
       "    </tr>\n",
       "  </thead>\n",
       "  <tbody>\n",
       "    <tr>\n",
       "      <th>0</th>\n",
       "      <td>0</td>\n",
       "      <td>0</td>\n",
       "      <td>0</td>\n",
       "      <td>0</td>\n",
       "      <td>1</td>\n",
       "      <td>0</td>\n",
       "    </tr>\n",
       "    <tr>\n",
       "      <th>1</th>\n",
       "      <td>0</td>\n",
       "      <td>0</td>\n",
       "      <td>0</td>\n",
       "      <td>0</td>\n",
       "      <td>-1</td>\n",
       "      <td>0</td>\n",
       "    </tr>\n",
       "    <tr>\n",
       "      <th>2</th>\n",
       "      <td>0</td>\n",
       "      <td>0</td>\n",
       "      <td>-1</td>\n",
       "      <td>-1</td>\n",
       "      <td>-1</td>\n",
       "      <td>-1</td>\n",
       "    </tr>\n",
       "    <tr>\n",
       "      <th>3</th>\n",
       "      <td>0</td>\n",
       "      <td>0</td>\n",
       "      <td>0</td>\n",
       "      <td>0</td>\n",
       "      <td>-1</td>\n",
       "      <td>0</td>\n",
       "    </tr>\n",
       "    <tr>\n",
       "      <th>4</th>\n",
       "      <td>0</td>\n",
       "      <td>0</td>\n",
       "      <td>0</td>\n",
       "      <td>0</td>\n",
       "      <td>-1</td>\n",
       "      <td>0</td>\n",
       "    </tr>\n",
       "    <tr>\n",
       "      <th>...</th>\n",
       "      <td>...</td>\n",
       "      <td>...</td>\n",
       "      <td>...</td>\n",
       "      <td>...</td>\n",
       "      <td>...</td>\n",
       "      <td>...</td>\n",
       "    </tr>\n",
       "    <tr>\n",
       "      <th>1096</th>\n",
       "      <td>0</td>\n",
       "      <td>0</td>\n",
       "      <td>0</td>\n",
       "      <td>0</td>\n",
       "      <td>-1</td>\n",
       "      <td>0</td>\n",
       "    </tr>\n",
       "    <tr>\n",
       "      <th>1097</th>\n",
       "      <td>0</td>\n",
       "      <td>0</td>\n",
       "      <td>0</td>\n",
       "      <td>0</td>\n",
       "      <td>-1</td>\n",
       "      <td>0</td>\n",
       "    </tr>\n",
       "    <tr>\n",
       "      <th>1098</th>\n",
       "      <td>0</td>\n",
       "      <td>0</td>\n",
       "      <td>0</td>\n",
       "      <td>0</td>\n",
       "      <td>-1</td>\n",
       "      <td>0</td>\n",
       "    </tr>\n",
       "    <tr>\n",
       "      <th>1099</th>\n",
       "      <td>0</td>\n",
       "      <td>0</td>\n",
       "      <td>0</td>\n",
       "      <td>0</td>\n",
       "      <td>-1</td>\n",
       "      <td>0</td>\n",
       "    </tr>\n",
       "    <tr>\n",
       "      <th>1100</th>\n",
       "      <td>0</td>\n",
       "      <td>0</td>\n",
       "      <td>0</td>\n",
       "      <td>0</td>\n",
       "      <td>-1</td>\n",
       "      <td>0</td>\n",
       "    </tr>\n",
       "  </tbody>\n",
       "</table>\n",
       "<p>1101 rows × 6 columns</p>\n",
       "</div>"
      ],
      "text/plain": [
       "      0  1  2  3  Label  Snorkel\n",
       "0     0  0  0  0  1      0      \n",
       "1     0  0  0  0 -1      0      \n",
       "2     0  0 -1 -1 -1     -1      \n",
       "3     0  0  0  0 -1      0      \n",
       "4     0  0  0  0 -1      0      \n",
       "...  .. .. .. .. ..     ..      \n",
       "1096  0  0  0  0 -1      0      \n",
       "1097  0  0  0  0 -1      0      \n",
       "1098  0  0  0  0 -1      0      \n",
       "1099  0  0  0  0 -1      0      \n",
       "1100  0  0  0  0 -1      0      \n",
       "\n",
       "[1101 rows x 6 columns]"
      ]
     },
     "metadata": {},
     "output_type": "display_data"
    }
   ],
   "source": [
    "# Replace -1 with 0 (abstain = 0 in our model).\n",
    "# Replace 0 with -1 (-1 is class label in our model).\n",
    "\n",
    "################################################################\n",
    "# TRAIN.\n",
    "L_train_new = np.where(L_train == -1, 5, L_train)\n",
    "L_train_new = np.where(L_train_new == 0, -1, L_train_new)\n",
    "L_train_new = np.where(L_train_new == 5, 0, L_train_new)\n",
    "y_train_new = np.where(y_train == 0, -1, y_train)\n",
    "\n",
    "df_L_train = pd.DataFrame(L_train_new)\n",
    "df_L_train[\"Label\"] = y_train_new\n",
    "df_L_train[\"Snorkel\"] = pred_train\n",
    "display(df_L_train)\n",
    "################################################################\n",
    "\n",
    "################################################################\n",
    "# VAL.\n",
    "L_val_new = np.where(L_val == -1, 5, L_val)\n",
    "L_val_new = np.where(L_val_new == 0, -1, L_val_new)\n",
    "L_val_new = np.where(L_val_new == 5, 0, L_val_new)\n",
    "y_val_new = np.where(y_val == 0, -1, y_val)\n",
    "\n",
    "df_L_val = pd.DataFrame(L_val_new)\n",
    "df_L_val[\"Label\"] = y_val_new\n",
    "df_L_val[\"Snorkel\"] = pred_val\n",
    "display(df_L_val)\n",
    "################################################################\n",
    "\n",
    "################################################################\n",
    "# TEST.\n",
    "L_test_new = np.where(L_test == -1, 5, L_test)\n",
    "L_test_new = np.where(L_test_new == 0, -1, L_test_new)\n",
    "L_test_new = np.where(L_test_new == 5, 0, L_test_new)\n",
    "y_test_new = np.where(y_test == 0, -1, y_test)\n",
    "\n",
    "df_L_test = pd.DataFrame(L_test_new)\n",
    "df_L_test[\"Label\"] = y_test_new\n",
    "df_L_test[\"Snorkel\"] = pred_test\n",
    "display(df_L_test)\n",
    "################################################################"
   ]
  },
  {
   "cell_type": "code",
   "execution_count": null,
   "metadata": {},
   "outputs": [],
   "source": [
    "# Export labeling function matrix for external experiments.\n",
    "df_L_train.to_csv(\"spouse_tuned_lf_matrix_train.csv\", index = False)\n",
    "df_L_val.to_csv(\"spouse_tuned_lf_matrix_val.csv\", index = False)\n",
    "df_L_test.to_csv(\"spouse_tuned_lf_matrix_test.csv\", index = False)"
   ]
  },
  {
   "cell_type": "code",
   "execution_count": null,
   "metadata": {},
   "outputs": [],
   "source": [
    "# Export labeling function matrix for external experiments.\n",
    "X_train.to_csv(\"spouse_tuned_train.csv\", index = False)\n",
    "X_val.to_csv(\"spouse_tuned_val.csv\", index = False)\n",
    "X_test.to_csv(\"spouse_tuned_test.csv\", index = False)"
   ]
  },
  {
   "cell_type": "markdown",
   "metadata": {},
   "source": [
    "### End of document"
   ]
  },
  {
   "cell_type": "code",
   "execution_count": null,
   "metadata": {},
   "outputs": [],
   "source": []
  }
 ],
 "metadata": {
  "jupytext": {
   "cell_metadata_filter": "tags,-all"
  },
  "kernelspec": {
   "display_name": "Python 3 (ipykernel)",
   "language": "python",
   "name": "python3"
  },
  "language_info": {
   "codemirror_mode": {
    "name": "ipython",
    "version": 3
   },
   "file_extension": ".py",
   "mimetype": "text/x-python",
   "name": "python",
   "nbconvert_exporter": "python",
   "pygments_lexer": "ipython3",
   "version": "3.10.2"
  }
 },
 "nbformat": 4,
 "nbformat_minor": 4
}
